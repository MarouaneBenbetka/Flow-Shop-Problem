{
 "cells": [
  {
   "cell_type": "markdown",
   "metadata": {},
   "source": [
    "# <center>Welcome FSP solved with local search based metaheuristics</center>"
   ]
  },
  {
   "cell_type": "markdown",
   "metadata": {},
   "source": [
    "This notebook presents a practical approach to solving the flowshop problem by implementing well-known local search based metaheuristics. These metaheuristics are effective in generating high-quality solutions for large instances of the problem, requiring only a reasonable amount of computational resources. Compared to heuristics, local search metaheuristics are more effective for solving the flowshop problem because they can escape from local optima and find better solutions\n",
    "\n",
    "# Table of Contents\n",
    "\n",
    "1. [Johnson **n** jobs **2** machines](#Johnson-**n**-jobs-**2**-machines)\n",
    "2. [CDS Heuristic](#cds-heuristic)\n",
    "3. [NEH Heuristic](#neh-heuristic)\n",
    "4. [Ham Heuristic](#ham-heuristic)\n",
    "5. [Palmer Heuristic](#palmer-heuristic)\n",
    "6. [PRSKE Heuristic](#prske-heuristic)\n",
    "8. [Chen Heuristic](#Chen-heuristic-(1983))\n",
    "7. [Weighted CDS Heuristic](#Weighted-CDS-heuristic)\n",
    "9. [Gupta Heuristic](#gupta-heuristic)\n",
    "10. [NRH Heuristic (NEW Ramzi Heuristic)](#nrh-heuristic-new-ramzi-heuristic)\n",
    "11. [Kusiak Heuristic ](#Kusiak-heuristic)\n",
    "12. [ Comparison Figure   ](#Comparison-Figure)\n",
    "\n",
    "\n"
   ]
  },
  {
   "cell_type": "markdown",
   "metadata": {},
   "source": [
    "## Data utils"
   ]
  },
  {
   "cell_type": "code",
   "execution_count": 1,
   "metadata": {},
   "outputs": [],
   "source": [
    "import numpy as np\n",
    "import random\n",
    "import time\n",
    "import math\n",
    "import pandas as pd\n",
    "import matplotlib.pyplot as plt\n",
    "from utils.benchmarks import benchmarks, upper_bound"
   ]
  },
  {
   "cell_type": "markdown",
   "metadata": {},
   "source": [
    "### Path Cost calculation function :\n",
    "Used to calculate the cost of current node, which is the correct cost starting for the actual path of executed jobs"
   ]
  },
  {
   "cell_type": "code",
   "execution_count": 2,
   "metadata": {},
   "outputs": [],
   "source": [
    "def calculate_makespan(processing_times, sequence):\n",
    "    n_jobs = len(sequence)\n",
    "    n_machines = len(processing_times[0])\n",
    "    end_time = [[0] * (n_machines + 1) for _ in range(n_jobs + 1)]\n",
    "\n",
    "    for j in range(1, n_jobs + 1):\n",
    "        for m in range(1, n_machines + 1):\n",
    "            end_time[j][m] = max(end_time[j][m - 1], end_time[j - 1]\n",
    "                                 [m]) + processing_times[sequence[j - 1]][m - 1]\n",
    "\n",
    "    return end_time[n_jobs][n_machines]"
   ]
  },
  {
   "cell_type": "markdown",
   "metadata": {},
   "source": [
    "### Gantt graph generator"
   ]
  },
  {
   "cell_type": "code",
   "execution_count": 3,
   "metadata": {},
   "outputs": [],
   "source": [
    "def generate_gantt_chart(processing_times, seq, interval=50, labeled=True):\n",
    "    data = processing_times.T\n",
    "    nb_jobs, nb_machines = processing_times.shape\n",
    "    schedules = np.zeros((nb_machines, nb_jobs), dtype=dict)\n",
    "    # schedule first job alone first\n",
    "    task = {\"name\": \"job_{}\".format(\n",
    "        seq[0]+1), \"start_time\": 0, \"end_time\": data[0][seq[0]]}\n",
    "\n",
    "    schedules[0][0] = task\n",
    "    for m_id in range(1, nb_machines):\n",
    "        start_t = schedules[m_id-1][0][\"end_time\"]\n",
    "        end_t = start_t + data[m_id][0]\n",
    "        task = {\"name\": \"job_{}\".format(\n",
    "            seq[0]+1), \"start_time\": start_t, \"end_time\": end_t}\n",
    "        schedules[m_id][0] = task\n",
    "\n",
    "    for index, job_id in enumerate(seq[1::]):\n",
    "        start_t = schedules[0][index][\"end_time\"]\n",
    "        end_t = start_t + data[0][job_id]\n",
    "        task = {\"name\": \"job_{}\".format(\n",
    "            job_id+1), \"start_time\": start_t, \"end_time\": end_t}\n",
    "        schedules[0][index+1] = task\n",
    "        for m_id in range(1, nb_machines):\n",
    "            start_t = max(schedules[m_id][index][\"end_time\"],\n",
    "                          schedules[m_id-1][index+1][\"end_time\"])\n",
    "            end_t = start_t + data[m_id][job_id]\n",
    "            task = {\"name\": \"job_{}\".format(\n",
    "                job_id+1), \"start_time\": start_t, \"end_time\": end_t}\n",
    "            schedules[m_id][index+1] = task\n",
    "\n",
    "    # create a new figure\n",
    "    fig, ax = plt.subplots(figsize=(18, 8))\n",
    "\n",
    "    # set y-axis ticks and labels\n",
    "    y_ticks = list(range(len(schedules)))\n",
    "    y_labels = [f'Machine {i+1}' for i in y_ticks]\n",
    "    ax.set_yticks(y_ticks)\n",
    "    ax.set_yticklabels(y_labels)\n",
    "\n",
    "    # calculate the total time\n",
    "    total_time = max([job['end_time'] for proc in schedules for job in proc])\n",
    "\n",
    "    # set x-axis limits and ticks\n",
    "    ax.set_xlim(0, total_time)\n",
    "    x_ticks = list(range(0, total_time+1, interval))\n",
    "    ax.set_xticks(x_ticks)\n",
    "\n",
    "    # set grid lines\n",
    "    ax.grid(True, axis='x', linestyle='--')\n",
    "\n",
    "    # create a color dictionary to map each job to a color\n",
    "    color_dict = {}\n",
    "    for proc in schedules:\n",
    "        for job in proc:\n",
    "            if job['name'] not in color_dict:\n",
    "                color_dict[job['name']] = (np.random.uniform(\n",
    "                    0, 1), np.random.uniform(0, 1), np.random.uniform(0, 1))\n",
    "\n",
    "    # plot the bars for each job on each processor\n",
    "    for i, proc in enumerate(schedules):\n",
    "        for job in proc:\n",
    "            start = job['start_time']\n",
    "            end = job['end_time']\n",
    "            duration = end - start\n",
    "            color = color_dict[job['name']]\n",
    "            ax.barh(i, duration, left=start, height=0.5,\n",
    "                    align='center', color=color, alpha=0.8)\n",
    "            if labeled:\n",
    "                # add job labels\n",
    "                label_x = start + duration/2\n",
    "                label_y = i\n",
    "                ax.text(\n",
    "                    label_x, label_y, job['name'][4:], ha='center', va='center', fontsize=10)\n",
    "\n",
    "    plt.show()"
   ]
  },
  {
   "cell_type": "markdown",
   "metadata": {},
   "source": [
    "## Neighborhood generation"
   ]
  },
  {
   "cell_type": "markdown",
   "metadata": {},
   "source": [
    "### SWAP"
   ]
  },
  {
   "cell_type": "code",
   "execution_count": 9,
   "metadata": {},
   "outputs": [],
   "source": [
    "def swap(solution, i, k):\n",
    "    solution[i], solution[k] = solution[k], solution[i]\n",
    "    return solution"
   ]
  },
  {
   "cell_type": "markdown",
   "metadata": {},
   "source": [
    "### Random SWAP"
   ]
  },
  {
   "cell_type": "code",
   "execution_count": 5,
   "metadata": {},
   "outputs": [],
   "source": [
    "def random_swap(solution):\n",
    "    i = random.choice(list(solution))\n",
    "    j = random.choice(list(solution))\n",
    "\n",
    "    new_solution = swap(solution, i, j)\n",
    "    \n",
    "    return new_solution"
   ]
  },
  {
   "cell_type": "markdown",
   "metadata": {},
   "source": [
    "### Best SWAP"
   ]
  },
  {
   "cell_type": "code",
   "execution_count": 6,
   "metadata": {},
   "outputs": [],
   "source": [
    "def best_swap(solution, i):\n",
    "    pass "
   ]
  },
  {
   "cell_type": "markdown",
   "metadata": {},
   "source": [
    "### First Admissible SWAP"
   ]
  },
  {
   "cell_type": "code",
   "execution_count": 7,
   "metadata": {},
   "outputs": [],
   "source": [
    "def first_admissible_swap(solution, i):\n",
    "    pass "
   ]
  },
  {
   "cell_type": "markdown",
   "metadata": {},
   "source": [
    "### First and Best Admissible SWAP"
   ]
  },
  {
   "cell_type": "code",
   "execution_count": 8,
   "metadata": {},
   "outputs": [],
   "source": [
    "def fba_swap(solution, i):\n",
    "    pass "
   ]
  },
  {
   "cell_type": "markdown",
   "metadata": {},
   "source": [
    "## Local Based Metaheuristics"
   ]
  },
  {
   "cell_type": "markdown",
   "metadata": {},
   "source": [
    "### Simulated annealing (RS) "
   ]
  },
  {
   "cell_type": "markdown",
   "metadata": {},
   "source": [
    "## Tests"
   ]
  }
 ],
 "metadata": {
  "kernelspec": {
   "display_name": "TP-yMQy8RZS",
   "language": "python",
   "name": "python3"
  },
  "language_info": {
   "codemirror_mode": {
    "name": "ipython",
    "version": 3
   },
   "file_extension": ".py",
   "mimetype": "text/x-python",
   "name": "python",
   "nbconvert_exporter": "python",
   "pygments_lexer": "ipython3",
   "version": "3.11.1"
  }
 },
 "nbformat": 4,
 "nbformat_minor": 2
}
