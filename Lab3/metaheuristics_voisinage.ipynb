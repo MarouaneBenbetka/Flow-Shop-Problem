{
 "cells": [
  {
   "cell_type": "markdown",
   "metadata": {},
   "source": [
    "# <center>Welcome FSP solved with local search based metaheuristics</center>"
   ]
  },
  {
   "cell_type": "markdown",
   "metadata": {},
   "source": [
    "This notebook presents a practical approach to solving the flowshop problem by implementing well-known local search based metaheuristics. These metaheuristics are effective in generating high-quality solutions for large instances of the problem, requiring only a reasonable amount of computational resources. Compared to heuristics, local search metaheuristics are more effective for solving the flowshop problem because they can escape from local optima and find better solutions\n",
    "\n",
    "# Table of Contents\n",
    "\n",
    "1. [Data utils](#Data-utils)\n",
    "2. [Neighborhood generation](#Neighborhood-generation)\n",
    "3. [Local Based Metaheuristics](#Local-Based-Metaheuristics)\n",
    "4. [Tests](#Tests)\n",
    "<!-- 2. 1. [SWAP](#SWAP)\n",
    "4. [Random SWAP](#Random-SWAP)\n",
    "5. [Best SWAP](#Best-SWAP)\n",
    "6. [First Admissible SWAP](#First-Admissible-SWAP)\n",
    "7. [First and Best Admissible SWAP](#First-and-Best-Admissible-SWAP) -->"
   ]
  },
  {
   "cell_type": "markdown",
   "metadata": {},
   "source": [
    "## Data utils"
   ]
  },
  {
   "cell_type": "code",
   "execution_count": 1,
   "metadata": {},
   "outputs": [],
   "source": [
    "import numpy as np\n",
    "import random\n",
    "import time\n",
    "import math\n",
    "import pandas as pd\n",
    "import matplotlib.pyplot as plt\n",
    "from utils.benchmarks import benchmarks, upper_bound"
   ]
  },
  {
   "cell_type": "markdown",
   "metadata": {},
   "source": [
    "### Path Cost calculation function :\n",
    "Used to calculate the cost of current node, which is the correct cost starting for the actual path of executed jobs"
   ]
  },
  {
   "cell_type": "code",
   "execution_count": 2,
   "metadata": {},
   "outputs": [],
   "source": [
    "def calculate_makespan(processing_times, sequence):\n",
    "    n_jobs = len(sequence)\n",
    "    n_machines = len(processing_times[0])\n",
    "    end_time = [[0] * (n_machines + 1) for _ in range(n_jobs + 1)]\n",
    "\n",
    "    for j in range(1, n_jobs + 1):\n",
    "        for m in range(1, n_machines + 1):\n",
    "            end_time[j][m] = max(end_time[j][m - 1], end_time[j - 1]\n",
    "                                 [m]) + processing_times[sequence[j - 1]][m - 1]\n",
    "\n",
    "    return end_time[n_jobs][n_machines]"
   ]
  },
  {
   "cell_type": "markdown",
   "metadata": {},
   "source": [
    "### Random data for tests"
   ]
  },
  {
   "cell_type": "code",
   "execution_count": 3,
   "metadata": {},
   "outputs": [
    {
     "name": "stdout",
     "output_type": "stream",
     "text": [
      "[[ 71  11  21  37  56]\n",
      " [109  42  28  86 102]\n",
      " [101  28 106  48  51]\n",
      " [ 97  36  56  82 116]\n",
      " [ 14 106  49  83  97]\n",
      " [ 17  63  10  66  30]\n",
      " [ 96 108  74  43  83]\n",
      " [ 16  47   5  32  69]\n",
      " [114  69 107  90  25]\n",
      " [ 15  29 118 114  11]\n",
      " [  6  71 117 100 115]\n",
      " [ 49  14  36  41  40]\n",
      " [ 61 100   7  86  62]\n",
      " [ 76  85  40 117  63]\n",
      " [ 42 118  21  55 105]\n",
      " [ 22  51  44   8  86]\n",
      " [119  23  11  10  52]\n",
      " [ 53  78  27  70 106]\n",
      " [ 71  86 115   7 100]\n",
      " [ 54 116  36  61  27]] \n",
      "\n",
      "Initial solution: [7, 18, 19, 11, 13, 0, 14, 16, 6, 8, 12, 9, 1, 15, 4, 10, 3, 17, 2, 5] \n",
      "\n",
      "Makespan: 1963\n"
     ]
    }
   ],
   "source": [
    "rnd_data = np.random.randint(size=(20,5), low=5, high=120)\n",
    "permutation = np.random.permutation(20).tolist()\n",
    "print(rnd_data, \"\\n\")\n",
    "print('Initial solution:', permutation, \"\\n\")\n",
    "\n",
    "Cmax = calculate_makespan(rnd_data, permutation)\n",
    "print(f'Makespan: {Cmax}')"
   ]
  },
  {
   "cell_type": "markdown",
   "metadata": {},
   "source": [
    "### Gantt graph generator"
   ]
  },
  {
   "cell_type": "code",
   "execution_count": 4,
   "metadata": {},
   "outputs": [],
   "source": [
    "def generate_gantt_chart(processing_times, seq, interval=50, labeled=True):\n",
    "    data = processing_times.T\n",
    "    nb_jobs, nb_machines = processing_times.shape\n",
    "    schedules = np.zeros((nb_machines, nb_jobs), dtype=dict)\n",
    "    # schedule first job alone first\n",
    "    task = {\"name\": \"job_{}\".format(\n",
    "        seq[0]+1), \"start_time\": 0, \"end_time\": data[0][seq[0]]}\n",
    "\n",
    "    schedules[0][0] = task\n",
    "    for m_id in range(1, nb_machines):\n",
    "        start_t = schedules[m_id-1][0][\"end_time\"]\n",
    "        end_t = start_t + data[m_id][0]\n",
    "        task = {\"name\": \"job_{}\".format(\n",
    "            seq[0]+1), \"start_time\": start_t, \"end_time\": end_t}\n",
    "        schedules[m_id][0] = task\n",
    "\n",
    "    for index, job_id in enumerate(seq[1::]):\n",
    "        start_t = schedules[0][index][\"end_time\"]\n",
    "        end_t = start_t + data[0][job_id]\n",
    "        task = {\"name\": \"job_{}\".format(\n",
    "            job_id+1), \"start_time\": start_t, \"end_time\": end_t}\n",
    "        schedules[0][index+1] = task\n",
    "        for m_id in range(1, nb_machines):\n",
    "            start_t = max(schedules[m_id][index][\"end_time\"],\n",
    "                          schedules[m_id-1][index+1][\"end_time\"])\n",
    "            end_t = start_t + data[m_id][job_id]\n",
    "            task = {\"name\": \"job_{}\".format(\n",
    "                job_id+1), \"start_time\": start_t, \"end_time\": end_t}\n",
    "            schedules[m_id][index+1] = task\n",
    "\n",
    "    # create a new figure\n",
    "    fig, ax = plt.subplots(figsize=(18, 8))\n",
    "\n",
    "    # set y-axis ticks and labels\n",
    "    y_ticks = list(range(len(schedules)))\n",
    "    y_labels = [f'Machine {i+1}' for i in y_ticks]\n",
    "    ax.set_yticks(y_ticks)\n",
    "    ax.set_yticklabels(y_labels)\n",
    "\n",
    "    # calculate the total time\n",
    "    total_time = max([job['end_time'] for proc in schedules for job in proc])\n",
    "\n",
    "    # set x-axis limits and ticks\n",
    "    ax.set_xlim(0, total_time)\n",
    "    x_ticks = list(range(0, total_time+1, interval))\n",
    "    ax.set_xticks(x_ticks)\n",
    "\n",
    "    # set grid lines\n",
    "    ax.grid(True, axis='x', linestyle='--')\n",
    "\n",
    "    # create a color dictionary to map each job to a color\n",
    "    color_dict = {}\n",
    "    for proc in schedules:\n",
    "        for job in proc:\n",
    "            if job['name'] not in color_dict:\n",
    "                color_dict[job['name']] = (np.random.uniform(\n",
    "                    0, 1), np.random.uniform(0, 1), np.random.uniform(0, 1))\n",
    "\n",
    "    # plot the bars for each job on each processor\n",
    "    for i, proc in enumerate(schedules):\n",
    "        for job in proc:\n",
    "            start = job['start_time']\n",
    "            end = job['end_time']\n",
    "            duration = end - start\n",
    "            color = color_dict[job['name']]\n",
    "            ax.barh(i, duration, left=start, height=0.5,\n",
    "                    align='center', color=color, alpha=0.8)\n",
    "            if labeled:\n",
    "                # add job labels\n",
    "                label_x = start + duration/2\n",
    "                label_y = i\n",
    "                ax.text(\n",
    "                    label_x, label_y, job['name'][4:], ha='center', va='center', fontsize=10)\n",
    "\n",
    "    plt.show()"
   ]
  },
  {
   "cell_type": "markdown",
   "metadata": {},
   "source": [
    "### INITIAL SOLUTION METHODS"
   ]
  },
  {
   "cell_type": "code",
   "execution_count": 5,
   "metadata": {},
   "outputs": [],
   "source": [
    "from utils.initial_sol_methods import neh_algorithm\n",
    "from utils.initial_sol_methods import PRSKE\n",
    "from utils.initial_sol_methods import ham_heuristic"
   ]
  },
  {
   "cell_type": "markdown",
   "metadata": {},
   "source": [
    "## Neighborhood generation"
   ]
  },
  {
   "cell_type": "markdown",
   "metadata": {},
   "source": [
    "### SWAP"
   ]
  },
  {
   "cell_type": "code",
   "execution_count": 6,
   "metadata": {},
   "outputs": [],
   "source": [
    "def swap(solution, i, k):\n",
    "    sol = solution.copy()\n",
    "    sol[i], sol[k] = sol[k], sol[i]\n",
    "    return sol"
   ]
  },
  {
   "cell_type": "markdown",
   "metadata": {},
   "source": [
    "### Random SWAP"
   ]
  },
  {
   "cell_type": "code",
   "execution_count": 7,
   "metadata": {},
   "outputs": [],
   "source": [
    "def random_swap(solution, processing_times):\n",
    "    i = random.choice(list(solution))\n",
    "    j = random.choice(list(solution))\n",
    "\n",
    "    while i == j:\n",
    "        j = random.choice(list(solution))\n",
    "\n",
    "    new_solution = swap(solution, i, j)\n",
    "    \n",
    "    return new_solution, calculate_makespan(processing_times, new_solution)"
   ]
  },
  {
   "cell_type": "code",
   "execution_count": 8,
   "metadata": {},
   "outputs": [
    {
     "name": "stdout",
     "output_type": "stream",
     "text": [
      "Original_solution:  [7, 18, 19, 11, 13, 0, 14, 16, 6, 8, 12, 9, 1, 15, 4, 10, 3, 17, 2, 5]\n",
      "Cmax =  1963\n",
      "\n",
      "Neighbor_solution:  [7, 18, 19, 11, 13, 0, 14, 16, 6, 8, 12, 9, 10, 15, 4, 1, 3, 17, 2, 5]\n",
      "Neighor_cmax =  1977\n"
     ]
    }
   ],
   "source": [
    "neighbor_sol, neighbor_cmax = random_swap(permutation, rnd_data)\n",
    "\n",
    "print(\"Original_solution: \", permutation)\n",
    "print(\"Cmax = \", Cmax)\n",
    "\n",
    "print(\"\\nNeighbor_solution: \", neighbor_sol)\n",
    "print(\"Neighor_cmax = \", neighbor_cmax)"
   ]
  },
  {
   "cell_type": "markdown",
   "metadata": {},
   "source": [
    "### Best SWAP"
   ]
  },
  {
   "cell_type": "code",
   "execution_count": 9,
   "metadata": {},
   "outputs": [],
   "source": [
    "def best_swap(solution, processing_times):\n",
    "    sequence = solution.copy()\n",
    "    num_jobs = len(solution)\n",
    "    Cmax = calculate_makespan(processing_times, solution)\n",
    "\n",
    "    for i in range(num_jobs):\n",
    "        for j in range(i+1, num_jobs):\n",
    "            new_solution = swap(sequence, i, j)\n",
    "            makespan = calculate_makespan(processing_times, new_solution)\n",
    "\n",
    "            if makespan < Cmax:\n",
    "                sequence = new_solution\n",
    "                Cmax = makespan\n",
    "\n",
    "    return sequence, Cmax"
   ]
  },
  {
   "cell_type": "code",
   "execution_count": 10,
   "metadata": {},
   "outputs": [
    {
     "name": "stdout",
     "output_type": "stream",
     "text": [
      "Original_solution:  [7, 18, 19, 11, 13, 0, 14, 16, 6, 8, 12, 9, 1, 15, 4, 10, 3, 17, 2, 5]\n",
      "Cmax =  1963\n",
      "\n",
      "Neighbor_solution:  [10, 17, 4, 11, 13, 0, 14, 16, 6, 8, 18, 12, 1, 7, 9, 19, 15, 3, 2, 5]\n",
      "Neighor_cmax =  1690\n"
     ]
    }
   ],
   "source": [
    "neighbor_sol, neighbor_cmax = best_swap(permutation, rnd_data)\n",
    "\n",
    "print(\"Original_solution: \", permutation)\n",
    "print(\"Cmax = \", Cmax)\n",
    "\n",
    "print(\"\\nNeighbor_solution: \", neighbor_sol)\n",
    "print(\"Neighor_cmax = \", neighbor_cmax)"
   ]
  },
  {
   "cell_type": "markdown",
   "metadata": {},
   "source": [
    "### First Admissible SWAP"
   ]
  },
  {
   "cell_type": "code",
   "execution_count": 11,
   "metadata": {},
   "outputs": [],
   "source": [
    "def first_admissible_swap(solution, processing_times):\n",
    "\n",
    "    num_jobs = len(solution)\n",
    "    Cmax = calculate_makespan(processing_times, solution)\n",
    "\n",
    "    for i in range(num_jobs):\n",
    "        for j in range(i+1, num_jobs):\n",
    "            new_solution = swap(solution, i, j)\n",
    "            makespan = calculate_makespan(processing_times, new_solution)\n",
    "\n",
    "            if makespan < Cmax:\n",
    "                return new_solution, makespan\n",
    "\n",
    "    return solution, Cmax "
   ]
  },
  {
   "cell_type": "code",
   "execution_count": 12,
   "metadata": {},
   "outputs": [
    {
     "name": "stdout",
     "output_type": "stream",
     "text": [
      "Original_solution:  [7, 18, 19, 11, 13, 0, 14, 16, 6, 8, 12, 9, 1, 15, 4, 10, 3, 17, 2, 5]\n",
      "Cmax =  1963\n",
      "\n",
      "Neighbor_solution:  [12, 18, 19, 11, 13, 0, 14, 16, 6, 8, 7, 9, 1, 15, 4, 10, 3, 17, 2, 5]\n",
      "Neighor_cmax =  1955\n"
     ]
    }
   ],
   "source": [
    "neighbor_sol, neighbor_cmax = first_admissible_swap(permutation, rnd_data)\n",
    "\n",
    "print(\"Original_solution: \", permutation)\n",
    "print(\"Cmax = \", Cmax)\n",
    "\n",
    "print(\"\\nNeighbor_solution: \", neighbor_sol)\n",
    "print(\"Neighor_cmax = \", neighbor_cmax)"
   ]
  },
  {
   "cell_type": "markdown",
   "metadata": {},
   "source": [
    "### First and Best Admissible SWAP"
   ]
  },
  {
   "cell_type": "code",
   "execution_count": 13,
   "metadata": {},
   "outputs": [],
   "source": [
    "def fba_swap(solution, processing_times, best_global_sol):\n",
    "    sequence = solution.copy()\n",
    "    num_jobs = len(sequence)\n",
    "    Cmax = calculate_makespan(processing_times, sequence)\n",
    "    Smax = calculate_makespan(processing_times, best_global_sol)\n",
    "    for i in range(num_jobs):\n",
    "        for j in range(i+1, num_jobs):\n",
    "            new_solution = swap(solution, i, j)\n",
    "            makespan = calculate_makespan(processing_times, new_solution)\n",
    "\n",
    "            # First improving solution\n",
    "            if makespan < Cmax:\n",
    "                # Improves the global solution\n",
    "                if makespan < Smax:\n",
    "                    return new_solution, makespan, new_solution \n",
    "                Cmax = makespan\n",
    "                sequence = new_solution                \n",
    "\n",
    "    return sequence, Cmax, best_global_sol "
   ]
  },
  {
   "cell_type": "code",
   "execution_count": 14,
   "metadata": {},
   "outputs": [
    {
     "name": "stdout",
     "output_type": "stream",
     "text": [
      "Original_solution:  [7, 18, 19, 11, 13, 0, 14, 16, 6, 8, 12, 9, 1, 15, 4, 10, 3, 17, 2, 5]\n",
      "Cmax =  1963\n",
      "\n",
      "Best_original_global_solution:  [0, 2, 4, 5, 18, 6, 11, 19, 3, 7, 17, 1, 15, 16, 9, 13, 12, 10, 8, 14]\n",
      "Best_global_initial_cmax =  1787\n",
      "\n",
      "Neighbor_solution:  [7, 18, 19, 11, 13, 0, 14, 16, 6, 3, 12, 9, 1, 15, 4, 10, 8, 17, 2, 5]\n",
      "Neighor_cmax =  1812\n",
      "\n",
      "Best_global_solution:  [0, 2, 4, 5, 18, 6, 11, 19, 3, 7, 17, 1, 15, 16, 9, 13, 12, 10, 8, 14]\n",
      "Best_global_cmax =  1787\n"
     ]
    }
   ],
   "source": [
    "best_global = np.random.permutation(20).tolist()\n",
    "\n",
    "while calculate_makespan(rnd_data, best_global) > Cmax:\n",
    "    best_global = np.random.permutation(20).tolist()\n",
    "\n",
    "neighbor_sol, neighbor_cmax, best_global_found = fba_swap(permutation, rnd_data, best_global)\n",
    "\n",
    "print(\"Original_solution: \", permutation)\n",
    "print(\"Cmax = \", Cmax)\n",
    "\n",
    "print(\"\\nBest_original_global_solution: \", best_global)\n",
    "print(\"Best_global_initial_cmax = \", calculate_makespan(rnd_data, best_global))\n",
    "\n",
    "print(\"\\nNeighbor_solution: \", neighbor_sol)\n",
    "print(\"Neighor_cmax = \", neighbor_cmax)\n",
    "\n",
    "print(\"\\nBest_global_solution: \", best_global_found)\n",
    "print(\"Best_global_cmax = \", calculate_makespan(rnd_data, best_global_found))"
   ]
  },
  {
   "cell_type": "markdown",
   "metadata": {},
   "source": [
    "## Local Based Metaheuristics"
   ]
  },
  {
   "cell_type": "markdown",
   "metadata": {},
   "source": [
    "### Simulated annealing (RS) "
   ]
  },
  {
   "cell_type": "markdown",
   "metadata": {},
   "source": [
    "#### General method to get neighbors (except first and best admissible)"
   ]
  },
  {
   "cell_type": "code",
   "execution_count": 15,
   "metadata": {},
   "outputs": [],
   "source": [
    "def get_neighbor(processing_times, solution, method='random_swap'):\n",
    "    if method == 'random_swap':\n",
    "        sol, val = random_swap(solution, processing_times)\n",
    "    elif method == 'best_swap':\n",
    "        sol, val = best_swap(solution, processing_times)\n",
    "    elif method == 'first_admissible_swap':\n",
    "        sol, val = first_admissible_swap(solution, processing_times)\n",
    "    else:\n",
    "        i = random.randint(0, 2)\n",
    "        if i == 0:\n",
    "            sol, val = random_swap(solution, processing_times)\n",
    "        elif i == 1:\n",
    "            sol, val = best_swap(solution, processing_times)\n",
    "        elif i == 2:\n",
    "            sol, val = first_admissible_swap(solution, processing_times)\n",
    "    return sol, val"
   ]
  },
  {
   "cell_type": "code",
   "execution_count": 16,
   "metadata": {},
   "outputs": [],
   "source": [
    "def RS(processing_times, initial_solution, temp, method='random_swap', alpha=0.6, nb_palier= 10, it_max=100):\n",
    "    solution = initial_solution.copy()\n",
    "    makespan = calculate_makespan(processing_times, solution)\n",
    "    print('init_sol: ',solution, ' makespan = ', makespan, \"\\n\")\n",
    "    it = 0\n",
    "    while it < it_max:\n",
    "        for i in range(nb_palier):\n",
    "            sol, value = get_neighbor(processing_times, solution, method)\n",
    "            # print('Swap_sol: ',sol,' makespan = ', value)\n",
    "            delta = makespan - value\n",
    "            if delta > 0:\n",
    "                solution = sol\n",
    "                makespan = value\n",
    "            else:\n",
    "                if random.uniform(0, 1) < math.exp(delta / temp):\n",
    "                    solution = sol\n",
    "        temp = alpha * temp\n",
    "        it += 1\n",
    "    \n",
    "    return solution"
   ]
  },
  {
   "cell_type": "markdown",
   "metadata": {},
   "source": [
    "### RS with first and best admissible swap "
   ]
  },
  {
   "cell_type": "code",
   "execution_count": 17,
   "metadata": {},
   "outputs": [],
   "source": [
    "def RS_fba(processing_times, initial_solution, intitial_global, temp, alpha=0.6, nb_palier= 1, it_max=100):\n",
    "    solution = initial_solution.copy()\n",
    "    makespan = calculate_makespan(processing_times, solution)\n",
    "    print('init_sol: ',solution, ' makespan = ', makespan)\n",
    "    it = 0\n",
    "    print('initial_global_solution: ',intitial_global, ' global_makespan = ', calculate_makespan(processing_times, intitial_global), \"\\n\")\n",
    "    best_global = intitial_global.copy()\n",
    "    while it < it_max :\n",
    "        for i in range(nb_palier):\n",
    "            sol, value, best_global = fba_swap(solution, processing_times, best_global)\n",
    "            # print('FBA_swap_sol: ',sol,' makespan = ', value)\n",
    "            delta = makespan - value\n",
    "            if delta > 0:\n",
    "                solution = sol\n",
    "                makespan = value\n",
    "            else:\n",
    "                if random.uniform(0, 1) < math.exp(delta / temp):\n",
    "                    solution = sol\n",
    "        temp = alpha * temp\n",
    "        it += 1\n",
    "    \n",
    "    return solution, best_global"
   ]
  },
  {
   "cell_type": "markdown",
   "metadata": {},
   "source": [
    "## Tests\n",
    "\n",
    "We can adjust the swapping method to see the differences in tests"
   ]
  },
  {
   "cell_type": "code",
   "execution_count": 18,
   "metadata": {},
   "outputs": [],
   "source": [
    "benchmark = benchmarks[0]\n",
    "\n",
    "best_global = np.random.permutation(20).tolist()\n",
    "while calculate_makespan(rnd_data, best_global) > Cmax:\n",
    "    best_global = np.random.permutation(20).tolist()"
   ]
  },
  {
   "cell_type": "markdown",
   "metadata": {},
   "source": [
    "### Random initial solution"
   ]
  },
  {
   "cell_type": "markdown",
   "metadata": {},
   "source": [
    "#### Without FBA swapping method"
   ]
  },
  {
   "cell_type": "code",
   "execution_count": 19,
   "metadata": {},
   "outputs": [
    {
     "name": "stdout",
     "output_type": "stream",
     "text": [
      "init_sol:  [7, 18, 19, 11, 13, 0, 14, 16, 6, 8, 12, 9, 1, 15, 4, 10, 3, 17, 2, 5]  makespan =  1607 \n",
      "\n"
     ]
    }
   ],
   "source": [
    "rs_solution = RS(benchmark, permutation, 5, method='random_swap')"
   ]
  },
  {
   "cell_type": "markdown",
   "metadata": {},
   "source": [
    "#### With FBA swapping method"
   ]
  },
  {
   "cell_type": "code",
   "execution_count": 20,
   "metadata": {},
   "outputs": [
    {
     "name": "stdout",
     "output_type": "stream",
     "text": [
      "init_sol:  [7, 18, 19, 11, 13, 0, 14, 16, 6, 8, 12, 9, 1, 15, 4, 10, 3, 17, 2, 5]  makespan =  1607\n",
      "initial_global_solution:  [12, 2, 15, 7, 10, 6, 17, 0, 19, 1, 18, 9, 8, 4, 13, 5, 11, 14, 16, 3]  global_makespan =  1537 \n",
      "\n"
     ]
    }
   ],
   "source": [
    "rs_fba_solution, best_global_found = RS_fba(benchmark, permutation, best_global, 5)"
   ]
  },
  {
   "cell_type": "code",
   "execution_count": 21,
   "metadata": {},
   "outputs": [
    {
     "name": "stdout",
     "output_type": "stream",
     "text": [
      "Results of random:\n",
      "First sequence: [7, 18, 19, 11, 13, 0, 14, 16, 6, 8, 12, 9, 1, 15, 4, 10, 3, 17, 2, 5] with a makespan of 1607.\n",
      "\n",
      "Results of RS:\n",
      "Best solution: [8, 14, 7, 15, 2, 5, 4, 13, 0, 16, 18, 3, 9, 10, 6, 17, 19, 11, 1, 12] with a makespan of 1321.\n",
      "\n",
      "Results of RS_FBA:\n",
      "Best solution: [2, 14, 13, 3, 12, 0, 18, 10, 6, 8, 5, 7, 1, 15, 4, 17, 11, 19, 16, 9] with a makespan of 1339.\n",
      "Best global solution: [2, 14, 13, 3, 12, 0, 18, 10, 6, 8, 5, 7, 1, 15, 4, 17, 11, 19, 16, 9] with a makespan of 1339.\n"
     ]
    }
   ],
   "source": [
    "print('Results of random:')\n",
    "print(f'First sequence: {permutation} with a makespan of {calculate_makespan(benchmark, permutation)}.')\n",
    "print('\\nResults of RS:')\n",
    "print(f'Best solution: {rs_solution} with a makespan of {calculate_makespan(benchmark, rs_solution)}.')\n",
    "print('\\nResults of RS_FBA:')\n",
    "print(f'Best solution: {rs_fba_solution} with a makespan of {calculate_makespan(benchmark, rs_fba_solution)}.')\n",
    "print(f'Best global solution: {best_global_found} with a makespan of {calculate_makespan(benchmark, best_global_found)}.')"
   ]
  },
  {
   "cell_type": "markdown",
   "metadata": {},
   "source": [
    "### NEH initial solution"
   ]
  },
  {
   "cell_type": "markdown",
   "metadata": {},
   "source": [
    "#### Without FBA swapping method"
   ]
  },
  {
   "cell_type": "code",
   "execution_count": 22,
   "metadata": {},
   "outputs": [
    {
     "name": "stdout",
     "output_type": "stream",
     "text": [
      "init_sol:  [8, 6, 15, 10, 7, 1, 16, 2, 14, 13, 17, 3, 9, 11, 0, 18, 5, 4, 12, 19]  makespan =  1334 \n",
      "\n"
     ]
    }
   ],
   "source": [
    "initialSolution, makespan = neh_algorithm(benchmark)\n",
    "rs_solution = RS(benchmark, initialSolution, 5)"
   ]
  },
  {
   "cell_type": "markdown",
   "metadata": {},
   "source": [
    "#### With FBA swapping method"
   ]
  },
  {
   "cell_type": "code",
   "execution_count": 23,
   "metadata": {},
   "outputs": [
    {
     "name": "stdout",
     "output_type": "stream",
     "text": [
      "init_sol:  [8, 6, 15, 10, 7, 1, 16, 2, 14, 13, 17, 3, 9, 11, 0, 18, 5, 4, 12, 19]  makespan =  1334\n",
      "initial_global_solution:  [12, 2, 15, 7, 10, 6, 17, 0, 19, 1, 18, 9, 8, 4, 13, 5, 11, 14, 16, 3]  global_makespan =  1537 \n",
      "\n"
     ]
    }
   ],
   "source": [
    "rs_fba_solution, best_global_found = RS_fba(benchmark, initialSolution, best_global, 5)"
   ]
  },
  {
   "cell_type": "code",
   "execution_count": 24,
   "metadata": {},
   "outputs": [
    {
     "name": "stdout",
     "output_type": "stream",
     "text": [
      "Results of NEH:\n",
      "First sequence: [8, 6, 15, 10, 7, 1, 16, 2, 14, 13, 17, 3, 9, 11, 0, 18, 5, 4, 12, 19] with a makespan of 1334.\n",
      "\n",
      "Results of RS:\n",
      "Best solution: [16, 14, 5, 12, 3, 8, 7, 1, 17, 6, 11, 10, 2, 4, 15, 0, 18, 13, 9, 19] with a makespan of 1297.\n",
      "\n",
      "Results of RS_FBA:\n",
      "Best solution: [8, 12, 15, 10, 7, 1, 16, 2, 14, 13, 17, 3, 4, 11, 0, 18, 5, 9, 6, 19] with a makespan of 1305.\n",
      "Best global solution: [8, 12, 15, 10, 7, 1, 16, 2, 14, 13, 17, 3, 4, 11, 0, 18, 5, 9, 6, 19] with a makespan of 1305.\n"
     ]
    }
   ],
   "source": [
    "print('Results of NEH:')\n",
    "print(f'First sequence: {initialSolution} with a makespan of {makespan}.')\n",
    "print('\\nResults of RS:')\n",
    "print(f'Best solution: {rs_solution} with a makespan of {calculate_makespan(benchmark, rs_solution)}.')\n",
    "print('\\nResults of RS_FBA:')\n",
    "print(f'Best solution: {rs_fba_solution} with a makespan of {calculate_makespan(benchmark, rs_fba_solution)}.')\n",
    "print(f'Best global solution: {best_global_found} with a makespan of {calculate_makespan(benchmark, best_global_found)}.')"
   ]
  },
  {
   "cell_type": "markdown",
   "metadata": {},
   "source": [
    "### PRSKE initial solution"
   ]
  },
  {
   "cell_type": "markdown",
   "metadata": {},
   "source": [
    "#### Without FBA swapping method"
   ]
  },
  {
   "cell_type": "code",
   "execution_count": 25,
   "metadata": {},
   "outputs": [
    {
     "name": "stdout",
     "output_type": "stream",
     "text": [
      "init_sol:  [3, 17, 10, 1, 9, 11, 6, 4, 19, 15, 18, 5, 0, 12, 8, 13, 14, 7, 16, 2]  makespan =  1593 \n",
      "\n"
     ]
    }
   ],
   "source": [
    "initialSolution, makespan  = PRSKE(benchmark)\n",
    "rs_solution = RS(benchmark, initialSolution, 5)"
   ]
  },
  {
   "cell_type": "markdown",
   "metadata": {},
   "source": [
    "#### With FBA swapping method"
   ]
  },
  {
   "cell_type": "code",
   "execution_count": 26,
   "metadata": {},
   "outputs": [
    {
     "name": "stdout",
     "output_type": "stream",
     "text": [
      "init_sol:  [3, 17, 10, 1, 9, 11, 6, 4, 19, 15, 18, 5, 0, 12, 8, 13, 14, 7, 16, 2]  makespan =  1593\n",
      "initial_global_solution:  [12, 2, 15, 7, 10, 6, 17, 0, 19, 1, 18, 9, 8, 4, 13, 5, 11, 14, 16, 3]  global_makespan =  1537 \n",
      "\n"
     ]
    }
   ],
   "source": [
    "rs_fba_solution, best_global_found = RS_fba(benchmark, initialSolution, best_global, 5)"
   ]
  },
  {
   "cell_type": "code",
   "execution_count": 27,
   "metadata": {},
   "outputs": [
    {
     "name": "stdout",
     "output_type": "stream",
     "text": [
      "Results of PRSKE:\n",
      "First sequence: [3, 17, 10, 1, 9, 11, 6, 4, 19, 15, 18, 5, 0, 12, 8, 13, 14, 7, 16, 2] with a makespan of 1593.\n",
      "\n",
      "Results of RS:\n",
      "Best solution: [14, 1, 5, 0, 8, 3, 13, 10, 4, 6, 16, 2, 17, 18, 7, 11, 15, 12, 9, 19] with a makespan of 1297\n",
      "\n",
      "Results of RS_FBA:\n",
      "Best solution: [6, 13, 10, 17, 16, 14, 3, 4, 19, 15, 18, 5, 0, 1, 2, 8, 11, 7, 9, 12] with a makespan of 1359.\n",
      "Best global solution: [6, 13, 10, 17, 16, 14, 3, 4, 19, 15, 18, 5, 0, 1, 2, 8, 11, 7, 9, 12] with a makespan of 1359.\n"
     ]
    }
   ],
   "source": [
    "print('Results of PRSKE:')\n",
    "print(f'First sequence: {initialSolution} with a makespan of {makespan}.')\n",
    "print('\\nResults of RS:')\n",
    "print(f'Best solution: {rs_solution} with a makespan of {calculate_makespan(benchmark, rs_solution)}')\n",
    "print('\\nResults of RS_FBA:')\n",
    "print(f'Best solution: {rs_fba_solution} with a makespan of {calculate_makespan(benchmark, rs_fba_solution)}.')\n",
    "print(f'Best global solution: {best_global_found} with a makespan of {calculate_makespan(benchmark, best_global_found)}.')"
   ]
  }
 ],
 "metadata": {
  "kernelspec": {
   "display_name": "TP-yMQy8RZS",
   "language": "python",
   "name": "python3"
  },
  "language_info": {
   "codemirror_mode": {
    "name": "ipython",
    "version": 3
   },
   "file_extension": ".py",
   "mimetype": "text/x-python",
   "name": "python",
   "nbconvert_exporter": "python",
   "pygments_lexer": "ipython3",
   "version": "3.11.1"
  }
 },
 "nbformat": 4,
 "nbformat_minor": 2
}
