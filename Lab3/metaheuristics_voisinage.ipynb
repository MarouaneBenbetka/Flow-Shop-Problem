{
 "cells": [
  {
   "cell_type": "markdown",
   "metadata": {},
   "source": [
    "# <center>Welcome FSP solved with local search based metaheuristics</center>"
   ]
  },
  {
   "cell_type": "markdown",
   "metadata": {},
   "source": [
    "This notebook presents a practical approach to solving the flowshop problem by implementing well-known local search based metaheuristics. These metaheuristics are effective in generating high-quality solutions for large instances of the problem, requiring only a reasonable amount of computational resources. Compared to heuristics, local search metaheuristics are more effective for solving the flowshop problem because they can escape from local optima and find better solutions\n",
    "\n",
    "# Table of Contents\n",
    "\n",
    "1. [Johnson **n** jobs **2** machines](#Johnson-**n**-jobs-**2**-machines)\n",
    "2. [CDS Heuristic](#cds-heuristic)\n",
    "3. [NEH Heuristic](#neh-heuristic)\n",
    "4. [Ham Heuristic](#ham-heuristic)\n",
    "5. [Palmer Heuristic](#palmer-heuristic)\n",
    "6. [PRSKE Heuristic](#prske-heuristic)\n",
    "8. [Chen Heuristic](#Chen-heuristic-(1983))\n",
    "7. [Weighted CDS Heuristic](#Weighted-CDS-heuristic)\n",
    "9. [Gupta Heuristic](#gupta-heuristic)\n",
    "10. [NRH Heuristic (NEW Ramzi Heuristic)](#nrh-heuristic-new-ramzi-heuristic)\n",
    "11. [Kusiak Heuristic ](#Kusiak-heuristic)\n",
    "12. [ Comparison Figure   ](#Comparison-Figure)\n",
    "\n",
    "\n"
   ]
  },
  {
   "cell_type": "markdown",
   "metadata": {},
   "source": [
    "## Data utils"
   ]
  },
  {
   "cell_type": "code",
   "execution_count": 1,
   "metadata": {},
   "outputs": [],
   "source": [
    "import numpy as np\n",
    "import random\n",
    "import time\n",
    "import math\n",
    "import pandas as pd\n",
    "import matplotlib.pyplot as plt\n",
    "from utils.benchmarks import benchmarks, upper_bound"
   ]
  },
  {
   "cell_type": "markdown",
   "metadata": {},
   "source": [
    "### Path Cost calculation function :\n",
    "Used to calculate the cost of current node, which is the correct cost starting for the actual path of executed jobs"
   ]
  },
  {
   "cell_type": "code",
   "execution_count": 2,
   "metadata": {},
   "outputs": [],
   "source": [
    "def calculate_makespan(processing_times, sequence):\n",
    "    n_jobs = len(sequence)\n",
    "    n_machines = len(processing_times[0])\n",
    "    end_time = [[0] * (n_machines + 1) for _ in range(n_jobs + 1)]\n",
    "\n",
    "    for j in range(1, n_jobs + 1):\n",
    "        for m in range(1, n_machines + 1):\n",
    "            end_time[j][m] = max(end_time[j][m - 1], end_time[j - 1]\n",
    "                                 [m]) + processing_times[sequence[j - 1]][m - 1]\n",
    "\n",
    "    return end_time[n_jobs][n_machines]"
   ]
  },
  {
   "cell_type": "markdown",
   "metadata": {},
   "source": [
    "### Gantt graph generator"
   ]
  },
  {
   "cell_type": "code",
   "execution_count": 3,
   "metadata": {},
   "outputs": [],
   "source": [
    "def generate_gantt_chart(processing_times, seq, interval=50, labeled=True):\n",
    "    data = processing_times.T\n",
    "    nb_jobs, nb_machines = processing_times.shape\n",
    "    schedules = np.zeros((nb_machines, nb_jobs), dtype=dict)\n",
    "    # schedule first job alone first\n",
    "    task = {\"name\": \"job_{}\".format(\n",
    "        seq[0]+1), \"start_time\": 0, \"end_time\": data[0][seq[0]]}\n",
    "\n",
    "    schedules[0][0] = task\n",
    "    for m_id in range(1, nb_machines):\n",
    "        start_t = schedules[m_id-1][0][\"end_time\"]\n",
    "        end_t = start_t + data[m_id][0]\n",
    "        task = {\"name\": \"job_{}\".format(\n",
    "            seq[0]+1), \"start_time\": start_t, \"end_time\": end_t}\n",
    "        schedules[m_id][0] = task\n",
    "\n",
    "    for index, job_id in enumerate(seq[1::]):\n",
    "        start_t = schedules[0][index][\"end_time\"]\n",
    "        end_t = start_t + data[0][job_id]\n",
    "        task = {\"name\": \"job_{}\".format(\n",
    "            job_id+1), \"start_time\": start_t, \"end_time\": end_t}\n",
    "        schedules[0][index+1] = task\n",
    "        for m_id in range(1, nb_machines):\n",
    "            start_t = max(schedules[m_id][index][\"end_time\"],\n",
    "                          schedules[m_id-1][index+1][\"end_time\"])\n",
    "            end_t = start_t + data[m_id][job_id]\n",
    "            task = {\"name\": \"job_{}\".format(\n",
    "                job_id+1), \"start_time\": start_t, \"end_time\": end_t}\n",
    "            schedules[m_id][index+1] = task\n",
    "\n",
    "    # create a new figure\n",
    "    fig, ax = plt.subplots(figsize=(18, 8))\n",
    "\n",
    "    # set y-axis ticks and labels\n",
    "    y_ticks = list(range(len(schedules)))\n",
    "    y_labels = [f'Machine {i+1}' for i in y_ticks]\n",
    "    ax.set_yticks(y_ticks)\n",
    "    ax.set_yticklabels(y_labels)\n",
    "\n",
    "    # calculate the total time\n",
    "    total_time = max([job['end_time'] for proc in schedules for job in proc])\n",
    "\n",
    "    # set x-axis limits and ticks\n",
    "    ax.set_xlim(0, total_time)\n",
    "    x_ticks = list(range(0, total_time+1, interval))\n",
    "    ax.set_xticks(x_ticks)\n",
    "\n",
    "    # set grid lines\n",
    "    ax.grid(True, axis='x', linestyle='--')\n",
    "\n",
    "    # create a color dictionary to map each job to a color\n",
    "    color_dict = {}\n",
    "    for proc in schedules:\n",
    "        for job in proc:\n",
    "            if job['name'] not in color_dict:\n",
    "                color_dict[job['name']] = (np.random.uniform(\n",
    "                    0, 1), np.random.uniform(0, 1), np.random.uniform(0, 1))\n",
    "\n",
    "    # plot the bars for each job on each processor\n",
    "    for i, proc in enumerate(schedules):\n",
    "        for job in proc:\n",
    "            start = job['start_time']\n",
    "            end = job['end_time']\n",
    "            duration = end - start\n",
    "            color = color_dict[job['name']]\n",
    "            ax.barh(i, duration, left=start, height=0.5,\n",
    "                    align='center', color=color, alpha=0.8)\n",
    "            if labeled:\n",
    "                # add job labels\n",
    "                label_x = start + duration/2\n",
    "                label_y = i\n",
    "                ax.text(\n",
    "                    label_x, label_y, job['name'][4:], ha='center', va='center', fontsize=10)\n",
    "\n",
    "    plt.show()"
   ]
  },
  {
   "cell_type": "markdown",
   "metadata": {},
   "source": [
    "### NEH HEURISTIC FOR INITIAL SOLUTION"
   ]
  },
  {
   "cell_type": "code",
   "execution_count": 4,
   "metadata": {},
   "outputs": [],
   "source": [
    "\n",
    "def _order_jobs_in_descending_order_of_total_completion_time(processing_times):\n",
    "    total_completion_time = processing_times.sum(axis=1)\n",
    "    return np.argsort(total_completion_time, axis=0).tolist()"
   ]
  },
  {
   "cell_type": "code",
   "execution_count": 5,
   "metadata": {},
   "outputs": [],
   "source": [
    "def _insertion(sequence, position, value):\n",
    "    new_seq = sequence[:]\n",
    "    new_seq.insert(position, value)\n",
    "    return new_seq"
   ]
  },
  {
   "cell_type": "code",
   "execution_count": 6,
   "metadata": {},
   "outputs": [],
   "source": [
    "def neh_algorithm(processing_times):\n",
    "    ordered_sequence = _order_jobs_in_descending_order_of_total_completion_time(\n",
    "        processing_times)\n",
    "    # Define the initial order\n",
    "    J1, J2 = ordered_sequence[:2]\n",
    "    sequence = [J1, J2] if calculate_makespan(processing_times, [\n",
    "        J1, J2]) < calculate_makespan(processing_times, [J2, J1]) else [J2, J1]\n",
    "    del ordered_sequence[:2]\n",
    "    # Add remaining jobs\n",
    "    for job in ordered_sequence:\n",
    "        Cmax = float('inf')\n",
    "        best_sequence = []\n",
    "        for i in range(len(sequence)+1):\n",
    "            new_sequence = _insertion(sequence, i, job)\n",
    "            Cmax_eval = calculate_makespan(processing_times, new_sequence)\n",
    "            if Cmax_eval < Cmax:\n",
    "                Cmax = Cmax_eval\n",
    "                best_sequence = new_sequence\n",
    "        sequence = best_sequence\n",
    "    return sequence, Cmax"
   ]
  },
  {
   "cell_type": "markdown",
   "metadata": {},
   "source": [
    "### PRSKE FOR INITIAL SOLUTION"
   ]
  },
  {
   "cell_type": "code",
   "execution_count": 7,
   "metadata": {},
   "outputs": [],
   "source": [
    "def _AVG(processing_times):\n",
    "    return np.mean(processing_times, axis=1)"
   ]
  },
  {
   "cell_type": "code",
   "execution_count": 8,
   "metadata": {},
   "outputs": [],
   "source": [
    "def _STD(processing_times):\n",
    "    return np.std(processing_times, axis=1, ddof=1)"
   ]
  },
  {
   "cell_type": "code",
   "execution_count": 9,
   "metadata": {},
   "outputs": [],
   "source": [
    "\n",
    "def _skewness_SKE(processing_times):\n",
    "    \"\"\"\n",
    "    Calculates the skewness of job processing times across machines.\n",
    "    Return : Skewness values for each job\n",
    "\n",
    "    \"\"\"\n",
    "    num_jobs, num_machines = processing_times.shape\n",
    "    skewness_values = []\n",
    "\n",
    "    for i in range(num_jobs):\n",
    "        avg_processing_time = np.mean(processing_times[i, :])\n",
    "        numerateur = 0\n",
    "        denominateur = 0\n",
    "\n",
    "        for j in range(num_machines):\n",
    "            som = (processing_times[i, j] - avg_processing_time)\n",
    "            numerateur += som ** 3\n",
    "            denominateur += som ** 2\n",
    "\n",
    "        numerateur *= (1 / num_machines)\n",
    "        denominateur = (np.sqrt(denominateur * (1 / num_machines))) ** 3\n",
    "\n",
    "        skewness_values.append(numerateur / denominateur)\n",
    "\n",
    "    return np.array(skewness_values)"
   ]
  },
  {
   "cell_type": "code",
   "execution_count": 10,
   "metadata": {},
   "outputs": [],
   "source": [
    "def PRSKE(processing_times):\n",
    "    \"\"\"\n",
    "    Calculates the job sequence based on the PRSKE priority rule\n",
    "\n",
    "    \"\"\"\n",
    "    avg = _AVG(processing_times)   # Calculate average processing times\n",
    "\n",
    "    # Calculate standard deviation processing times\n",
    "    std = _STD(processing_times)\n",
    "\n",
    "    skw = _skewness_SKE(processing_times)  # Calculate Skewness\n",
    "\n",
    "    order = skw + std + avg\n",
    "\n",
    "    # Sort in descending order\n",
    "    sorted_order = sorted(\n",
    "        zip(order, list(range(processing_times.shape[0]))), reverse=True)\n",
    "\n",
    "    sequence = [job for _, job in sorted_order]\n",
    "\n",
    "    makespan = calculate_makespan(processing_times, sequence)\n",
    "\n",
    "    return sequence,  makespan"
   ]
  },
  {
   "cell_type": "markdown",
   "metadata": {},
   "source": [
    "## Neighborhood generation"
   ]
  },
  {
   "cell_type": "markdown",
   "metadata": {},
   "source": [
    "### SWAP"
   ]
  },
  {
   "cell_type": "code",
   "execution_count": 11,
   "metadata": {},
   "outputs": [],
   "source": [
    "def swap(solution, i, k):\n",
    "    sol = solution.copy()\n",
    "    sol[i], sol[k] = sol[k], sol[i]\n",
    "    return sol"
   ]
  },
  {
   "cell_type": "markdown",
   "metadata": {},
   "source": [
    "### Random SWAP"
   ]
  },
  {
   "cell_type": "code",
   "execution_count": 12,
   "metadata": {},
   "outputs": [],
   "source": [
    "def random_swap(solution, processing_times):\n",
    "    i = random.choice(list(solution))\n",
    "    j = random.choice(list(solution))\n",
    "\n",
    "    while i == j:\n",
    "        j = random.choice(list(solution))\n",
    "\n",
    "    new_solution = swap(solution, i, j)\n",
    "    \n",
    "    return new_solution, calculate_makespan(processing_times, new_solution)"
   ]
  },
  {
   "cell_type": "markdown",
   "metadata": {},
   "source": [
    "### Best SWAP"
   ]
  },
  {
   "cell_type": "code",
   "execution_count": 13,
   "metadata": {},
   "outputs": [],
   "source": [
    "def best_swap(solution, processing_times):\n",
    "    sequence = solution.copy()\n",
    "    num_jobs = len(solution)\n",
    "    Cmax = calculate_makespan(processing_times, solution)\n",
    "\n",
    "    for i in range(num_jobs):\n",
    "        for j in range(i+1, num_jobs):\n",
    "            new_solution = swap(sequence, i, j)\n",
    "            makespan = calculate_makespan(processing_times, new_solution)\n",
    "\n",
    "            if makespan < Cmax:\n",
    "                sequence = new_solution\n",
    "                Cmax = makespan\n",
    "\n",
    "    return sequence, Cmax"
   ]
  },
  {
   "cell_type": "markdown",
   "metadata": {},
   "source": [
    "### First Admissible SWAP"
   ]
  },
  {
   "cell_type": "code",
   "execution_count": 14,
   "metadata": {},
   "outputs": [],
   "source": [
    "def first_admissible_swap(solution, processing_times):\n",
    "\n",
    "    num_jobs = len(solution)\n",
    "    Cmax = calculate_makespan(processing_times, solution)\n",
    "\n",
    "    for i in range(num_jobs):\n",
    "        for j in range(i+1, num_jobs):\n",
    "            new_solution = swap(solution, i, j)\n",
    "            makespan = calculate_makespan(processing_times, new_solution)\n",
    "\n",
    "            if makespan < Cmax:\n",
    "                return new_solution, makespan\n",
    "\n",
    "    return solution, Cmax "
   ]
  },
  {
   "cell_type": "markdown",
   "metadata": {},
   "source": [
    "### First and Best Admissible SWAP"
   ]
  },
  {
   "cell_type": "code",
   "execution_count": 15,
   "metadata": {},
   "outputs": [],
   "source": [
    "def fba_swap(solution, processing_times, best_global_sol):\n",
    "    sequence = solution.copy()\n",
    "    num_jobs = len(sequence)\n",
    "    Cmax = calculate_makespan(processing_times, sequence)\n",
    "    Smax = calculate_makespan(processing_times, best_global_sol)\n",
    "    for i in range(num_jobs):\n",
    "        for j in range(i+1, num_jobs):\n",
    "            new_solution = swap(solution, i, j)\n",
    "            makespan = calculate_makespan(processing_times, new_solution)\n",
    "\n",
    "            # First improving solution\n",
    "            if makespan < Cmax:\n",
    "                # Improves the global solution\n",
    "                if makespan < Smax:\n",
    "                    return new_solution, makespan, new_solution \n",
    "                Cmax = makespan\n",
    "                sequence = new_solution                \n",
    "\n",
    "    return sequence, Cmax, best_global_sol "
   ]
  },
  {
   "cell_type": "markdown",
   "metadata": {},
   "source": [
    "## Local Based Metaheuristics"
   ]
  },
  {
   "cell_type": "markdown",
   "metadata": {},
   "source": [
    "### Simulated annealing (RS) "
   ]
  },
  {
   "cell_type": "code",
   "execution_count": 16,
   "metadata": {},
   "outputs": [],
   "source": [
    "def get_neighbor(processing_times, solution, method='random_swap'):\n",
    "    if method == 'random_swap':\n",
    "        sol, val = random_swap(solution, processing_times)\n",
    "        global_sol = sol\n",
    "    elif method == 'best_swap':\n",
    "        sol, val = best_swap(solution, processing_times)\n",
    "        global_sol = sol\n",
    "    elif method == 'first_admissible_swap':\n",
    "        sol, val = first_admissible_swap(solution, processing_times)\n",
    "        global_sol = sol\n",
    "    elif method == 'fba_swap':\n",
    "        # Returns 3 params !!!\n",
    "        sol, val, global_sol = fba_swap(solution, processing_times)\n",
    "    else:\n",
    "        i = random.randint(0, 3)\n",
    "        if i == 0:\n",
    "            sol, val = random_swap(solution, processing_times)\n",
    "            global_sol = sol\n",
    "        elif i == 1:\n",
    "            sol, val = best_swap(solution, processing_times)\n",
    "            global_sol = sol\n",
    "        elif i == 2:\n",
    "            sol, val = first_admissible_swap(solution, processing_times)\n",
    "            global_sol = sol\n",
    "        else:\n",
    "            sol, val, global_sol = fba_swap(solution, processing_times)\n",
    "    return sol, val, global_sol"
   ]
  },
  {
   "cell_type": "code",
   "execution_count": 17,
   "metadata": {},
   "outputs": [],
   "source": [
    "def RS_random(processing_times, initial_solution, temp, alpha=0.6, nb_palier= 100, it_max=1000):\n",
    "    solution = initial_solution.copy()\n",
    "    # print('solution',solution)\n",
    "    makespan = calculate_makespan(processing_times, solution)\n",
    "    # print('makespan', makespan)\n",
    "    it = 0\n",
    "    while it < it_max:\n",
    "        for i in range(nb_palier):\n",
    "            sol, value, _ = get_neighbor(processing_times, solution, method='random_swap')\n",
    "            # print('Random swap sol',sol,'Its value is', value )\n",
    "            delta = makespan - value\n",
    "            if delta > 0:\n",
    "                solution = sol\n",
    "                makespan = value\n",
    "                # print(\"I'm here\")\n",
    "            else:\n",
    "                if random.uniform(0, 1) < math.exp(delta / temp):\n",
    "                    solution = sol\n",
    "                    # print(\"I'm here 2\")\n",
    "        temp = alpha * temp\n",
    "        it += 1\n",
    "    \n",
    "    return solution"
   ]
  },
  {
   "cell_type": "markdown",
   "metadata": {},
   "source": [
    "## Tests"
   ]
  },
  {
   "cell_type": "code",
   "execution_count": 18,
   "metadata": {},
   "outputs": [],
   "source": [
    "matrix_data = [\n",
    "    [93, 99, 82, 99, 6, 12, 90, 100, 61, 44],\n",
    "    [96, 14, 108, 91, 111, 60, 67, 94, 74, 17],\n",
    "    [69, 46, 68, 63, 51, 41, 34, 32, 9, 106],\n",
    "    [80, 68, 32, 119, 54, 73, 14, 16, 48, 46],\n",
    "    [43, 43, 33, 88, 80, 58, 102, 35, 99, 30],\n",
    "    [104, 54, 13, 23, 41, 21, 87, 112, 5, 15],\n",
    "    [57, 108, 76, 103, 96, 70, 57, 7, 48, 40],\n",
    "    [28, 99, 114, 116, 119, 42, 24, 83, 105, 103],\n",
    "    [63, 94, 30, 42, 56, 28, 78, 47, 91, 109],\n",
    "    [60, 25, 22, 40, 53, 22, 30, 38, 79, 49],\n",
    "    [87, 47, 94, 83, 58, 11, 42, 71, 16, 77],\n",
    "    [88, 75, 75, 98, 22, 8, 73, 14, 99, 59],\n",
    "    [32, 97, 97, 55, 64, 65, 75, 11, 47, 75],\n",
    "    [94, 28, 51, 9, 69, 101, 79, 72, 97, 105],\n",
    "    [23, 35, 9, 88, 82, 15, 83, 73, 95, 73]\n",
    "]\n",
    "\n",
    "matrix_np = np.array(matrix_data)"
   ]
  },
  {
   "cell_type": "code",
   "execution_count": 21,
   "metadata": {},
   "outputs": [
    {
     "ename": "KeyboardInterrupt",
     "evalue": "",
     "output_type": "error",
     "traceback": [
      "\u001b[1;31m---------------------------------------------------------------------------\u001b[0m",
      "\u001b[1;31mKeyboardInterrupt\u001b[0m                         Traceback (most recent call last)",
      "Cell \u001b[1;32mIn[21], line 3\u001b[0m\n\u001b[0;32m      1\u001b[0m \u001b[38;5;28;01mfrom\u001b[39;00m \u001b[38;5;21;01mutils\u001b[39;00m\u001b[38;5;21;01m.\u001b[39;00m\u001b[38;5;21;01mbenchmarks\u001b[39;00m \u001b[38;5;28;01mimport\u001b[39;00m benchmarks\n\u001b[0;32m      2\u001b[0m initialSolution, makespan \u001b[38;5;241m=\u001b[39m neh_algorithm(benchmarks[\u001b[38;5;241m0\u001b[39m])\n\u001b[1;32m----> 3\u001b[0m rs_solution \u001b[38;5;241m=\u001b[39m \u001b[43mRS_random\u001b[49m\u001b[43m(\u001b[49m\u001b[43mbenchmarks\u001b[49m\u001b[43m[\u001b[49m\u001b[38;5;241;43m0\u001b[39;49m\u001b[43m]\u001b[49m\u001b[43m,\u001b[49m\u001b[43m \u001b[49m\u001b[43minitialSolution\u001b[49m\u001b[43m,\u001b[49m\u001b[43m \u001b[49m\u001b[38;5;241;43m10\u001b[39;49m\u001b[43m)\u001b[49m\n",
      "Cell \u001b[1;32mIn[17], line 9\u001b[0m, in \u001b[0;36mRS_random\u001b[1;34m(processing_times, initial_solution, temp, alpha, nb_palier, it_max)\u001b[0m\n\u001b[0;32m      7\u001b[0m \u001b[38;5;28;01mwhile\u001b[39;00m it \u001b[38;5;241m<\u001b[39m it_max:\n\u001b[0;32m      8\u001b[0m     \u001b[38;5;28;01mfor\u001b[39;00m i \u001b[38;5;129;01min\u001b[39;00m \u001b[38;5;28mrange\u001b[39m(nb_palier):\n\u001b[1;32m----> 9\u001b[0m         sol, value, _ \u001b[38;5;241m=\u001b[39m \u001b[43mget_neighbor\u001b[49m\u001b[43m(\u001b[49m\u001b[43mprocessing_times\u001b[49m\u001b[43m,\u001b[49m\u001b[43m \u001b[49m\u001b[43msolution\u001b[49m\u001b[43m,\u001b[49m\u001b[43m \u001b[49m\u001b[43mmethod\u001b[49m\u001b[38;5;241;43m=\u001b[39;49m\u001b[38;5;124;43m'\u001b[39;49m\u001b[38;5;124;43mfirst_admissible_swap\u001b[39;49m\u001b[38;5;124;43m'\u001b[39;49m\u001b[43m)\u001b[49m\n\u001b[0;32m     10\u001b[0m         \u001b[38;5;66;03m# print('Random swap sol',sol,'Its value is', value )\u001b[39;00m\n\u001b[0;32m     11\u001b[0m         delta \u001b[38;5;241m=\u001b[39m makespan \u001b[38;5;241m-\u001b[39m value\n",
      "Cell \u001b[1;32mIn[16], line 9\u001b[0m, in \u001b[0;36mget_neighbor\u001b[1;34m(processing_times, solution, method)\u001b[0m\n\u001b[0;32m      7\u001b[0m     global_sol \u001b[38;5;241m=\u001b[39m sol\n\u001b[0;32m      8\u001b[0m \u001b[38;5;28;01melif\u001b[39;00m method \u001b[38;5;241m==\u001b[39m \u001b[38;5;124m'\u001b[39m\u001b[38;5;124mfirst_admissible_swap\u001b[39m\u001b[38;5;124m'\u001b[39m:\n\u001b[1;32m----> 9\u001b[0m     sol, val \u001b[38;5;241m=\u001b[39m \u001b[43mfirst_admissible_swap\u001b[49m\u001b[43m(\u001b[49m\u001b[43msolution\u001b[49m\u001b[43m,\u001b[49m\u001b[43m \u001b[49m\u001b[43mprocessing_times\u001b[49m\u001b[43m)\u001b[49m\n\u001b[0;32m     10\u001b[0m     global_sol \u001b[38;5;241m=\u001b[39m sol\n\u001b[0;32m     11\u001b[0m \u001b[38;5;28;01melif\u001b[39;00m method \u001b[38;5;241m==\u001b[39m \u001b[38;5;124m'\u001b[39m\u001b[38;5;124mfba_swap\u001b[39m\u001b[38;5;124m'\u001b[39m:\n\u001b[0;32m     12\u001b[0m     \u001b[38;5;66;03m# Returns 3 params !!!\u001b[39;00m\n",
      "Cell \u001b[1;32mIn[14], line 9\u001b[0m, in \u001b[0;36mfirst_admissible_swap\u001b[1;34m(solution, processing_times)\u001b[0m\n\u001b[0;32m      7\u001b[0m \u001b[38;5;28;01mfor\u001b[39;00m j \u001b[38;5;129;01min\u001b[39;00m \u001b[38;5;28mrange\u001b[39m(i\u001b[38;5;241m+\u001b[39m\u001b[38;5;241m1\u001b[39m, num_jobs):\n\u001b[0;32m      8\u001b[0m     new_solution \u001b[38;5;241m=\u001b[39m swap(solution, i, j)\n\u001b[1;32m----> 9\u001b[0m     makespan \u001b[38;5;241m=\u001b[39m \u001b[43mcalculate_makespan\u001b[49m\u001b[43m(\u001b[49m\u001b[43mprocessing_times\u001b[49m\u001b[43m,\u001b[49m\u001b[43m \u001b[49m\u001b[43mnew_solution\u001b[49m\u001b[43m)\u001b[49m\n\u001b[0;32m     11\u001b[0m     \u001b[38;5;28;01mif\u001b[39;00m makespan \u001b[38;5;241m<\u001b[39m Cmax:\n\u001b[0;32m     12\u001b[0m         \u001b[38;5;28;01mreturn\u001b[39;00m new_solution, makespan\n",
      "Cell \u001b[1;32mIn[2], line 8\u001b[0m, in \u001b[0;36mcalculate_makespan\u001b[1;34m(processing_times, sequence)\u001b[0m\n\u001b[0;32m      6\u001b[0m \u001b[38;5;28;01mfor\u001b[39;00m j \u001b[38;5;129;01min\u001b[39;00m \u001b[38;5;28mrange\u001b[39m(\u001b[38;5;241m1\u001b[39m, n_jobs \u001b[38;5;241m+\u001b[39m \u001b[38;5;241m1\u001b[39m):\n\u001b[0;32m      7\u001b[0m     \u001b[38;5;28;01mfor\u001b[39;00m m \u001b[38;5;129;01min\u001b[39;00m \u001b[38;5;28mrange\u001b[39m(\u001b[38;5;241m1\u001b[39m, n_machines \u001b[38;5;241m+\u001b[39m \u001b[38;5;241m1\u001b[39m):\n\u001b[1;32m----> 8\u001b[0m         end_time[j][m] \u001b[38;5;241m=\u001b[39m \u001b[38;5;28;43mmax\u001b[39;49m\u001b[43m(\u001b[49m\u001b[43mend_time\u001b[49m\u001b[43m[\u001b[49m\u001b[43mj\u001b[49m\u001b[43m]\u001b[49m\u001b[43m[\u001b[49m\u001b[43mm\u001b[49m\u001b[43m \u001b[49m\u001b[38;5;241;43m-\u001b[39;49m\u001b[43m \u001b[49m\u001b[38;5;241;43m1\u001b[39;49m\u001b[43m]\u001b[49m\u001b[43m,\u001b[49m\u001b[43m \u001b[49m\u001b[43mend_time\u001b[49m\u001b[43m[\u001b[49m\u001b[43mj\u001b[49m\u001b[43m \u001b[49m\u001b[38;5;241;43m-\u001b[39;49m\u001b[43m \u001b[49m\u001b[38;5;241;43m1\u001b[39;49m\u001b[43m]\u001b[49m\n\u001b[0;32m      9\u001b[0m \u001b[43m                             \u001b[49m\u001b[43m[\u001b[49m\u001b[43mm\u001b[49m\u001b[43m]\u001b[49m\u001b[43m)\u001b[49m \u001b[38;5;241m+\u001b[39m processing_times[sequence[j \u001b[38;5;241m-\u001b[39m \u001b[38;5;241m1\u001b[39m]][m \u001b[38;5;241m-\u001b[39m \u001b[38;5;241m1\u001b[39m]\n\u001b[0;32m     11\u001b[0m \u001b[38;5;28;01mreturn\u001b[39;00m end_time[n_jobs][n_machines]\n",
      "\u001b[1;31mKeyboardInterrupt\u001b[0m: "
     ]
    }
   ],
   "source": [
    "from utils.benchmarks import benchmarks\n",
    "initialSolution, makespan = neh_algorithm(benchmarks[0])\n",
    "rs_solution = RS_random(benchmarks[0], initialSolution, 10)\n",
    "\n",
    "\n"
   ]
  },
  {
   "cell_type": "code",
   "execution_count": null,
   "metadata": {},
   "outputs": [
    {
     "name": "stdout",
     "output_type": "stream",
     "text": [
      "Results of NEH:\n",
      "First sequence is [8, 6, 15, 10, 7, 1, 16, 2, 14, 13, 17, 3, 9, 11, 0, 18, 5, 4, 12, 19] with a makespan of 1334.\n",
      "Results of RS:\n",
      "Best solution [8, 14, 16, 5, 2, 18, 7, 13, 17, 15, 0, 4, 3, 1, 12, 6, 10, 9, 19, 11]\n"
     ]
    }
   ],
   "source": [
    "print(f'Results of NEH:')\n",
    "print(f'First sequence is {initialSolution} with a makespan of {makespan}.')\n",
    "print(f'Results of RS:')\n",
    "print(f'Best solution {rs_solution}')\n",
    "\n"
   ]
  },
  {
   "cell_type": "code",
   "execution_count": null,
   "metadata": {},
   "outputs": [
    {
     "data": {
      "text/plain": [
       "1278"
      ]
     },
     "execution_count": 74,
     "metadata": {},
     "output_type": "execute_result"
    }
   ],
   "source": [
    "calculate_makespan(benchmarks[0], rs_solution)"
   ]
  },
  {
   "cell_type": "code",
   "execution_count": 18,
   "metadata": {},
   "outputs": [],
   "source": [
    "initialSolution, makespan  = PRSKE(benchmarks[0])\n",
    "rs_solution = RS_random(benchmarks[0], initialSolution, 10)\n"
   ]
  },
  {
   "cell_type": "code",
   "execution_count": null,
   "metadata": {},
   "outputs": [
    {
     "name": "stdout",
     "output_type": "stream",
     "text": [
      "Results of PRSKE:\n"
     ]
    },
    {
     "ename": "NameError",
     "evalue": "name 'initialSolution' is not defined",
     "output_type": "error",
     "traceback": [
      "\u001b[1;31m---------------------------------------------------------------------------\u001b[0m",
      "\u001b[1;31mNameError\u001b[0m                                 Traceback (most recent call last)",
      "Cell \u001b[1;32mIn[1], line 2\u001b[0m\n\u001b[0;32m      1\u001b[0m \u001b[38;5;28mprint\u001b[39m(\u001b[38;5;124mf\u001b[39m\u001b[38;5;124m'\u001b[39m\u001b[38;5;124mResults of PRSKE:\u001b[39m\u001b[38;5;124m'\u001b[39m)\n\u001b[1;32m----> 2\u001b[0m \u001b[38;5;28mprint\u001b[39m(\u001b[38;5;124mf\u001b[39m\u001b[38;5;124m'\u001b[39m\u001b[38;5;124mFirst sequence is \u001b[39m\u001b[38;5;132;01m{\u001b[39;00m\u001b[43minitialSolution\u001b[49m\u001b[38;5;132;01m}\u001b[39;00m\u001b[38;5;124m with a makespan of \u001b[39m\u001b[38;5;132;01m{\u001b[39;00mmakespan\u001b[38;5;132;01m}\u001b[39;00m\u001b[38;5;124m.\u001b[39m\u001b[38;5;124m'\u001b[39m)\n\u001b[0;32m      3\u001b[0m \u001b[38;5;28mprint\u001b[39m(\u001b[38;5;124mf\u001b[39m\u001b[38;5;124m'\u001b[39m\u001b[38;5;124mResults of RS:\u001b[39m\u001b[38;5;124m'\u001b[39m)\n\u001b[0;32m      4\u001b[0m \u001b[38;5;28mprint\u001b[39m(\u001b[38;5;124mf\u001b[39m\u001b[38;5;124m'\u001b[39m\u001b[38;5;124mBest solution \u001b[39m\u001b[38;5;132;01m{\u001b[39;00mrs_solution\u001b[38;5;132;01m}\u001b[39;00m\u001b[38;5;124m'\u001b[39m)\n",
      "\u001b[1;31mNameError\u001b[0m: name 'initialSolution' is not defined"
     ]
    }
   ],
   "source": [
    "print(f'Results of PRSKE:')\n",
    "print(f'First sequence is {initialSolution} with a makespan of {makespan}.')\n",
    "print(f'Results of RS:')\n",
    "print(f'Best solution {rs_solution}')\n",
    "calculate_makespan(benchmarks[0], rs_solution)\n"
   ]
  },
  {
   "cell_type": "code",
   "execution_count": null,
   "metadata": {},
   "outputs": [],
   "source": []
  }
 ],
 "metadata": {
  "kernelspec": {
   "display_name": "TP-yMQy8RZS",
   "language": "python",
   "name": "python3"
  },
  "language_info": {
   "codemirror_mode": {
    "name": "ipython",
    "version": 3
   },
   "file_extension": ".py",
   "mimetype": "text/x-python",
   "name": "python",
   "nbconvert_exporter": "python",
   "pygments_lexer": "ipython3",
   "version": "3.12.0"
  }
 },
 "nbformat": 4,
 "nbformat_minor": 2
}
