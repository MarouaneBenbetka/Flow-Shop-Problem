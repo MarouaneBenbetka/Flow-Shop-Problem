{
 "cells": [
  {
   "cell_type": "markdown",
   "metadata": {},
   "source": [
    "# <center>Welcome FSP solved with local search based metaheuristics</center>"
   ]
  },
  {
   "cell_type": "markdown",
   "metadata": {},
   "source": [
    "This notebook presents a practical approach to solving the flowshop problem by implementing well-known local search based metaheuristics. These metaheuristics are effective in generating high-quality solutions for large instances of the problem, requiring only a reasonable amount of computational resources. Compared to heuristics, local search metaheuristics are more effective for solving the flowshop problem because they can escape from local optima and find better solutions\n",
    "\n",
    "# Table of Contents\n",
    "\n",
    "1. [Data utils](#Data-utils)\n",
    "2. [Neighborhood generation](#Neighborhood-generation)\n",
    "3. [Local Based Metaheuristics](#Local-Based-Metaheuristics)\n",
    "4. [Tests](#Tests)\n",
    "<!-- 2. 1. [SWAP](#SWAP)\n",
    "4. [Random SWAP](#Random-SWAP)\n",
    "5. [Best SWAP](#Best-SWAP)\n",
    "6. [First Admissible SWAP](#First-Admissible-SWAP)\n",
    "7. [First and Best Admissible SWAP](#First-and-Best-Admissible-SWAP) -->"
   ]
  },
  {
   "cell_type": "markdown",
   "metadata": {},
   "source": [
    "## Data utils"
   ]
  },
  {
   "cell_type": "code",
   "execution_count": 42,
   "metadata": {},
   "outputs": [],
   "source": [
    "import numpy as np\n",
    "import random\n",
    "import time\n",
    "import math\n",
    "import pandas as pd\n",
    "import matplotlib.pyplot as plt\n",
    "from utils.benchmarks import benchmarks, upper_bound\n",
    "from skopt import gp_minimize\n",
    "from skopt.space import Real, Integer\n",
    "from skopt.utils import use_named_args\n",
    "from utils.utils import read_flow_shop_data"
   ]
  },
  {
   "cell_type": "markdown",
   "metadata": {},
   "source": [
    "### Path Cost calculation function :\n",
    "Used to calculate the cost of current node, which is the correct cost starting for the actual path of executed jobs"
   ]
  },
  {
   "cell_type": "code",
   "execution_count": 43,
   "metadata": {},
   "outputs": [],
   "source": [
    "def calculate_makespan(processing_times, sequence):\n",
    "    n_jobs = len(sequence)\n",
    "    n_machines = len(processing_times[0])\n",
    "    end_time = [[0] * (n_machines + 1) for _ in range(n_jobs + 1)]\n",
    "\n",
    "    for j in range(1, n_jobs + 1):\n",
    "        for m in range(1, n_machines + 1):\n",
    "            end_time[j][m] = max(end_time[j][m - 1], end_time[j - 1]\n",
    "                                 [m]) + processing_times[sequence[j - 1]][m - 1]\n",
    "\n",
    "    return end_time[n_jobs][n_machines]"
   ]
  },
  {
   "cell_type": "markdown",
   "metadata": {},
   "source": [
    "### Random data for tests"
   ]
  },
  {
   "cell_type": "code",
   "execution_count": 44,
   "metadata": {},
   "outputs": [
    {
     "name": "stdout",
     "output_type": "stream",
     "text": [
      "[[ 23  83 114 105  73]\n",
      " [ 58  95 105  82  17]\n",
      " [ 38  72 115  32  39]\n",
      " [ 27  41  47  56 112]\n",
      " [ 88  75  77   8  51]\n",
      " [ 85  41 112 104  76]\n",
      " [101  56  19 117  35]\n",
      " [ 42  18   7  27  25]\n",
      " [ 36 113  36 110  86]\n",
      " [ 10  16  71   9  66]\n",
      " [ 43  15  74  28  98]\n",
      " [ 98  77 102   7 106]\n",
      " [ 99 110  48 112  14]\n",
      " [105  43   8  61  92]\n",
      " [ 65  66  47  88  94]\n",
      " [ 41  54  57  20 118]\n",
      " [ 64  32  93  75  82]\n",
      " [108  67  40  23   9]\n",
      " [ 53  43 103  53  96]\n",
      " [ 83  74  11  24  96]] \n",
      "\n",
      "Initial solution: [4, 19, 0, 9, 2, 6, 3, 1, 16, 11, 14, 15, 10, 12, 7, 8, 17, 18, 13, 5] \n",
      "\n",
      "Makespan: 1886\n"
     ]
    }
   ],
   "source": [
    "rnd_data = np.random.randint(size=(20,5), low=5, high=120)\n",
    "permutation = np.random.permutation(20).tolist()\n",
    "print(rnd_data, \"\\n\")\n",
    "print('Initial solution:', permutation, \"\\n\")\n",
    "\n",
    "Cmax = calculate_makespan(rnd_data, permutation)\n",
    "print(f'Makespan: {Cmax}')"
   ]
  },
  {
   "cell_type": "markdown",
   "metadata": {},
   "source": [
    "### Gantt graph generator"
   ]
  },
  {
   "cell_type": "code",
   "execution_count": 45,
   "metadata": {},
   "outputs": [],
   "source": [
    "def generate_gantt_chart(processing_times, seq, interval=50, labeled=True):\n",
    "    data = processing_times.T\n",
    "    nb_jobs, nb_machines = processing_times.shape\n",
    "    schedules = np.zeros((nb_machines, nb_jobs), dtype=dict)\n",
    "    # schedule first job alone first\n",
    "    task = {\"name\": \"job_{}\".format(\n",
    "        seq[0]+1), \"start_time\": 0, \"end_time\": data[0][seq[0]]}\n",
    "\n",
    "    schedules[0][0] = task\n",
    "    for m_id in range(1, nb_machines):\n",
    "        start_t = schedules[m_id-1][0][\"end_time\"]\n",
    "        end_t = start_t + data[m_id][0]\n",
    "        task = {\"name\": \"job_{}\".format(\n",
    "            seq[0]+1), \"start_time\": start_t, \"end_time\": end_t}\n",
    "        schedules[m_id][0] = task\n",
    "\n",
    "    for index, job_id in enumerate(seq[1::]):\n",
    "        start_t = schedules[0][index][\"end_time\"]\n",
    "        end_t = start_t + data[0][job_id]\n",
    "        task = {\"name\": \"job_{}\".format(\n",
    "            job_id+1), \"start_time\": start_t, \"end_time\": end_t}\n",
    "        schedules[0][index+1] = task\n",
    "        for m_id in range(1, nb_machines):\n",
    "            start_t = max(schedules[m_id][index][\"end_time\"],\n",
    "                          schedules[m_id-1][index+1][\"end_time\"])\n",
    "            end_t = start_t + data[m_id][job_id]\n",
    "            task = {\"name\": \"job_{}\".format(\n",
    "                job_id+1), \"start_time\": start_t, \"end_time\": end_t}\n",
    "            schedules[m_id][index+1] = task\n",
    "\n",
    "    # create a new figure\n",
    "    fig, ax = plt.subplots(figsize=(18, 8))\n",
    "\n",
    "    # set y-axis ticks and labels\n",
    "    y_ticks = list(range(len(schedules)))\n",
    "    y_labels = [f'Machine {i+1}' for i in y_ticks]\n",
    "    ax.set_yticks(y_ticks)\n",
    "    ax.set_yticklabels(y_labels)\n",
    "\n",
    "    # calculate the total time\n",
    "    total_time = max([job['end_time'] for proc in schedules for job in proc])\n",
    "\n",
    "    # set x-axis limits and ticks\n",
    "    ax.set_xlim(0, total_time)\n",
    "    x_ticks = list(range(0, total_time+1, interval))\n",
    "    ax.set_xticks(x_ticks)\n",
    "\n",
    "    # set grid lines\n",
    "    ax.grid(True, axis='x', linestyle='--')\n",
    "\n",
    "    # create a color dictionary to map each job to a color\n",
    "    color_dict = {}\n",
    "    for proc in schedules:\n",
    "        for job in proc:\n",
    "            if job['name'] not in color_dict:\n",
    "                color_dict[job['name']] = (np.random.uniform(\n",
    "                    0, 1), np.random.uniform(0, 1), np.random.uniform(0, 1))\n",
    "\n",
    "    # plot the bars for each job on each processor\n",
    "    for i, proc in enumerate(schedules):\n",
    "        for job in proc:\n",
    "            start = job['start_time']\n",
    "            end = job['end_time']\n",
    "            duration = end - start\n",
    "            color = color_dict[job['name']]\n",
    "            ax.barh(i, duration, left=start, height=0.5,\n",
    "                    align='center', color=color, alpha=0.8)\n",
    "            if labeled:\n",
    "                # add job labels\n",
    "                label_x = start + duration/2\n",
    "                label_y = i\n",
    "                ax.text(\n",
    "                    label_x, label_y, job['name'][4:], ha='center', va='center', fontsize=10)\n",
    "\n",
    "    plt.show()"
   ]
  },
  {
   "cell_type": "markdown",
   "metadata": {},
   "source": [
    "### INITIAL SOLUTION METHODS"
   ]
  },
  {
   "cell_type": "code",
   "execution_count": 46,
   "metadata": {},
   "outputs": [],
   "source": [
    "from utils.initial_sol_methods import neh_algorithm\n",
    "from utils.initial_sol_methods import PRSKE\n",
    "from utils.initial_sol_methods import ham_heuristic"
   ]
  },
  {
   "cell_type": "markdown",
   "metadata": {},
   "source": [
    "## Neighborhood generation"
   ]
  },
  {
   "cell_type": "markdown",
   "metadata": {},
   "source": [
    "### SWAP"
   ]
  },
  {
   "cell_type": "code",
   "execution_count": 47,
   "metadata": {},
   "outputs": [],
   "source": [
    "def swap(solution, i, k):\n",
    "    sol = solution.copy()\n",
    "    sol[i], sol[k] = sol[k], sol[i]\n",
    "    return sol"
   ]
  },
  {
   "cell_type": "markdown",
   "metadata": {},
   "source": [
    "### Random SWAP"
   ]
  },
  {
   "cell_type": "code",
   "execution_count": 48,
   "metadata": {},
   "outputs": [],
   "source": [
    "def random_swap(solution, processing_times):\n",
    "    i = random.choice(list(solution))\n",
    "    j = random.choice(list(solution))\n",
    "\n",
    "    while i == j:\n",
    "        j = random.choice(list(solution))\n",
    "\n",
    "    new_solution = swap(solution, i, j)\n",
    "    \n",
    "    return new_solution, calculate_makespan(processing_times, new_solution)"
   ]
  },
  {
   "cell_type": "code",
   "execution_count": 49,
   "metadata": {},
   "outputs": [
    {
     "name": "stdout",
     "output_type": "stream",
     "text": [
      "Original_solution:  [4, 19, 0, 9, 2, 6, 3, 1, 16, 11, 14, 15, 10, 12, 7, 8, 17, 18, 13, 5]\n",
      "Cmax =  1886\n",
      "\n",
      "Neighbor_solution:  [4, 19, 0, 9, 2, 6, 3, 1, 14, 11, 16, 15, 10, 12, 7, 8, 17, 18, 13, 5]\n",
      "Neighor_cmax =  1899\n"
     ]
    }
   ],
   "source": [
    "neighbor_sol, neighbor_cmax = random_swap(permutation, rnd_data)\n",
    "\n",
    "print(\"Original_solution: \", permutation)\n",
    "print(\"Cmax = \", Cmax)\n",
    "\n",
    "print(\"\\nNeighbor_solution: \", neighbor_sol)\n",
    "print(\"Neighor_cmax = \", neighbor_cmax)"
   ]
  },
  {
   "cell_type": "markdown",
   "metadata": {},
   "source": [
    "### Best SWAP"
   ]
  },
  {
   "cell_type": "code",
   "execution_count": 50,
   "metadata": {},
   "outputs": [],
   "source": [
    "def best_swap(solution, processing_times):\n",
    "    sequence = solution.copy()\n",
    "    num_jobs = len(solution)\n",
    "    Cmax = calculate_makespan(processing_times, solution)\n",
    "\n",
    "    for i in range(num_jobs):\n",
    "        for j in range(i+1, num_jobs):\n",
    "            new_solution = swap(sequence, i, j)\n",
    "            makespan = calculate_makespan(processing_times, new_solution)\n",
    "\n",
    "            if makespan < Cmax:\n",
    "                sequence = new_solution\n",
    "                Cmax = makespan\n",
    "\n",
    "    return sequence, Cmax"
   ]
  },
  {
   "cell_type": "code",
   "execution_count": 51,
   "metadata": {},
   "outputs": [
    {
     "name": "stdout",
     "output_type": "stream",
     "text": [
      "Original_solution:  [4, 19, 0, 9, 2, 6, 3, 1, 16, 11, 14, 15, 10, 12, 7, 8, 17, 18, 13, 5]\n",
      "Cmax =  1886\n",
      "\n",
      "Neighbor_solution:  [0, 15, 19, 9, 4, 6, 3, 2, 1, 11, 14, 16, 10, 12, 7, 8, 17, 18, 13, 5]\n",
      "Neighor_cmax =  1710\n"
     ]
    }
   ],
   "source": [
    "neighbor_sol, neighbor_cmax = best_swap(permutation, rnd_data)\n",
    "\n",
    "print(\"Original_solution: \", permutation)\n",
    "print(\"Cmax = \", Cmax)\n",
    "\n",
    "print(\"\\nNeighbor_solution: \", neighbor_sol)\n",
    "print(\"Neighor_cmax = \", neighbor_cmax)"
   ]
  },
  {
   "cell_type": "markdown",
   "metadata": {},
   "source": [
    "### First Admissible SWAP"
   ]
  },
  {
   "cell_type": "code",
   "execution_count": 52,
   "metadata": {},
   "outputs": [],
   "source": [
    "def first_admissible_swap(solution, processing_times):\n",
    "\n",
    "    num_jobs = len(solution)\n",
    "    Cmax = calculate_makespan(processing_times, solution)\n",
    "\n",
    "    for i in range(num_jobs):\n",
    "        for j in range(i+1, num_jobs):\n",
    "            new_solution = swap(solution, i, j)\n",
    "            makespan = calculate_makespan(processing_times, new_solution)\n",
    "\n",
    "            if makespan < Cmax:\n",
    "                return new_solution, makespan\n",
    "\n",
    "    return solution, Cmax "
   ]
  },
  {
   "cell_type": "code",
   "execution_count": 53,
   "metadata": {},
   "outputs": [
    {
     "name": "stdout",
     "output_type": "stream",
     "text": [
      "Original_solution:  [4, 19, 0, 9, 2, 6, 3, 1, 16, 11, 14, 15, 10, 12, 7, 8, 17, 18, 13, 5]\n",
      "Cmax =  1886\n",
      "\n",
      "Neighbor_solution:  [0, 19, 4, 9, 2, 6, 3, 1, 16, 11, 14, 15, 10, 12, 7, 8, 17, 18, 13, 5]\n",
      "Neighor_cmax =  1790\n"
     ]
    }
   ],
   "source": [
    "neighbor_sol, neighbor_cmax = first_admissible_swap(permutation, rnd_data)\n",
    "\n",
    "print(\"Original_solution: \", permutation)\n",
    "print(\"Cmax = \", Cmax)\n",
    "\n",
    "print(\"\\nNeighbor_solution: \", neighbor_sol)\n",
    "print(\"Neighor_cmax = \", neighbor_cmax)"
   ]
  },
  {
   "cell_type": "markdown",
   "metadata": {},
   "source": [
    "### First and Best Admissible SWAP"
   ]
  },
  {
   "cell_type": "code",
   "execution_count": 54,
   "metadata": {},
   "outputs": [],
   "source": [
    "def fba_swap(solution, processing_times, best_global_sol):\n",
    "    sequence = solution.copy()\n",
    "    num_jobs = len(sequence)\n",
    "    Cmax = calculate_makespan(processing_times, sequence)\n",
    "    Smax = calculate_makespan(processing_times, best_global_sol)\n",
    "    for i in range(num_jobs):\n",
    "        for j in range(i+1, num_jobs):\n",
    "            new_solution = swap(solution, i, j)\n",
    "            makespan = calculate_makespan(processing_times, new_solution)\n",
    "\n",
    "            # First improving solution\n",
    "            if makespan < Cmax:\n",
    "                # Improves the global solution\n",
    "                if makespan < Smax:\n",
    "                    return new_solution, makespan, new_solution \n",
    "                Cmax = makespan\n",
    "                sequence = new_solution                \n",
    "\n",
    "    return sequence, Cmax, best_global_sol "
   ]
  },
  {
   "cell_type": "code",
   "execution_count": 55,
   "metadata": {},
   "outputs": [
    {
     "name": "stdout",
     "output_type": "stream",
     "text": [
      "Original_solution:  [4, 19, 0, 9, 2, 6, 3, 1, 16, 11, 14, 15, 10, 12, 7, 8, 17, 18, 13, 5]\n",
      "Cmax =  1886\n",
      "\n",
      "Best_original_global_solution:  [13, 18, 19, 14, 8, 1, 9, 15, 17, 11, 2, 12, 10, 16, 4, 7, 6, 3, 0, 5]\n",
      "Best_global_initial_cmax =  1864\n",
      "\n",
      "Neighbor_solution:  [0, 19, 4, 9, 2, 6, 3, 1, 16, 11, 14, 15, 10, 12, 7, 8, 17, 18, 13, 5]\n",
      "Neighor_cmax =  1790\n",
      "\n",
      "Best_global_solution:  [0, 19, 4, 9, 2, 6, 3, 1, 16, 11, 14, 15, 10, 12, 7, 8, 17, 18, 13, 5]\n",
      "Best_global_cmax =  1790\n"
     ]
    }
   ],
   "source": [
    "best_global = np.random.permutation(20).tolist()\n",
    "\n",
    "while calculate_makespan(rnd_data, best_global) > Cmax:\n",
    "    best_global = np.random.permutation(20).tolist()\n",
    "\n",
    "neighbor_sol, neighbor_cmax, best_global_found = fba_swap(permutation, rnd_data, best_global)\n",
    "\n",
    "print(\"Original_solution: \", permutation)\n",
    "print(\"Cmax = \", Cmax)\n",
    "\n",
    "print(\"\\nBest_original_global_solution: \", best_global)\n",
    "print(\"Best_global_initial_cmax = \", calculate_makespan(rnd_data, best_global))\n",
    "\n",
    "print(\"\\nNeighbor_solution: \", neighbor_sol)\n",
    "print(\"Neighor_cmax = \", neighbor_cmax)\n",
    "\n",
    "print(\"\\nBest_global_solution: \", best_global_found)\n",
    "print(\"Best_global_cmax = \", calculate_makespan(rnd_data, best_global_found))"
   ]
  },
  {
   "cell_type": "markdown",
   "metadata": {},
   "source": [
    "## Local Based Metaheuristics"
   ]
  },
  {
   "cell_type": "markdown",
   "metadata": {},
   "source": [
    "### Simulated annealing (RS) "
   ]
  },
  {
   "cell_type": "markdown",
   "metadata": {},
   "source": [
    "#### General method to get neighbors (except first and best admissible)"
   ]
  },
  {
   "cell_type": "code",
   "execution_count": 56,
   "metadata": {},
   "outputs": [],
   "source": [
    "def get_neighbor(processing_times, solution, method='random_swap'):\n",
    "    if method == 'random_swap':\n",
    "        sol, val = random_swap(solution, processing_times)\n",
    "    elif method == 'best_swap':\n",
    "        sol, val = best_swap(solution, processing_times)\n",
    "    elif method == 'first_admissible_swap':\n",
    "        sol, val = first_admissible_swap(solution, processing_times)\n",
    "    else:\n",
    "        i = random.randint(0, 2)\n",
    "        if i == 0:\n",
    "            sol, val = random_swap(solution, processing_times)\n",
    "        elif i == 1:\n",
    "            sol, val = best_swap(solution, processing_times)\n",
    "        elif i == 2:\n",
    "            sol, val = first_admissible_swap(solution, processing_times)\n",
    "    return sol, val"
   ]
  },
  {
   "cell_type": "code",
   "execution_count": 57,
   "metadata": {},
   "outputs": [],
   "source": [
    "def RS(processing_times, initial_solution, temp, method='random_swap', alpha=0.6, nb_palier= 10, it_max=100):\n",
    "    solution = initial_solution.copy()\n",
    "    makespan = calculate_makespan(processing_times, solution)\n",
    "    print('init_sol: ',solution, ' makespan = ', makespan, \"\\n\")\n",
    "    it = 0\n",
    "    while it < it_max:\n",
    "        for i in range(nb_palier):\n",
    "            sol, value = get_neighbor(processing_times, solution, method)\n",
    "            # print('Swap_sol: ',sol,' makespan = ', value)\n",
    "            delta = makespan - value\n",
    "            if delta > 0:\n",
    "                solution = sol\n",
    "                makespan = value\n",
    "            else:\n",
    "                if random.uniform(0, 1) < math.exp(delta / temp):\n",
    "                    solution = sol\n",
    "        temp = alpha * temp\n",
    "        it += 1\n",
    "    \n",
    "    return solution"
   ]
  },
  {
   "cell_type": "markdown",
   "metadata": {},
   "source": [
    "### RS with first and best admissible swap "
   ]
  },
  {
   "cell_type": "code",
   "execution_count": 58,
   "metadata": {},
   "outputs": [],
   "source": [
    "def RS_fba(processing_times, initial_solution, intitial_global, temp, alpha=0.6, nb_palier= 1, it_max=100):\n",
    "    solution = initial_solution.copy()\n",
    "    makespan = calculate_makespan(processing_times, solution)\n",
    "    print('init_sol: ',solution, ' makespan = ', makespan)\n",
    "    it = 0\n",
    "    print('initial_global_solution: ',intitial_global, ' global_makespan = ', calculate_makespan(processing_times, intitial_global), \"\\n\")\n",
    "    best_global = intitial_global.copy()\n",
    "    while it < it_max :\n",
    "        for i in range(nb_palier):\n",
    "            sol, value, best_global = fba_swap(solution, processing_times, best_global)\n",
    "            # print('FBA_swap_sol: ',sol,' makespan = ', value)\n",
    "            delta = makespan - value\n",
    "            if delta > 0:\n",
    "                solution = sol\n",
    "                makespan = value\n",
    "            else:\n",
    "                if random.uniform(0, 1) < math.exp(delta / temp):\n",
    "                    solution = sol\n",
    "        temp = alpha * temp\n",
    "        it += 1\n",
    "    \n",
    "    return solution, best_global"
   ]
  },
  {
   "cell_type": "markdown",
   "metadata": {},
   "source": [
    "### Finding optimal params"
   ]
  },
  {
   "cell_type": "code",
   "execution_count": 73,
   "metadata": {},
   "outputs": [],
   "source": [
    "benchmarks = read_flow_shop_data('./utils/benchmarks/500_20.txt', 20, 500)\n",
    "benchmark = benchmarks[0][2]"
   ]
  },
  {
   "cell_type": "code",
   "execution_count": 77,
   "metadata": {},
   "outputs": [
    {
     "name": "stdout",
     "output_type": "stream",
     "text": [
      "init_sol:  [4, 19, 0, 9, 2, 6, 3, 1, 16, 11, 14, 15, 10, 12, 7, 8, 17, 18, 13, 5]  makespan =  30060 \n",
      "\n",
      "init_sol:  [4, 19, 0, 9, 2, 6, 3, 1, 16, 11, 14, 15, 10, 12, 7, 8, 17, 18, 13, 5]  makespan =  30060 \n",
      "\n",
      "init_sol:  [4, 19, 0, 9, 2, 6, 3, 1, 16, 11, 14, 15, 10, 12, 7, 8, 17, 18, 13, 5]  makespan =  30060 \n",
      "\n",
      "init_sol:  [4, 19, 0, 9, 2, 6, 3, 1, 16, 11, 14, 15, 10, 12, 7, 8, 17, 18, 13, 5]  makespan =  30060 \n",
      "\n",
      "init_sol:  [4, 19, 0, 9, 2, 6, 3, 1, 16, 11, 14, 15, 10, 12, 7, 8, 17, 18, 13, 5]  makespan =  30060 \n",
      "\n",
      "init_sol:  [4, 19, 0, 9, 2, 6, 3, 1, 16, 11, 14, 15, 10, 12, 7, 8, 17, 18, 13, 5]  makespan =  30060 \n",
      "\n",
      "init_sol:  [4, 19, 0, 9, 2, 6, 3, 1, 16, 11, 14, 15, 10, 12, 7, 8, 17, 18, 13, 5]  makespan =  30060 \n",
      "\n",
      "init_sol:  [4, 19, 0, 9, 2, 6, 3, 1, 16, 11, 14, 15, 10, 12, 7, 8, 17, 18, 13, 5]  makespan =  30060 \n",
      "\n",
      "init_sol:  [4, 19, 0, 9, 2, 6, 3, 1, 16, 11, 14, 15, 10, 12, 7, 8, 17, 18, 13, 5]  makespan =  30060 \n",
      "\n",
      "init_sol:  [4, 19, 0, 9, 2, 6, 3, 1, 16, 11, 14, 15, 10, 12, 7, 8, 17, 18, 13, 5]  makespan =  30060 \n",
      "\n",
      "init_sol:  [4, 19, 0, 9, 2, 6, 3, 1, 16, 11, 14, 15, 10, 12, 7, 8, 17, 18, 13, 5]  makespan =  30060 \n",
      "\n",
      "init_sol:  [4, 19, 0, 9, 2, 6, 3, 1, 16, 11, 14, 15, 10, 12, 7, 8, 17, 18, 13, 5]  makespan =  30060 \n",
      "\n",
      "init_sol:  [4, 19, 0, 9, 2, 6, 3, 1, 16, 11, 14, 15, 10, 12, 7, 8, 17, 18, 13, 5]  makespan =  30060 \n",
      "\n",
      "init_sol:  [4, 19, 0, 9, 2, 6, 3, 1, 16, 11, 14, 15, 10, 12, 7, 8, 17, 18, 13, 5]  makespan =  30060 \n",
      "\n",
      "init_sol:  [4, 19, 0, 9, 2, 6, 3, 1, 16, 11, 14, 15, 10, 12, 7, 8, 17, 18, 13, 5]  makespan =  30060 \n",
      "\n",
      "init_sol:  [4, 19, 0, 9, 2, 6, 3, 1, 16, 11, 14, 15, 10, 12, 7, 8, 17, 18, 13, 5]  makespan =  30060 \n",
      "\n",
      "init_sol:  [4, 19, 0, 9, 2, 6, 3, 1, 16, 11, 14, 15, 10, 12, 7, 8, 17, 18, 13, 5]  makespan =  30060 \n",
      "\n",
      "init_sol:  [4, 19, 0, 9, 2, 6, 3, 1, 16, 11, 14, 15, 10, 12, 7, 8, 17, 18, 13, 5]  makespan =  30060 \n",
      "\n",
      "init_sol:  [4, 19, 0, 9, 2, 6, 3, 1, 16, 11, 14, 15, 10, 12, 7, 8, 17, 18, 13, 5]  makespan =  30060 \n",
      "\n",
      "init_sol:  [4, 19, 0, 9, 2, 6, 3, 1, 16, 11, 14, 15, 10, 12, 7, 8, 17, 18, 13, 5]  makespan =  30060 \n",
      "\n",
      "init_sol:  [4, 19, 0, 9, 2, 6, 3, 1, 16, 11, 14, 15, 10, 12, 7, 8, 17, 18, 13, 5]  makespan =  30060 \n",
      "\n",
      "init_sol:  [4, 19, 0, 9, 2, 6, 3, 1, 16, 11, 14, 15, 10, 12, 7, 8, 17, 18, 13, 5]  makespan =  30060 \n",
      "\n",
      "init_sol:  [4, 19, 0, 9, 2, 6, 3, 1, 16, 11, 14, 15, 10, 12, 7, 8, 17, 18, 13, 5]  makespan =  30060 \n",
      "\n",
      "init_sol:  [4, 19, 0, 9, 2, 6, 3, 1, 16, 11, 14, 15, 10, 12, 7, 8, 17, 18, 13, 5]  makespan =  30060 \n",
      "\n",
      "init_sol:  [4, 19, 0, 9, 2, 6, 3, 1, 16, 11, 14, 15, 10, 12, 7, 8, 17, 18, 13, 5]  makespan =  30060 \n",
      "\n",
      "init_sol:  [4, 19, 0, 9, 2, 6, 3, 1, 16, 11, 14, 15, 10, 12, 7, 8, 17, 18, 13, 5]  makespan =  30060 \n",
      "\n",
      "init_sol:  [4, 19, 0, 9, 2, 6, 3, 1, 16, 11, 14, 15, 10, 12, 7, 8, 17, 18, 13, 5]  makespan =  30060 \n",
      "\n",
      "init_sol:  [4, 19, 0, 9, 2, 6, 3, 1, 16, 11, 14, 15, 10, 12, 7, 8, 17, 18, 13, 5]  makespan =  30060 \n",
      "\n",
      "init_sol:  [4, 19, 0, 9, 2, 6, 3, 1, 16, 11, 14, 15, 10, 12, 7, 8, 17, 18, 13, 5]  makespan =  30060 \n",
      "\n",
      "init_sol:  [4, 19, 0, 9, 2, 6, 3, 1, 16, 11, 14, 15, 10, 12, 7, 8, 17, 18, 13, 5]  makespan =  30060 \n",
      "\n",
      "init_sol:  [4, 19, 0, 9, 2, 6, 3, 1, 16, 11, 14, 15, 10, 12, 7, 8, 17, 18, 13, 5]  makespan =  30060 \n",
      "\n",
      "init_sol:  [4, 19, 0, 9, 2, 6, 3, 1, 16, 11, 14, 15, 10, 12, 7, 8, 17, 18, 13, 5]  makespan =  30060 \n",
      "\n",
      "init_sol:  [4, 19, 0, 9, 2, 6, 3, 1, 16, 11, 14, 15, 10, 12, 7, 8, 17, 18, 13, 5]  makespan =  30060 \n",
      "\n",
      "init_sol:  [4, 19, 0, 9, 2, 6, 3, 1, 16, 11, 14, 15, 10, 12, 7, 8, 17, 18, 13, 5]  makespan =  30060 \n",
      "\n",
      "init_sol:  [4, 19, 0, 9, 2, 6, 3, 1, 16, 11, 14, 15, 10, 12, 7, 8, 17, 18, 13, 5]  makespan =  30060 \n",
      "\n",
      "init_sol:  [4, 19, 0, 9, 2, 6, 3, 1, 16, 11, 14, 15, 10, 12, 7, 8, 17, 18, 13, 5]  makespan =  30060 \n",
      "\n",
      "init_sol:  [4, 19, 0, 9, 2, 6, 3, 1, 16, 11, 14, 15, 10, 12, 7, 8, 17, 18, 13, 5]  makespan =  30060 \n",
      "\n",
      "init_sol:  [4, 19, 0, 9, 2, 6, 3, 1, 16, 11, 14, 15, 10, 12, 7, 8, 17, 18, 13, 5]  makespan =  30060 \n",
      "\n",
      "init_sol:  [4, 19, 0, 9, 2, 6, 3, 1, 16, 11, 14, 15, 10, 12, 7, 8, 17, 18, 13, 5]  makespan =  30060 \n",
      "\n",
      "init_sol:  [4, 19, 0, 9, 2, 6, 3, 1, 16, 11, 14, 15, 10, 12, 7, 8, 17, 18, 13, 5]  makespan =  30060 \n",
      "\n",
      "init_sol:  [4, 19, 0, 9, 2, 6, 3, 1, 16, 11, 14, 15, 10, 12, 7, 8, 17, 18, 13, 5]  makespan =  30060 \n",
      "\n",
      "init_sol:  [4, 19, 0, 9, 2, 6, 3, 1, 16, 11, 14, 15, 10, 12, 7, 8, 17, 18, 13, 5]  makespan =  30060 \n",
      "\n",
      "init_sol:  [4, 19, 0, 9, 2, 6, 3, 1, 16, 11, 14, 15, 10, 12, 7, 8, 17, 18, 13, 5]  makespan =  30060 \n",
      "\n",
      "init_sol:  [4, 19, 0, 9, 2, 6, 3, 1, 16, 11, 14, 15, 10, 12, 7, 8, 17, 18, 13, 5]  makespan =  30060 \n",
      "\n",
      "init_sol:  [4, 19, 0, 9, 2, 6, 3, 1, 16, 11, 14, 15, 10, 12, 7, 8, 17, 18, 13, 5]  makespan =  30060 \n",
      "\n",
      "init_sol:  [4, 19, 0, 9, 2, 6, 3, 1, 16, 11, 14, 15, 10, 12, 7, 8, 17, 18, 13, 5]  makespan =  30060 \n",
      "\n",
      "init_sol:  [4, 19, 0, 9, 2, 6, 3, 1, 16, 11, 14, 15, 10, 12, 7, 8, 17, 18, 13, 5]  makespan =  30060 \n",
      "\n",
      "init_sol:  [4, 19, 0, 9, 2, 6, 3, 1, 16, 11, 14, 15, 10, 12, 7, 8, 17, 18, 13, 5]  makespan =  30060 \n",
      "\n",
      "init_sol:  [4, 19, 0, 9, 2, 6, 3, 1, 16, 11, 14, 15, 10, 12, 7, 8, 17, 18, 13, 5]  makespan =  30060 \n",
      "\n",
      "init_sol:  [4, 19, 0, 9, 2, 6, 3, 1, 16, 11, 14, 15, 10, 12, 7, 8, 17, 18, 13, 5]  makespan =  30060 \n",
      "\n",
      "Meilleurs paramètres: alpha=0.7762412054433026, nb_palier=15, it_max=118\n"
     ]
    }
   ],
   "source": [
    "# Définir l'espace des paramètres\n",
    "space = [\n",
    "    Real(0.5, 0.9, name='alpha'),\n",
    "    Integer(5, 20, name='nb_palier'),\n",
    "    Integer(50, 200, name='it_max')\n",
    "]\n",
    "\n",
    "processing_times = benchmark\n",
    "initial_solution = permutation\n",
    "# Fonction objectif à minimiser\n",
    "@use_named_args(space)\n",
    "def objective(**params):\n",
    "    alpha = params['alpha']\n",
    "    nb_palier = params['nb_palier']\n",
    "    it_max = params['it_max']\n",
    "    # Vous devez définir `processing_times` et `initial_solution`\n",
    "    result = RS(processing_times, initial_solution, temp=100, alpha=alpha, nb_palier=nb_palier, it_max=it_max)\n",
    "    return calculate_makespan(processing_times, result)\n",
    "\n",
    "# Lancer l'optimisation\n",
    "result = gp_minimize(objective, space, n_calls=50, random_state=0)\n",
    "# Affichage des meilleurs paramètres trouvés\n",
    "print(\"Meilleurs paramètres: alpha={}, nb_palier={}, it_max={}\".format(\n",
    "    result.x[0], result.x[1], result.x[2]))"
   ]
  },
  {
   "cell_type": "markdown",
   "metadata": {},
   "source": [
    "## Tests\n",
    "\n",
    "We can adjust the swapping method to see the differences in tests"
   ]
  },
  {
   "cell_type": "code",
   "execution_count": 78,
   "metadata": {},
   "outputs": [
    {
     "data": {
      "text/plain": [
       "array([[36, 21, 87, ..., 38, 25, 90],\n",
       "       [ 4, 19,  7, ..., 44, 64, 89],\n",
       "       [25,  7, 94, ..., 87, 14, 57],\n",
       "       ...,\n",
       "       [69, 97, 87, ..., 28, 90, 24],\n",
       "       [90,  9,  8, ..., 88, 20, 78],\n",
       "       [83, 32, 17, ..., 64, 66, 93]])"
      ]
     },
     "execution_count": 78,
     "metadata": {},
     "output_type": "execute_result"
    }
   ],
   "source": [
    "benchmark = benchmarks[0][2]\n",
    "optimal_alpha = result.x[0]\n",
    "optimal_Nb_palier = result.x[1]\n",
    "optimal__it_max = result.x[2]\n",
    "best_global = np.random.permutation(20).tolist()\n",
    "while calculate_makespan(rnd_data, best_global) > Cmax:\n",
    "    best_global = np.random.permutation(20).tolist()\n",
    "\n",
    "benchmark"
   ]
  },
  {
   "cell_type": "markdown",
   "metadata": {},
   "source": [
    "### Random initial solution"
   ]
  },
  {
   "cell_type": "markdown",
   "metadata": {},
   "source": [
    "#### Without FBA swapping method"
   ]
  },
  {
   "cell_type": "code",
   "execution_count": 79,
   "metadata": {},
   "outputs": [
    {
     "name": "stdout",
     "output_type": "stream",
     "text": [
      "init_sol:  [4, 19, 0, 9, 2, 6, 3, 1, 16, 11, 14, 15, 10, 12, 7, 8, 17, 18, 13, 5]  makespan =  30060 \n",
      "\n"
     ]
    }
   ],
   "source": [
    "rs_solution = RS(benchmark, permutation, 5, method='random_swap',alpha=optimal_alpha, nb_palier=optimal_Nb_palier, it_max=optimal__it_max)"
   ]
  },
  {
   "cell_type": "markdown",
   "metadata": {},
   "source": [
    "#### With FBA swapping method"
   ]
  },
  {
   "cell_type": "code",
   "execution_count": 72,
   "metadata": {},
   "outputs": [
    {
     "name": "stdout",
     "output_type": "stream",
     "text": [
      "init_sol:  [4, 19, 0, 9, 2, 6, 3, 1, 16, 11, 14, 15, 10, 12, 7, 8, 17, 18, 13, 5]  makespan =  30060\n",
      "initial_global_solution:  [1, 3, 13, 2, 14, 0, 11, 10, 7, 4, 8, 12, 15, 17, 18, 16, 6, 9, 5, 19]  global_makespan =  30193 \n",
      "\n"
     ]
    },
    {
     "ename": "KeyboardInterrupt",
     "evalue": "",
     "output_type": "error",
     "traceback": [
      "\u001b[1;31m---------------------------------------------------------------------------\u001b[0m",
      "\u001b[1;31mKeyboardInterrupt\u001b[0m                         Traceback (most recent call last)",
      "Cell \u001b[1;32mIn[72], line 1\u001b[0m\n\u001b[1;32m----> 1\u001b[0m rs_fba_solution, best_global_found \u001b[38;5;241m=\u001b[39m \u001b[43mRS_fba\u001b[49m\u001b[43m(\u001b[49m\u001b[43mbenchmark\u001b[49m\u001b[43m,\u001b[49m\u001b[43m \u001b[49m\u001b[43mpermutation\u001b[49m\u001b[43m,\u001b[49m\u001b[43m \u001b[49m\u001b[43mbest_global\u001b[49m\u001b[43m,\u001b[49m\u001b[43m \u001b[49m\u001b[38;5;241;43m5\u001b[39;49m\u001b[43m,\u001b[49m\u001b[43malpha\u001b[49m\u001b[38;5;241;43m=\u001b[39;49m\u001b[43moptimal_alpha\u001b[49m\u001b[43m,\u001b[49m\u001b[43m \u001b[49m\u001b[43mnb_palier\u001b[49m\u001b[38;5;241;43m=\u001b[39;49m\u001b[43moptimal_Nb_palier\u001b[49m\u001b[43m,\u001b[49m\u001b[43m \u001b[49m\u001b[43mit_max\u001b[49m\u001b[38;5;241;43m=\u001b[39;49m\u001b[43moptimal__it_max\u001b[49m\u001b[43m)\u001b[49m\n",
      "Cell \u001b[1;32mIn[58], line 10\u001b[0m, in \u001b[0;36mRS_fba\u001b[1;34m(processing_times, initial_solution, intitial_global, temp, alpha, nb_palier, it_max)\u001b[0m\n\u001b[0;32m      8\u001b[0m \u001b[38;5;28;01mwhile\u001b[39;00m it \u001b[38;5;241m<\u001b[39m it_max :\n\u001b[0;32m      9\u001b[0m     \u001b[38;5;28;01mfor\u001b[39;00m i \u001b[38;5;129;01min\u001b[39;00m \u001b[38;5;28mrange\u001b[39m(nb_palier):\n\u001b[1;32m---> 10\u001b[0m         sol, value, best_global \u001b[38;5;241m=\u001b[39m \u001b[43mfba_swap\u001b[49m\u001b[43m(\u001b[49m\u001b[43msolution\u001b[49m\u001b[43m,\u001b[49m\u001b[43m \u001b[49m\u001b[43mprocessing_times\u001b[49m\u001b[43m,\u001b[49m\u001b[43m \u001b[49m\u001b[43mbest_global\u001b[49m\u001b[43m)\u001b[49m\n\u001b[0;32m     11\u001b[0m         \u001b[38;5;66;03m# print('FBA_swap_sol: ',sol,' makespan = ', value)\u001b[39;00m\n\u001b[0;32m     12\u001b[0m         delta \u001b[38;5;241m=\u001b[39m makespan \u001b[38;5;241m-\u001b[39m value\n",
      "Cell \u001b[1;32mIn[54], line 9\u001b[0m, in \u001b[0;36mfba_swap\u001b[1;34m(solution, processing_times, best_global_sol)\u001b[0m\n\u001b[0;32m      7\u001b[0m \u001b[38;5;28;01mfor\u001b[39;00m j \u001b[38;5;129;01min\u001b[39;00m \u001b[38;5;28mrange\u001b[39m(i\u001b[38;5;241m+\u001b[39m\u001b[38;5;241m1\u001b[39m, num_jobs):\n\u001b[0;32m      8\u001b[0m     new_solution \u001b[38;5;241m=\u001b[39m swap(solution, i, j)\n\u001b[1;32m----> 9\u001b[0m     makespan \u001b[38;5;241m=\u001b[39m \u001b[43mcalculate_makespan\u001b[49m\u001b[43m(\u001b[49m\u001b[43mprocessing_times\u001b[49m\u001b[43m,\u001b[49m\u001b[43m \u001b[49m\u001b[43mnew_solution\u001b[49m\u001b[43m)\u001b[49m\n\u001b[0;32m     11\u001b[0m     \u001b[38;5;66;03m# First improving solution\u001b[39;00m\n\u001b[0;32m     12\u001b[0m     \u001b[38;5;28;01mif\u001b[39;00m makespan \u001b[38;5;241m<\u001b[39m Cmax:\n\u001b[0;32m     13\u001b[0m         \u001b[38;5;66;03m# Improves the global solution\u001b[39;00m\n",
      "Cell \u001b[1;32mIn[43], line 8\u001b[0m, in \u001b[0;36mcalculate_makespan\u001b[1;34m(processing_times, sequence)\u001b[0m\n\u001b[0;32m      6\u001b[0m \u001b[38;5;28;01mfor\u001b[39;00m j \u001b[38;5;129;01min\u001b[39;00m \u001b[38;5;28mrange\u001b[39m(\u001b[38;5;241m1\u001b[39m, n_jobs \u001b[38;5;241m+\u001b[39m \u001b[38;5;241m1\u001b[39m):\n\u001b[0;32m      7\u001b[0m     \u001b[38;5;28;01mfor\u001b[39;00m m \u001b[38;5;129;01min\u001b[39;00m \u001b[38;5;28mrange\u001b[39m(\u001b[38;5;241m1\u001b[39m, n_machines \u001b[38;5;241m+\u001b[39m \u001b[38;5;241m1\u001b[39m):\n\u001b[1;32m----> 8\u001b[0m         end_time[j][m] \u001b[38;5;241m=\u001b[39m \u001b[38;5;28;43mmax\u001b[39;49m\u001b[43m(\u001b[49m\u001b[43mend_time\u001b[49m\u001b[43m[\u001b[49m\u001b[43mj\u001b[49m\u001b[43m]\u001b[49m\u001b[43m[\u001b[49m\u001b[43mm\u001b[49m\u001b[43m \u001b[49m\u001b[38;5;241;43m-\u001b[39;49m\u001b[43m \u001b[49m\u001b[38;5;241;43m1\u001b[39;49m\u001b[43m]\u001b[49m\u001b[43m,\u001b[49m\u001b[43m \u001b[49m\u001b[43mend_time\u001b[49m\u001b[43m[\u001b[49m\u001b[43mj\u001b[49m\u001b[43m \u001b[49m\u001b[38;5;241;43m-\u001b[39;49m\u001b[43m \u001b[49m\u001b[38;5;241;43m1\u001b[39;49m\u001b[43m]\u001b[49m\n\u001b[0;32m      9\u001b[0m \u001b[43m                             \u001b[49m\u001b[43m[\u001b[49m\u001b[43mm\u001b[49m\u001b[43m]\u001b[49m\u001b[43m)\u001b[49m \u001b[38;5;241m+\u001b[39m processing_times[sequence[j \u001b[38;5;241m-\u001b[39m \u001b[38;5;241m1\u001b[39m]][m \u001b[38;5;241m-\u001b[39m \u001b[38;5;241m1\u001b[39m]\n\u001b[0;32m     11\u001b[0m \u001b[38;5;28;01mreturn\u001b[39;00m end_time[n_jobs][n_machines]\n",
      "\u001b[1;31mKeyboardInterrupt\u001b[0m: "
     ]
    }
   ],
   "source": [
    "rs_fba_solution, best_global_found = RS_fba(benchmark, permutation, best_global, 5,alpha=optimal_alpha, nb_palier=optimal_Nb_palier, it_max=optimal__it_max)"
   ]
  },
  {
   "cell_type": "code",
   "execution_count": 80,
   "metadata": {},
   "outputs": [
    {
     "name": "stdout",
     "output_type": "stream",
     "text": [
      "Results of random:\n",
      "First sequence: [4, 19, 0, 9, 2, 6, 3, 1, 16, 11, 14, 15, 10, 12, 7, 8, 17, 18, 13, 5] with a makespan of 30060.\n",
      "\n",
      "Results of RS:\n",
      "Best solution: [0, 11, 7, 19, 14, 4, 6, 1, 15, 5, 3, 2, 16, 18, 9, 13, 8, 10, 17, 12] with a makespan of 28736.\n",
      "\n",
      "Results of RS_FBA:\n",
      "Best solution: [14, 5, 7, 8, 17, 6, 10, 4, 2, 15, 0, 18, 12, 3, 16, 1, 13, 9, 19, 11] with a makespan of 30284.\n",
      "Best global solution: [14, 5, 7, 8, 17, 6, 10, 4, 2, 15, 0, 18, 12, 3, 16, 1, 13, 9, 19, 11] with a makespan of 30284.\n"
     ]
    }
   ],
   "source": [
    "print('Results of random:')\n",
    "print(f'First sequence: {permutation} with a makespan of {calculate_makespan(benchmark, permutation)}.')\n",
    "print('\\nResults of RS:')\n",
    "print(f'Best solution: {rs_solution} with a makespan of {calculate_makespan(benchmark, rs_solution)}.')\n",
    "print('\\nResults of RS_FBA:')\n",
    "print(f'Best solution: {rs_fba_solution} with a makespan of {calculate_makespan(benchmark, rs_fba_solution)}.')\n",
    "print(f'Best global solution: {best_global_found} with a makespan of {calculate_makespan(benchmark, best_global_found)}.')"
   ]
  },
  {
   "cell_type": "markdown",
   "metadata": {},
   "source": [
    "### NEH initial solution"
   ]
  },
  {
   "cell_type": "markdown",
   "metadata": {},
   "source": [
    "#### Without FBA swapping method"
   ]
  },
  {
   "cell_type": "code",
   "execution_count": 64,
   "metadata": {},
   "outputs": [
    {
     "name": "stdout",
     "output_type": "stream",
     "text": [
      "init_sol:  [8, 6, 15, 10, 7, 1, 16, 2, 14, 13, 17, 3, 9, 11, 0, 18, 5, 4, 12, 19]  makespan =  1334 \n",
      "\n"
     ]
    }
   ],
   "source": [
    "initialSolution, makespan = neh_algorithm(benchmark)\n",
    "rs_solution = RS(benchmark, initialSolution, 5)"
   ]
  },
  {
   "cell_type": "markdown",
   "metadata": {},
   "source": [
    "#### With FBA swapping method"
   ]
  },
  {
   "cell_type": "code",
   "execution_count": 65,
   "metadata": {},
   "outputs": [
    {
     "name": "stdout",
     "output_type": "stream",
     "text": [
      "init_sol:  [8, 6, 15, 10, 7, 1, 16, 2, 14, 13, 17, 3, 9, 11, 0, 18, 5, 4, 12, 19]  makespan =  1334\n",
      "initial_global_solution:  [19, 14, 9, 12, 16, 6, 3, 5, 1, 0, 17, 15, 11, 13, 10, 18, 2, 4, 7, 8]  global_makespan =  1558 \n",
      "\n"
     ]
    }
   ],
   "source": [
    "rs_fba_solution, best_global_found = RS_fba(benchmark, initialSolution, best_global, 5)"
   ]
  },
  {
   "cell_type": "code",
   "execution_count": 66,
   "metadata": {},
   "outputs": [
    {
     "name": "stdout",
     "output_type": "stream",
     "text": [
      "Results of NEH:\n",
      "First sequence: [8, 6, 15, 10, 7, 1, 16, 2, 14, 13, 17, 3, 9, 11, 0, 18, 5, 4, 12, 19] with a makespan of 1334.\n",
      "\n",
      "Results of RS:\n",
      "Best solution: [14, 12, 7, 0, 16, 18, 15, 13, 5, 4, 2, 3, 10, 9, 6, 8, 17, 11, 1, 19] with a makespan of 1297.\n",
      "\n",
      "Results of RS_FBA:\n",
      "Best solution: [8, 12, 15, 10, 7, 1, 16, 2, 14, 13, 17, 3, 4, 11, 0, 18, 5, 9, 6, 19] with a makespan of 1305.\n",
      "Best global solution: [8, 12, 15, 10, 7, 1, 16, 2, 14, 13, 17, 3, 4, 11, 0, 18, 5, 9, 6, 19] with a makespan of 1305.\n"
     ]
    }
   ],
   "source": [
    "print('Results of NEH:')\n",
    "print(f'First sequence: {initialSolution} with a makespan of {makespan}.')\n",
    "print('\\nResults of RS:')\n",
    "print(f'Best solution: {rs_solution} with a makespan of {calculate_makespan(benchmark, rs_solution)}.')\n",
    "print('\\nResults of RS_FBA:')\n",
    "print(f'Best solution: {rs_fba_solution} with a makespan of {calculate_makespan(benchmark, rs_fba_solution)}.')\n",
    "print(f'Best global solution: {best_global_found} with a makespan of {calculate_makespan(benchmark, best_global_found)}.')"
   ]
  },
  {
   "cell_type": "markdown",
   "metadata": {},
   "source": [
    "### PRSKE initial solution"
   ]
  },
  {
   "cell_type": "markdown",
   "metadata": {},
   "source": [
    "#### Without FBA swapping method"
   ]
  },
  {
   "cell_type": "code",
   "execution_count": 67,
   "metadata": {},
   "outputs": [
    {
     "name": "stdout",
     "output_type": "stream",
     "text": [
      "init_sol:  [3, 17, 10, 1, 9, 11, 6, 4, 19, 15, 18, 5, 0, 12, 8, 13, 14, 7, 16, 2]  makespan =  1593 \n",
      "\n"
     ]
    }
   ],
   "source": [
    "initialSolution, makespan  = PRSKE(benchmark)\n",
    "rs_solution = RS(benchmark, initialSolution, 5)"
   ]
  },
  {
   "cell_type": "markdown",
   "metadata": {},
   "source": [
    "#### With FBA swapping method"
   ]
  },
  {
   "cell_type": "code",
   "execution_count": 68,
   "metadata": {},
   "outputs": [
    {
     "name": "stdout",
     "output_type": "stream",
     "text": [
      "init_sol:  [3, 17, 10, 1, 9, 11, 6, 4, 19, 15, 18, 5, 0, 12, 8, 13, 14, 7, 16, 2]  makespan =  1593\n",
      "initial_global_solution:  [19, 14, 9, 12, 16, 6, 3, 5, 1, 0, 17, 15, 11, 13, 10, 18, 2, 4, 7, 8]  global_makespan =  1558 \n",
      "\n"
     ]
    }
   ],
   "source": [
    "rs_fba_solution, best_global_found = RS_fba(benchmark, initialSolution, best_global, 5)"
   ]
  },
  {
   "cell_type": "code",
   "execution_count": 69,
   "metadata": {},
   "outputs": [
    {
     "name": "stdout",
     "output_type": "stream",
     "text": [
      "Results of PRSKE:\n",
      "First sequence: [3, 17, 10, 1, 9, 11, 6, 4, 19, 15, 18, 5, 0, 12, 8, 13, 14, 7, 16, 2] with a makespan of 1593.\n",
      "\n",
      "Results of RS:\n",
      "Best solution: [8, 16, 2, 14, 13, 18, 4, 0, 1, 6, 5, 3, 10, 17, 7, 11, 15, 12, 9, 19] with a makespan of 1297\n",
      "\n",
      "Results of RS_FBA:\n",
      "Best solution: [14, 5, 7, 8, 17, 6, 10, 4, 2, 15, 0, 18, 12, 3, 16, 1, 13, 9, 19, 11] with a makespan of 1294.\n",
      "Best global solution: [14, 5, 7, 8, 17, 6, 10, 4, 2, 15, 0, 18, 12, 3, 16, 1, 13, 9, 19, 11] with a makespan of 1294.\n"
     ]
    }
   ],
   "source": [
    "print('Results of PRSKE:')\n",
    "print(f'First sequence: {initialSolution} with a makespan of {makespan}.')\n",
    "print('\\nResults of RS:')\n",
    "print(f'Best solution: {rs_solution} with a makespan of {calculate_makespan(benchmark, rs_solution)}')\n",
    "print('\\nResults of RS_FBA:')\n",
    "print(f'Best solution: {rs_fba_solution} with a makespan of {calculate_makespan(benchmark, rs_fba_solution)}.')\n",
    "print(f'Best global solution: {best_global_found} with a makespan of {calculate_makespan(benchmark, best_global_found)}.')"
   ]
  }
 ],
 "metadata": {
  "kernelspec": {
   "display_name": "TP-yMQy8RZS",
   "language": "python",
   "name": "python3"
  },
  "language_info": {
   "codemirror_mode": {
    "name": "ipython",
    "version": 3
   },
   "file_extension": ".py",
   "mimetype": "text/x-python",
   "name": "python",
   "nbconvert_exporter": "python",
   "pygments_lexer": "ipython3",
   "version": "3.9.13"
  }
 },
 "nbformat": 4,
 "nbformat_minor": 2
}
