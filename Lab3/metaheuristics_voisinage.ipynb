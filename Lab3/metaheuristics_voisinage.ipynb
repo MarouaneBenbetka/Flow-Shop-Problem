{
 "cells": [
  {
   "cell_type": "markdown",
   "metadata": {},
   "source": [
    "# <center>Welcome FSP solved with local search based metaheuristics</center>"
   ]
  },
  {
   "cell_type": "markdown",
   "metadata": {},
   "source": [
    "This notebook presents a practical approach to solving the flowshop problem by implementing well-known local search based metaheuristics. These metaheuristics are effective in generating high-quality solutions for large instances of the problem, requiring only a reasonable amount of computational resources. Compared to heuristics, local search metaheuristics are more effective for solving the flowshop problem because they can escape from local optima and find better solutions\n",
    "\n",
    "# Table of Contents\n",
    "\n",
    "1. [Data utils](#Data-utils)\n",
    "2. [Neighborhood generation](#Neighborhood-generation)\n",
    "3. [Local Based Metaheuristics](#Local-Based-Metaheuristics)\n",
    "4. [Tests](#Tests)\n",
    "<!-- 2. 1. [SWAP](#SWAP)\n",
    "4. [Random SWAP](#Random-SWAP)\n",
    "5. [Best SWAP](#Best-SWAP)\n",
    "6. [First Admissible SWAP](#First-Admissible-SWAP)\n",
    "7. [First and Best Admissible SWAP](#First-and-Best-Admissible-SWAP) -->"
   ]
  },
  {
   "cell_type": "markdown",
   "metadata": {},
   "source": [
    "## Data utils"
   ]
  },
  {
   "cell_type": "code",
   "execution_count": 2,
   "metadata": {},
   "outputs": [],
   "source": [
    "import numpy as np\n",
    "import random\n",
    "import time\n",
    "import math\n",
    "import pandas as pd\n",
    "import matplotlib.pyplot as plt\n",
    "from utils.benchmarks import benchmarks, upper_bound\n",
    "from skopt import gp_minimize\n",
    "from skopt.space import Real, Integer\n",
    "from skopt.utils import use_named_args"
   ]
  },
  {
   "cell_type": "markdown",
   "metadata": {},
   "source": [
    "### Path Cost calculation function :\n",
    "Used to calculate the cost of current node, which is the correct cost starting for the actual path of executed jobs"
   ]
  },
  {
   "cell_type": "code",
   "execution_count": 3,
   "metadata": {},
   "outputs": [],
   "source": [
    "def calculate_makespan(processing_times, sequence):\n",
    "    n_jobs = len(sequence)\n",
    "    n_machines = len(processing_times[0])\n",
    "    end_time = [[0] * (n_machines + 1) for _ in range(n_jobs + 1)]\n",
    "\n",
    "    for j in range(1, n_jobs + 1):\n",
    "        for m in range(1, n_machines + 1):\n",
    "            end_time[j][m] = max(end_time[j][m - 1], end_time[j - 1]\n",
    "                                 [m]) + processing_times[sequence[j - 1]][m - 1]\n",
    "\n",
    "    return end_time[n_jobs][n_machines]"
   ]
  },
  {
   "cell_type": "markdown",
   "metadata": {},
   "source": [
    "### Random data for tests"
   ]
  },
  {
   "cell_type": "code",
   "execution_count": 4,
   "metadata": {},
   "outputs": [
    {
     "name": "stdout",
     "output_type": "stream",
     "text": [
      "[[ 29  66 107  12 118]\n",
      " [ 43 103  54  54  47]\n",
      " [ 13 117 103  87  87]\n",
      " [ 16 106  57 109  60]\n",
      " [ 68  93  56  71  24]\n",
      " [  8  13 101  38  99]\n",
      " [ 34   9  59  90  50]\n",
      " [ 93  46  88  69  98]\n",
      " [  9  12 115  93  84]\n",
      " [ 66  86 102  99  82]\n",
      " [ 59  65  53  93  25]\n",
      " [ 23  48  49 113  43]\n",
      " [ 91 106 117 116 115]\n",
      " [  6 102 119  78  30]\n",
      " [ 41  28  17  30 111]\n",
      " [ 98  75  86 115  81]\n",
      " [ 70  19 116  54 106]\n",
      " [ 45   9  27  83  97]\n",
      " [105  87   7  38  37]\n",
      " [ 22  29  33  39  40]] \n",
      "\n",
      "Initial solution: [0, 15, 18, 4, 16, 10, 2, 5, 19, 9, 8, 14, 13, 11, 6, 7, 1, 17, 3, 12] \n",
      "\n",
      "Makespan: 2054\n"
     ]
    }
   ],
   "source": [
    "rnd_data = np.random.randint(size=(20,5), low=5, high=120)\n",
    "permutation = np.random.permutation(20).tolist()\n",
    "print(rnd_data, \"\\n\")\n",
    "print('Initial solution:', permutation, \"\\n\")\n",
    "\n",
    "Cmax = calculate_makespan(rnd_data, permutation)\n",
    "print(f'Makespan: {Cmax}')"
   ]
  },
  {
   "cell_type": "markdown",
   "metadata": {},
   "source": [
    "### Gantt graph generator"
   ]
  },
  {
   "cell_type": "code",
   "execution_count": 5,
   "metadata": {},
   "outputs": [],
   "source": [
    "def generate_gantt_chart(processing_times, seq, interval=50, labeled=True):\n",
    "    data = processing_times.T\n",
    "    nb_jobs, nb_machines = processing_times.shape\n",
    "    schedules = np.zeros((nb_machines, nb_jobs), dtype=dict)\n",
    "    # schedule first job alone first\n",
    "    task = {\"name\": \"job_{}\".format(\n",
    "        seq[0]+1), \"start_time\": 0, \"end_time\": data[0][seq[0]]}\n",
    "\n",
    "    schedules[0][0] = task\n",
    "    for m_id in range(1, nb_machines):\n",
    "        start_t = schedules[m_id-1][0][\"end_time\"]\n",
    "        end_t = start_t + data[m_id][0]\n",
    "        task = {\"name\": \"job_{}\".format(\n",
    "            seq[0]+1), \"start_time\": start_t, \"end_time\": end_t}\n",
    "        schedules[m_id][0] = task\n",
    "\n",
    "    for index, job_id in enumerate(seq[1::]):\n",
    "        start_t = schedules[0][index][\"end_time\"]\n",
    "        end_t = start_t + data[0][job_id]\n",
    "        task = {\"name\": \"job_{}\".format(\n",
    "            job_id+1), \"start_time\": start_t, \"end_time\": end_t}\n",
    "        schedules[0][index+1] = task\n",
    "        for m_id in range(1, nb_machines):\n",
    "            start_t = max(schedules[m_id][index][\"end_time\"],\n",
    "                          schedules[m_id-1][index+1][\"end_time\"])\n",
    "            end_t = start_t + data[m_id][job_id]\n",
    "            task = {\"name\": \"job_{}\".format(\n",
    "                job_id+1), \"start_time\": start_t, \"end_time\": end_t}\n",
    "            schedules[m_id][index+1] = task\n",
    "\n",
    "    # create a new figure\n",
    "    fig, ax = plt.subplots(figsize=(18, 8))\n",
    "\n",
    "    # set y-axis ticks and labels\n",
    "    y_ticks = list(range(len(schedules)))\n",
    "    y_labels = [f'Machine {i+1}' for i in y_ticks]\n",
    "    ax.set_yticks(y_ticks)\n",
    "    ax.set_yticklabels(y_labels)\n",
    "\n",
    "    # calculate the total time\n",
    "    total_time = max([job['end_time'] for proc in schedules for job in proc])\n",
    "\n",
    "    # set x-axis limits and ticks\n",
    "    ax.set_xlim(0, total_time)\n",
    "    x_ticks = list(range(0, total_time+1, interval))\n",
    "    ax.set_xticks(x_ticks)\n",
    "\n",
    "    # set grid lines\n",
    "    ax.grid(True, axis='x', linestyle='--')\n",
    "\n",
    "    # create a color dictionary to map each job to a color\n",
    "    color_dict = {}\n",
    "    for proc in schedules:\n",
    "        for job in proc:\n",
    "            if job['name'] not in color_dict:\n",
    "                color_dict[job['name']] = (np.random.uniform(\n",
    "                    0, 1), np.random.uniform(0, 1), np.random.uniform(0, 1))\n",
    "\n",
    "    # plot the bars for each job on each processor\n",
    "    for i, proc in enumerate(schedules):\n",
    "        for job in proc:\n",
    "            start = job['start_time']\n",
    "            end = job['end_time']\n",
    "            duration = end - start\n",
    "            color = color_dict[job['name']]\n",
    "            ax.barh(i, duration, left=start, height=0.5,\n",
    "                    align='center', color=color, alpha=0.8)\n",
    "            if labeled:\n",
    "                # add job labels\n",
    "                label_x = start + duration/2\n",
    "                label_y = i\n",
    "                ax.text(\n",
    "                    label_x, label_y, job['name'][4:], ha='center', va='center', fontsize=10)\n",
    "\n",
    "    plt.show()"
   ]
  },
  {
   "cell_type": "markdown",
   "metadata": {},
   "source": [
    "### INITIAL SOLUTION METHODS"
   ]
  },
  {
   "cell_type": "code",
   "execution_count": 6,
   "metadata": {},
   "outputs": [],
   "source": [
    "from utils.initial_sol_methods import neh_algorithm\n",
    "from utils.initial_sol_methods import PRSKE\n",
    "from utils.initial_sol_methods import ham_heuristic"
   ]
  },
  {
   "cell_type": "markdown",
   "metadata": {},
   "source": [
    "## Neighborhood generation"
   ]
  },
  {
   "cell_type": "markdown",
   "metadata": {},
   "source": [
    "### SWAP"
   ]
  },
  {
   "cell_type": "code",
   "execution_count": 7,
   "metadata": {},
   "outputs": [],
   "source": [
    "def swap(solution, i, k):\n",
    "    sol = solution.copy()\n",
    "    sol[i], sol[k] = sol[k], sol[i]\n",
    "    return sol"
   ]
  },
  {
   "cell_type": "markdown",
   "metadata": {},
   "source": [
    "### Random SWAP"
   ]
  },
  {
   "cell_type": "code",
   "execution_count": 8,
   "metadata": {},
   "outputs": [],
   "source": [
    "def random_swap(solution, processing_times):\n",
    "    i = random.choice(list(solution))\n",
    "    j = random.choice(list(solution))\n",
    "\n",
    "    while i == j:\n",
    "        j = random.choice(list(solution))\n",
    "\n",
    "    new_solution = swap(solution, i, j)\n",
    "    \n",
    "    return new_solution, calculate_makespan(processing_times, new_solution)"
   ]
  },
  {
   "cell_type": "code",
   "execution_count": 9,
   "metadata": {},
   "outputs": [
    {
     "name": "stdout",
     "output_type": "stream",
     "text": [
      "Original_solution:  [0, 15, 18, 4, 16, 10, 2, 5, 19, 9, 8, 14, 13, 11, 6, 7, 1, 17, 3, 12]\n",
      "Cmax =  2054\n",
      "\n",
      "Neighbor_solution:  [0, 14, 18, 4, 16, 10, 2, 5, 19, 9, 8, 15, 13, 11, 6, 7, 1, 17, 3, 12]\n",
      "Neighor_cmax =  2069\n"
     ]
    }
   ],
   "source": [
    "neighbor_sol, neighbor_cmax = random_swap(permutation, rnd_data)\n",
    "\n",
    "print(\"Original_solution: \", permutation)\n",
    "print(\"Cmax = \", Cmax)\n",
    "\n",
    "print(\"\\nNeighbor_solution: \", neighbor_sol)\n",
    "print(\"Neighor_cmax = \", neighbor_cmax)"
   ]
  },
  {
   "cell_type": "markdown",
   "metadata": {},
   "source": [
    "### Best SWAP"
   ]
  },
  {
   "cell_type": "code",
   "execution_count": 10,
   "metadata": {},
   "outputs": [],
   "source": [
    "def best_swap(solution, processing_times):\n",
    "    sequence = solution.copy()\n",
    "    num_jobs = len(solution)\n",
    "    Cmax = calculate_makespan(processing_times, solution)\n",
    "\n",
    "    for i in range(num_jobs):\n",
    "        for j in range(i+1, num_jobs):\n",
    "            new_solution = swap(sequence, i, j)\n",
    "            makespan = calculate_makespan(processing_times, new_solution)\n",
    "\n",
    "            if makespan < Cmax:\n",
    "                sequence = new_solution\n",
    "                Cmax = makespan\n",
    "\n",
    "    return sequence, Cmax"
   ]
  },
  {
   "cell_type": "code",
   "execution_count": 11,
   "metadata": {},
   "outputs": [
    {
     "name": "stdout",
     "output_type": "stream",
     "text": [
      "Original_solution:  [0, 15, 18, 4, 16, 10, 2, 5, 19, 9, 8, 14, 13, 11, 6, 7, 1, 17, 3, 12]\n",
      "Cmax =  2054\n",
      "\n",
      "Neighbor_solution:  [3, 8, 17, 12, 0, 9, 15, 18, 19, 4, 16, 14, 13, 11, 5, 7, 1, 2, 6, 10]\n",
      "Neighor_cmax =  1779\n"
     ]
    }
   ],
   "source": [
    "neighbor_sol, neighbor_cmax = best_swap(permutation, rnd_data)\n",
    "\n",
    "print(\"Original_solution: \", permutation)\n",
    "print(\"Cmax = \", Cmax)\n",
    "\n",
    "print(\"\\nNeighbor_solution: \", neighbor_sol)\n",
    "print(\"Neighor_cmax = \", neighbor_cmax)"
   ]
  },
  {
   "cell_type": "markdown",
   "metadata": {},
   "source": [
    "### First Admissible SWAP"
   ]
  },
  {
   "cell_type": "code",
   "execution_count": 12,
   "metadata": {},
   "outputs": [],
   "source": [
    "def first_admissible_swap(solution, processing_times):\n",
    "\n",
    "    num_jobs = len(solution)\n",
    "    Cmax = calculate_makespan(processing_times, solution)\n",
    "\n",
    "    for i in range(num_jobs):\n",
    "        for j in range(i+1, num_jobs):\n",
    "            new_solution = swap(solution, i, j)\n",
    "            makespan = calculate_makespan(processing_times, new_solution)\n",
    "\n",
    "            if makespan < Cmax:\n",
    "                return new_solution, makespan\n",
    "\n",
    "    return solution, Cmax "
   ]
  },
  {
   "cell_type": "code",
   "execution_count": 13,
   "metadata": {},
   "outputs": [
    {
     "name": "stdout",
     "output_type": "stream",
     "text": [
      "Original_solution:  [0, 15, 18, 4, 16, 10, 2, 5, 19, 9, 8, 14, 13, 11, 6, 7, 1, 17, 3, 12]\n",
      "Cmax =  2054\n",
      "\n",
      "Neighbor_solution:  [2, 15, 18, 4, 16, 10, 0, 5, 19, 9, 8, 14, 13, 11, 6, 7, 1, 17, 3, 12]\n",
      "Neighor_cmax =  2042\n"
     ]
    }
   ],
   "source": [
    "neighbor_sol, neighbor_cmax = first_admissible_swap(permutation, rnd_data)\n",
    "\n",
    "print(\"Original_solution: \", permutation)\n",
    "print(\"Cmax = \", Cmax)\n",
    "\n",
    "print(\"\\nNeighbor_solution: \", neighbor_sol)\n",
    "print(\"Neighor_cmax = \", neighbor_cmax)"
   ]
  },
  {
   "cell_type": "markdown",
   "metadata": {},
   "source": [
    "### First and Best Admissible SWAP"
   ]
  },
  {
   "cell_type": "code",
   "execution_count": 14,
   "metadata": {},
   "outputs": [],
   "source": [
    "def fba_swap(solution, processing_times, best_global_sol):\n",
    "    sequence = solution.copy()\n",
    "    num_jobs = len(sequence)\n",
    "    Cmax = calculate_makespan(processing_times, sequence)\n",
    "    Smax = calculate_makespan(processing_times, best_global_sol)\n",
    "    for i in range(num_jobs):\n",
    "        for j in range(i+1, num_jobs):\n",
    "            new_solution = swap(solution, i, j)\n",
    "            makespan = calculate_makespan(processing_times, new_solution)\n",
    "\n",
    "            # First improving solution\n",
    "            if makespan < Cmax:\n",
    "                # Improves the global solution\n",
    "                if makespan < Smax:\n",
    "                    return new_solution, makespan, new_solution \n",
    "                Cmax = makespan\n",
    "                sequence = new_solution                \n",
    "\n",
    "    return sequence, Cmax, best_global_sol "
   ]
  },
  {
   "cell_type": "code",
   "execution_count": 15,
   "metadata": {},
   "outputs": [
    {
     "name": "stdout",
     "output_type": "stream",
     "text": [
      "Original_solution:  [0, 15, 18, 4, 16, 10, 2, 5, 19, 9, 8, 14, 13, 11, 6, 7, 1, 17, 3, 12]\n",
      "Cmax =  2054\n",
      "\n",
      "Best_original_global_solution:  [4, 0, 19, 14, 6, 9, 18, 17, 12, 3, 1, 5, 15, 11, 7, 10, 13, 2, 16, 8]\n",
      "Best_global_initial_cmax =  1914\n",
      "\n",
      "Neighbor_solution:  [0, 15, 11, 4, 16, 10, 2, 5, 19, 9, 8, 14, 13, 18, 6, 7, 1, 17, 3, 12]\n",
      "Neighor_cmax =  1910\n",
      "\n",
      "Best_global_solution:  [0, 15, 11, 4, 16, 10, 2, 5, 19, 9, 8, 14, 13, 18, 6, 7, 1, 17, 3, 12]\n",
      "Best_global_cmax =  1910\n"
     ]
    }
   ],
   "source": [
    "best_global = np.random.permutation(20).tolist()\n",
    "\n",
    "while calculate_makespan(rnd_data, best_global) > Cmax:\n",
    "    best_global = np.random.permutation(20).tolist()\n",
    "\n",
    "neighbor_sol, neighbor_cmax, best_global_found = fba_swap(permutation, rnd_data, best_global)\n",
    "\n",
    "print(\"Original_solution: \", permutation)\n",
    "print(\"Cmax = \", Cmax)\n",
    "\n",
    "print(\"\\nBest_original_global_solution: \", best_global)\n",
    "print(\"Best_global_initial_cmax = \", calculate_makespan(rnd_data, best_global))\n",
    "\n",
    "print(\"\\nNeighbor_solution: \", neighbor_sol)\n",
    "print(\"Neighor_cmax = \", neighbor_cmax)\n",
    "\n",
    "print(\"\\nBest_global_solution: \", best_global_found)\n",
    "print(\"Best_global_cmax = \", calculate_makespan(rnd_data, best_global_found))"
   ]
  },
  {
   "cell_type": "markdown",
   "metadata": {},
   "source": [
    "## Local Based Metaheuristics"
   ]
  },
  {
   "cell_type": "markdown",
   "metadata": {},
   "source": [
    "### Simulated annealing (RS) "
   ]
  },
  {
   "cell_type": "markdown",
   "metadata": {},
   "source": [
    "#### General method to get neighbors (except first and best admissible)"
   ]
  },
  {
   "cell_type": "code",
   "execution_count": 16,
   "metadata": {},
   "outputs": [],
   "source": [
    "def get_neighbor(processing_times, solution, method='random_swap'):\n",
    "    if method == 'random_swap':\n",
    "        sol, val = random_swap(solution, processing_times)\n",
    "    elif method == 'best_swap':\n",
    "        sol, val = best_swap(solution, processing_times)\n",
    "    elif method == 'first_admissible_swap':\n",
    "        sol, val = first_admissible_swap(solution, processing_times)\n",
    "    else:\n",
    "        i = random.randint(0, 2)\n",
    "        if i == 0:\n",
    "            sol, val = random_swap(solution, processing_times)\n",
    "        elif i == 1:\n",
    "            sol, val = best_swap(solution, processing_times)\n",
    "        elif i == 2:\n",
    "            sol, val = first_admissible_swap(solution, processing_times)\n",
    "    return sol, val"
   ]
  },
  {
   "cell_type": "code",
   "execution_count": 18,
   "metadata": {},
   "outputs": [],
   "source": [
    "def RS(processing_times, initial_solution, temp, method='random_swap', alpha=0.6, nb_palier= 10, it_max=100):\n",
    "    solution = initial_solution.copy()\n",
    "    makespan = calculate_makespan(processing_times, solution)\n",
    "    print('init_sol: ',solution, ' makespan = ', makespan, \"\\n\")\n",
    "    it = 0\n",
    "    while it < it_max:\n",
    "        for i in range(nb_palier):\n",
    "            sol, value = get_neighbor(processing_times, solution, method)\n",
    "            # print('Swap_sol: ',sol,' makespan = ', value)\n",
    "            delta = makespan - value\n",
    "            if delta > 0:\n",
    "                solution = sol\n",
    "                makespan = value\n",
    "            else:\n",
    "                if random.uniform(0, 1) < math.exp(delta / temp):\n",
    "                    solution = sol\n",
    "        temp = alpha * temp\n",
    "        it += 1\n",
    "    \n",
    "    return solution"
   ]
  },
  {
   "cell_type": "markdown",
   "metadata": {},
   "source": [
    "### RS with first and best admissible swap "
   ]
  },
  {
   "cell_type": "code",
   "execution_count": 19,
   "metadata": {},
   "outputs": [],
   "source": [
    "def RS_fba(processing_times, initial_solution, intitial_global, temp, alpha=0.6, nb_palier= 1, it_max=100):\n",
    "    solution = initial_solution.copy()\n",
    "    makespan = calculate_makespan(processing_times, solution)\n",
    "    print('init_sol: ',solution, ' makespan = ', makespan)\n",
    "    it = 0\n",
    "    print('initial_global_solution: ',intitial_global, ' global_makespan = ', calculate_makespan(processing_times, intitial_global), \"\\n\")\n",
    "    best_global = intitial_global.copy()\n",
    "    while it < it_max :\n",
    "        for i in range(nb_palier):\n",
    "            sol, value, best_global = fba_swap(solution, processing_times, best_global)\n",
    "            # print('FBA_swap_sol: ',sol,' makespan = ', value)\n",
    "            delta = makespan - value\n",
    "            if delta > 0:\n",
    "                solution = sol\n",
    "                makespan = value\n",
    "            else:\n",
    "                if random.uniform(0, 1) < math.exp(delta / temp):\n",
    "                    solution = sol\n",
    "        temp = alpha * temp\n",
    "        it += 1\n",
    "    \n",
    "    return solution, best_global"
   ]
  },
  {
   "cell_type": "markdown",
   "metadata": {},
   "source": [
    "### Paramètres"
   ]
  },
  {
   "cell_type": "code",
   "execution_count": 29,
   "metadata": {},
   "outputs": [
    {
     "name": "stdout",
     "output_type": "stream",
     "text": [
      "init_sol:  [0, 15, 18, 4, 16, 10, 2, 5, 19, 9, 8, 14, 13, 11, 6, 7, 1, 17, 3, 12]  makespan =  1444 \n",
      "\n",
      "init_sol:  [0, 15, 18, 4, 16, 10, 2, 5, 19, 9, 8, 14, 13, 11, 6, 7, 1, 17, 3, 12]  makespan =  1444 \n",
      "\n",
      "init_sol:  [0, 15, 18, 4, 16, 10, 2, 5, 19, 9, 8, 14, 13, 11, 6, 7, 1, 17, 3, 12]  makespan =  1444 \n",
      "\n",
      "init_sol:  [0, 15, 18, 4, 16, 10, 2, 5, 19, 9, 8, 14, 13, 11, 6, 7, 1, 17, 3, 12]  makespan =  1444 \n",
      "\n",
      "init_sol:  [0, 15, 18, 4, 16, 10, 2, 5, 19, 9, 8, 14, 13, 11, 6, 7, 1, 17, 3, 12]  makespan =  1444 \n",
      "\n",
      "init_sol:  [0, 15, 18, 4, 16, 10, 2, 5, 19, 9, 8, 14, 13, 11, 6, 7, 1, 17, 3, 12]  makespan =  1444 \n",
      "\n",
      "init_sol:  [0, 15, 18, 4, 16, 10, 2, 5, 19, 9, 8, 14, 13, 11, 6, 7, 1, 17, 3, 12]  makespan =  1444 \n",
      "\n",
      "init_sol:  [0, 15, 18, 4, 16, 10, 2, 5, 19, 9, 8, 14, 13, 11, 6, 7, 1, 17, 3, 12]  makespan =  1444 \n",
      "\n",
      "init_sol:  [0, 15, 18, 4, 16, 10, 2, 5, 19, 9, 8, 14, 13, 11, 6, 7, 1, 17, 3, 12]  makespan =  1444 \n",
      "\n",
      "init_sol:  [0, 15, 18, 4, 16, 10, 2, 5, 19, 9, 8, 14, 13, 11, 6, 7, 1, 17, 3, 12]  makespan =  1444 \n",
      "\n",
      "init_sol:  [0, 15, 18, 4, 16, 10, 2, 5, 19, 9, 8, 14, 13, 11, 6, 7, 1, 17, 3, 12]  makespan =  1444 \n",
      "\n",
      "init_sol:  [0, 15, 18, 4, 16, 10, 2, 5, 19, 9, 8, 14, 13, 11, 6, 7, 1, 17, 3, 12]  makespan =  1444 \n",
      "\n",
      "init_sol:  [0, 15, 18, 4, 16, 10, 2, 5, 19, 9, 8, 14, 13, 11, 6, 7, 1, 17, 3, 12]  makespan =  1444 \n",
      "\n",
      "init_sol:  [0, 15, 18, 4, 16, 10, 2, 5, 19, 9, 8, 14, 13, 11, 6, 7, 1, 17, 3, 12]  makespan =  1444 \n",
      "\n",
      "init_sol:  [0, 15, 18, 4, 16, 10, 2, 5, 19, 9, 8, 14, 13, 11, 6, 7, 1, 17, 3, 12]  makespan =  1444 \n",
      "\n",
      "init_sol:  [0, 15, 18, 4, 16, 10, 2, 5, 19, 9, 8, 14, 13, 11, 6, 7, 1, 17, 3, 12]  makespan =  1444 \n",
      "\n",
      "init_sol:  [0, 15, 18, 4, 16, 10, 2, 5, 19, 9, 8, 14, 13, 11, 6, 7, 1, 17, 3, 12]  makespan =  1444 \n",
      "\n",
      "init_sol:  [0, 15, 18, 4, 16, 10, 2, 5, 19, 9, 8, 14, 13, 11, 6, 7, 1, 17, 3, 12]  makespan =  1444 \n",
      "\n",
      "init_sol:  [0, 15, 18, 4, 16, 10, 2, 5, 19, 9, 8, 14, 13, 11, 6, 7, 1, 17, 3, 12]  makespan =  1444 \n",
      "\n",
      "init_sol:  [0, 15, 18, 4, 16, 10, 2, 5, 19, 9, 8, 14, 13, 11, 6, 7, 1, 17, 3, 12]  makespan =  1444 \n",
      "\n",
      "init_sol:  [0, 15, 18, 4, 16, 10, 2, 5, 19, 9, 8, 14, 13, 11, 6, 7, 1, 17, 3, 12]  makespan =  1444 \n",
      "\n",
      "init_sol:  [0, 15, 18, 4, 16, 10, 2, 5, 19, 9, 8, 14, 13, 11, 6, 7, 1, 17, 3, 12]  makespan =  1444 \n",
      "\n",
      "init_sol:  [0, 15, 18, 4, 16, 10, 2, 5, 19, 9, 8, 14, 13, 11, 6, 7, 1, 17, 3, 12]  makespan =  1444 \n",
      "\n",
      "init_sol:  [0, 15, 18, 4, 16, 10, 2, 5, 19, 9, 8, 14, 13, 11, 6, 7, 1, 17, 3, 12]  makespan =  1444 \n",
      "\n",
      "init_sol:  [0, 15, 18, 4, 16, 10, 2, 5, 19, 9, 8, 14, 13, 11, 6, 7, 1, 17, 3, 12]  makespan =  1444 \n",
      "\n",
      "init_sol:  [0, 15, 18, 4, 16, 10, 2, 5, 19, 9, 8, 14, 13, 11, 6, 7, 1, 17, 3, 12]  makespan =  1444 \n",
      "\n",
      "init_sol:  [0, 15, 18, 4, 16, 10, 2, 5, 19, 9, 8, 14, 13, 11, 6, 7, 1, 17, 3, 12]  makespan =  1444 \n",
      "\n",
      "init_sol:  [0, 15, 18, 4, 16, 10, 2, 5, 19, 9, 8, 14, 13, 11, 6, 7, 1, 17, 3, 12]  makespan =  1444 \n",
      "\n",
      "init_sol:  [0, 15, 18, 4, 16, 10, 2, 5, 19, 9, 8, 14, 13, 11, 6, 7, 1, 17, 3, 12]  makespan =  1444 \n",
      "\n",
      "init_sol:  [0, 15, 18, 4, 16, 10, 2, 5, 19, 9, 8, 14, 13, 11, 6, 7, 1, 17, 3, 12]  makespan =  1444 \n",
      "\n",
      "init_sol:  [0, 15, 18, 4, 16, 10, 2, 5, 19, 9, 8, 14, 13, 11, 6, 7, 1, 17, 3, 12]  makespan =  1444 \n",
      "\n",
      "init_sol:  [0, 15, 18, 4, 16, 10, 2, 5, 19, 9, 8, 14, 13, 11, 6, 7, 1, 17, 3, 12]  makespan =  1444 \n",
      "\n",
      "init_sol:  [0, 15, 18, 4, 16, 10, 2, 5, 19, 9, 8, 14, 13, 11, 6, 7, 1, 17, 3, 12]  makespan =  1444 \n",
      "\n",
      "init_sol:  [0, 15, 18, 4, 16, 10, 2, 5, 19, 9, 8, 14, 13, 11, 6, 7, 1, 17, 3, 12]  makespan =  1444 \n",
      "\n",
      "init_sol:  [0, 15, 18, 4, 16, 10, 2, 5, 19, 9, 8, 14, 13, 11, 6, 7, 1, 17, 3, 12]  makespan =  1444 \n",
      "\n",
      "init_sol:  [0, 15, 18, 4, 16, 10, 2, 5, 19, 9, 8, 14, 13, 11, 6, 7, 1, 17, 3, 12]  makespan =  1444 \n",
      "\n",
      "init_sol:  [0, 15, 18, 4, 16, 10, 2, 5, 19, 9, 8, 14, 13, 11, 6, 7, 1, 17, 3, 12]  makespan =  1444 \n",
      "\n"
     ]
    },
    {
     "name": "stderr",
     "output_type": "stream",
     "text": [
      "d:\\Python\\anaconda\\lib\\site-packages\\skopt\\optimizer\\optimizer.py:517: UserWarning: The objective has been evaluated at point [0.9, 17, 50] before, using random point [0.8469060216915132, 18, 157]\n",
      "  warnings.warn(\n"
     ]
    },
    {
     "name": "stdout",
     "output_type": "stream",
     "text": [
      "init_sol:  [0, 15, 18, 4, 16, 10, 2, 5, 19, 9, 8, 14, 13, 11, 6, 7, 1, 17, 3, 12]  makespan =  1444 \n",
      "\n",
      "init_sol:  [0, 15, 18, 4, 16, 10, 2, 5, 19, 9, 8, 14, 13, 11, 6, 7, 1, 17, 3, 12]  makespan =  1444 \n",
      "\n",
      "init_sol:  [0, 15, 18, 4, 16, 10, 2, 5, 19, 9, 8, 14, 13, 11, 6, 7, 1, 17, 3, 12]  makespan =  1444 \n",
      "\n",
      "init_sol:  [0, 15, 18, 4, 16, 10, 2, 5, 19, 9, 8, 14, 13, 11, 6, 7, 1, 17, 3, 12]  makespan =  1444 \n",
      "\n",
      "init_sol:  [0, 15, 18, 4, 16, 10, 2, 5, 19, 9, 8, 14, 13, 11, 6, 7, 1, 17, 3, 12]  makespan =  1444 \n",
      "\n",
      "init_sol:  [0, 15, 18, 4, 16, 10, 2, 5, 19, 9, 8, 14, 13, 11, 6, 7, 1, 17, 3, 12]  makespan =  1444 \n",
      "\n",
      "init_sol:  [0, 15, 18, 4, 16, 10, 2, 5, 19, 9, 8, 14, 13, 11, 6, 7, 1, 17, 3, 12]  makespan =  1444 \n",
      "\n",
      "init_sol:  [0, 15, 18, 4, 16, 10, 2, 5, 19, 9, 8, 14, 13, 11, 6, 7, 1, 17, 3, 12]  makespan =  1444 \n",
      "\n",
      "init_sol:  [0, 15, 18, 4, 16, 10, 2, 5, 19, 9, 8, 14, 13, 11, 6, 7, 1, 17, 3, 12]  makespan =  1444 \n",
      "\n"
     ]
    },
    {
     "name": "stderr",
     "output_type": "stream",
     "text": [
      "d:\\Python\\anaconda\\lib\\site-packages\\skopt\\optimizer\\optimizer.py:517: UserWarning: The objective has been evaluated at point [0.9, 17, 50] before, using random point [0.6986662024605518, 10, 196]\n",
      "  warnings.warn(\n"
     ]
    },
    {
     "name": "stdout",
     "output_type": "stream",
     "text": [
      "init_sol:  [0, 15, 18, 4, 16, 10, 2, 5, 19, 9, 8, 14, 13, 11, 6, 7, 1, 17, 3, 12]  makespan =  1444 \n",
      "\n"
     ]
    },
    {
     "name": "stderr",
     "output_type": "stream",
     "text": [
      "d:\\Python\\anaconda\\lib\\site-packages\\skopt\\optimizer\\optimizer.py:517: UserWarning: The objective has been evaluated at point [0.9, 17, 50] before, using random point [0.8790407845908801, 19, 141]\n",
      "  warnings.warn(\n"
     ]
    },
    {
     "name": "stdout",
     "output_type": "stream",
     "text": [
      "init_sol:  [0, 15, 18, 4, 16, 10, 2, 5, 19, 9, 8, 14, 13, 11, 6, 7, 1, 17, 3, 12]  makespan =  1444 \n",
      "\n"
     ]
    },
    {
     "name": "stderr",
     "output_type": "stream",
     "text": [
      "d:\\Python\\anaconda\\lib\\site-packages\\skopt\\optimizer\\optimizer.py:517: UserWarning: The objective has been evaluated at point [0.9, 17, 50] before, using random point [0.8625735151153409, 7, 120]\n",
      "  warnings.warn(\n"
     ]
    },
    {
     "name": "stdout",
     "output_type": "stream",
     "text": [
      "init_sol:  [0, 15, 18, 4, 16, 10, 2, 5, 19, 9, 8, 14, 13, 11, 6, 7, 1, 17, 3, 12]  makespan =  1444 \n",
      "\n"
     ]
    },
    {
     "name": "stderr",
     "output_type": "stream",
     "text": [
      "d:\\Python\\anaconda\\lib\\site-packages\\skopt\\optimizer\\optimizer.py:517: UserWarning: The objective has been evaluated at point [0.9, 17, 50] before, using random point [0.5231948993445806, 18, 63]\n",
      "  warnings.warn(\n"
     ]
    },
    {
     "name": "stdout",
     "output_type": "stream",
     "text": [
      "init_sol:  [0, 15, 18, 4, 16, 10, 2, 5, 19, 9, 8, 14, 13, 11, 6, 7, 1, 17, 3, 12]  makespan =  1444 \n",
      "\n",
      "Meilleurs paramètres: alpha=0.7371378472900074, nb_palier=18, it_max=179\n"
     ]
    }
   ],
   "source": [
    "# Définir l'espace des paramètres\n",
    "space = [\n",
    "    Real(0.5, 0.9, name='alpha'),\n",
    "    Integer(5, 20, name='nb_palier'),\n",
    "    Integer(50, 200, name='it_max')\n",
    "]\n",
    "\n",
    "processing_times = benchmarks[0]\n",
    "initial_solution = permutation\n",
    "# Fonction objectif à minimiser\n",
    "@use_named_args(space)\n",
    "def objective(**params):\n",
    "    alpha = params['alpha']\n",
    "    nb_palier = params['nb_palier']\n",
    "    it_max = params['it_max']\n",
    "    # Vous devez définir `processing_times` et `initial_solution`\n",
    "    result = RS(processing_times, initial_solution, temp=100, alpha=alpha, nb_palier=nb_palier, it_max=it_max)\n",
    "    return calculate_makespan(processing_times, result)\n",
    "\n",
    "# Lancer l'optimisation\n",
    "result = gp_minimize(objective, space, n_calls=50, random_state=0)\n",
    "# Affichage des meilleurs paramètres trouvés\n",
    "print(\"Meilleurs paramètres: alpha={}, nb_palier={}, it_max={}\".format(\n",
    "    result.x[0], result.x[1], result.x[2]))"
   ]
  },
  {
   "cell_type": "markdown",
   "metadata": {},
   "source": [
    "## Tests\n",
    "\n",
    "We can adjust the swapping method to see the differences in tests"
   ]
  },
  {
   "cell_type": "code",
   "execution_count": 24,
   "metadata": {},
   "outputs": [],
   "source": [
    "benchmark = benchmarks[0]\n",
    "optimal_alpha = result.x[0]\n",
    "optimal_Nb_palier = result.x[1]\n",
    "optimal__it_max = result.x[2]\n",
    "best_global = np.random.permutation(20).tolist()\n",
    "while calculate_makespan(rnd_data, best_global) > Cmax:\n",
    "    best_global = np.random.permutation(20).tolist()"
   ]
  },
  {
   "cell_type": "markdown",
   "metadata": {},
   "source": [
    "### Random initial solution"
   ]
  },
  {
   "cell_type": "markdown",
   "metadata": {},
   "source": [
    "#### Without FBA swapping method"
   ]
  },
  {
   "cell_type": "code",
   "execution_count": 25,
   "metadata": {},
   "outputs": [
    {
     "name": "stdout",
     "output_type": "stream",
     "text": [
      "init_sol:  [0, 15, 18, 4, 16, 10, 2, 5, 19, 9, 8, 14, 13, 11, 6, 7, 1, 17, 3, 12]  makespan =  1444 \n",
      "\n"
     ]
    }
   ],
   "source": [
    "rs_solution = RS(benchmark, permutation, 5, method='random_swap',alpha=optimal_alpha, nb_palier=optimal_Nb_palier, it_max=optimal__it_max)"
   ]
  },
  {
   "cell_type": "markdown",
   "metadata": {},
   "source": [
    "#### With FBA swapping method"
   ]
  },
  {
   "cell_type": "code",
   "execution_count": 26,
   "metadata": {},
   "outputs": [
    {
     "name": "stdout",
     "output_type": "stream",
     "text": [
      "init_sol:  [0, 15, 18, 4, 16, 10, 2, 5, 19, 9, 8, 14, 13, 11, 6, 7, 1, 17, 3, 12]  makespan =  1444\n",
      "initial_global_solution:  [5, 11, 15, 9, 3, 17, 4, 2, 1, 12, 19, 10, 7, 0, 14, 16, 6, 8, 13, 18]  global_makespan =  1600 \n",
      "\n"
     ]
    }
   ],
   "source": [
    "rs_fba_solution, best_global_found = RS_fba(benchmark, permutation, best_global, 5,alpha=optimal_alpha, nb_palier=optimal_Nb_palier, it_max=optimal__it_max)"
   ]
  },
  {
   "cell_type": "code",
   "execution_count": 27,
   "metadata": {},
   "outputs": [
    {
     "name": "stdout",
     "output_type": "stream",
     "text": [
      "Results of random:\n",
      "First sequence: [0, 15, 18, 4, 16, 10, 2, 5, 19, 9, 8, 14, 13, 11, 6, 7, 1, 17, 3, 12] with a makespan of 1444.\n",
      "\n",
      "Results of RS:\n",
      "Best solution: [14, 5, 2, 16, 8, 4, 18, 3, 15, 12, 1, 7, 6, 10, 13, 17, 0, 11, 9, 19] with a makespan of 1297.\n",
      "\n",
      "Results of RS_FBA:\n",
      "Best solution: [12, 8, 13, 7, 16, 3, 2, 4, 18, 5, 15, 14, 17, 11, 6, 10, 1, 0, 9, 19] with a makespan of 1297.\n",
      "Best global solution: [12, 8, 13, 7, 16, 3, 2, 4, 18, 5, 15, 14, 17, 11, 6, 10, 1, 0, 9, 19] with a makespan of 1297.\n"
     ]
    }
   ],
   "source": [
    "print('Results of random:')\n",
    "print(f'First sequence: {permutation} with a makespan of {calculate_makespan(benchmark, permutation)}.')\n",
    "print('\\nResults of RS:')\n",
    "print(f'Best solution: {rs_solution} with a makespan of {calculate_makespan(benchmark, rs_solution)}.')\n",
    "print('\\nResults of RS_FBA:')\n",
    "print(f'Best solution: {rs_fba_solution} with a makespan of {calculate_makespan(benchmark, rs_fba_solution)}.')\n",
    "print(f'Best global solution: {best_global_found} with a makespan of {calculate_makespan(benchmark, best_global_found)}.')"
   ]
  },
  {
   "cell_type": "markdown",
   "metadata": {},
   "source": [
    "### NEH initial solution"
   ]
  },
  {
   "cell_type": "markdown",
   "metadata": {},
   "source": [
    "#### Without FBA swapping method"
   ]
  },
  {
   "cell_type": "code",
   "execution_count": null,
   "metadata": {},
   "outputs": [
    {
     "name": "stdout",
     "output_type": "stream",
     "text": [
      "init_sol:  [8, 6, 15, 10, 7, 1, 16, 2, 14, 13, 17, 3, 9, 11, 0, 18, 5, 4, 12, 19]  makespan =  1334 \n",
      "\n"
     ]
    }
   ],
   "source": [
    "initialSolution, makespan = neh_algorithm(benchmark)\n",
    "rs_solution = RS(benchmark, initialSolution, 5)"
   ]
  },
  {
   "cell_type": "markdown",
   "metadata": {},
   "source": [
    "#### With FBA swapping method"
   ]
  },
  {
   "cell_type": "code",
   "execution_count": null,
   "metadata": {},
   "outputs": [
    {
     "name": "stdout",
     "output_type": "stream",
     "text": [
      "init_sol:  [8, 6, 15, 10, 7, 1, 16, 2, 14, 13, 17, 3, 9, 11, 0, 18, 5, 4, 12, 19]  makespan =  1334\n",
      "initial_global_solution:  [12, 2, 15, 7, 10, 6, 17, 0, 19, 1, 18, 9, 8, 4, 13, 5, 11, 14, 16, 3]  global_makespan =  1537 \n",
      "\n"
     ]
    }
   ],
   "source": [
    "rs_fba_solution, best_global_found = RS_fba(benchmark, initialSolution, best_global, 5)"
   ]
  },
  {
   "cell_type": "code",
   "execution_count": null,
   "metadata": {},
   "outputs": [
    {
     "name": "stdout",
     "output_type": "stream",
     "text": [
      "Results of NEH:\n",
      "First sequence: [8, 6, 15, 10, 7, 1, 16, 2, 14, 13, 17, 3, 9, 11, 0, 18, 5, 4, 12, 19] with a makespan of 1334.\n",
      "\n",
      "Results of RS:\n",
      "Best solution: [16, 14, 5, 12, 3, 8, 7, 1, 17, 6, 11, 10, 2, 4, 15, 0, 18, 13, 9, 19] with a makespan of 1297.\n",
      "\n",
      "Results of RS_FBA:\n",
      "Best solution: [8, 12, 15, 10, 7, 1, 16, 2, 14, 13, 17, 3, 4, 11, 0, 18, 5, 9, 6, 19] with a makespan of 1305.\n",
      "Best global solution: [8, 12, 15, 10, 7, 1, 16, 2, 14, 13, 17, 3, 4, 11, 0, 18, 5, 9, 6, 19] with a makespan of 1305.\n"
     ]
    }
   ],
   "source": [
    "print('Results of NEH:')\n",
    "print(f'First sequence: {initialSolution} with a makespan of {makespan}.')\n",
    "print('\\nResults of RS:')\n",
    "print(f'Best solution: {rs_solution} with a makespan of {calculate_makespan(benchmark, rs_solution)}.')\n",
    "print('\\nResults of RS_FBA:')\n",
    "print(f'Best solution: {rs_fba_solution} with a makespan of {calculate_makespan(benchmark, rs_fba_solution)}.')\n",
    "print(f'Best global solution: {best_global_found} with a makespan of {calculate_makespan(benchmark, best_global_found)}.')"
   ]
  },
  {
   "cell_type": "markdown",
   "metadata": {},
   "source": [
    "### PRSKE initial solution"
   ]
  },
  {
   "cell_type": "markdown",
   "metadata": {},
   "source": [
    "#### Without FBA swapping method"
   ]
  },
  {
   "cell_type": "code",
   "execution_count": null,
   "metadata": {},
   "outputs": [
    {
     "name": "stdout",
     "output_type": "stream",
     "text": [
      "init_sol:  [3, 17, 10, 1, 9, 11, 6, 4, 19, 15, 18, 5, 0, 12, 8, 13, 14, 7, 16, 2]  makespan =  1593 \n",
      "\n"
     ]
    }
   ],
   "source": [
    "initialSolution, makespan  = PRSKE(benchmark)\n",
    "rs_solution = RS(benchmark, initialSolution, 5)"
   ]
  },
  {
   "cell_type": "markdown",
   "metadata": {},
   "source": [
    "#### With FBA swapping method"
   ]
  },
  {
   "cell_type": "code",
   "execution_count": null,
   "metadata": {},
   "outputs": [
    {
     "name": "stdout",
     "output_type": "stream",
     "text": [
      "init_sol:  [3, 17, 10, 1, 9, 11, 6, 4, 19, 15, 18, 5, 0, 12, 8, 13, 14, 7, 16, 2]  makespan =  1593\n",
      "initial_global_solution:  [12, 2, 15, 7, 10, 6, 17, 0, 19, 1, 18, 9, 8, 4, 13, 5, 11, 14, 16, 3]  global_makespan =  1537 \n",
      "\n"
     ]
    }
   ],
   "source": [
    "rs_fba_solution, best_global_found = RS_fba(benchmark, initialSolution, best_global, 5)"
   ]
  },
  {
   "cell_type": "code",
   "execution_count": null,
   "metadata": {},
   "outputs": [
    {
     "name": "stdout",
     "output_type": "stream",
     "text": [
      "Results of PRSKE:\n",
      "First sequence: [3, 17, 10, 1, 9, 11, 6, 4, 19, 15, 18, 5, 0, 12, 8, 13, 14, 7, 16, 2] with a makespan of 1593.\n",
      "\n",
      "Results of RS:\n",
      "Best solution: [14, 1, 5, 0, 8, 3, 13, 10, 4, 6, 16, 2, 17, 18, 7, 11, 15, 12, 9, 19] with a makespan of 1297\n",
      "\n",
      "Results of RS_FBA:\n",
      "Best solution: [6, 13, 10, 17, 16, 14, 3, 4, 19, 15, 18, 5, 0, 1, 2, 8, 11, 7, 9, 12] with a makespan of 1359.\n",
      "Best global solution: [6, 13, 10, 17, 16, 14, 3, 4, 19, 15, 18, 5, 0, 1, 2, 8, 11, 7, 9, 12] with a makespan of 1359.\n"
     ]
    }
   ],
   "source": [
    "print('Results of PRSKE:')\n",
    "print(f'First sequence: {initialSolution} with a makespan of {makespan}.')\n",
    "print('\\nResults of RS:')\n",
    "print(f'Best solution: {rs_solution} with a makespan of {calculate_makespan(benchmark, rs_solution)}')\n",
    "print('\\nResults of RS_FBA:')\n",
    "print(f'Best solution: {rs_fba_solution} with a makespan of {calculate_makespan(benchmark, rs_fba_solution)}.')\n",
    "print(f'Best global solution: {best_global_found} with a makespan of {calculate_makespan(benchmark, best_global_found)}.')"
   ]
  }
 ],
 "metadata": {
  "kernelspec": {
   "display_name": "TP-yMQy8RZS",
   "language": "python",
   "name": "python3"
  },
  "language_info": {
   "codemirror_mode": {
    "name": "ipython",
    "version": 3
   },
   "file_extension": ".py",
   "mimetype": "text/x-python",
   "name": "python",
   "nbconvert_exporter": "python",
   "pygments_lexer": "ipython3",
   "version": "3.9.13"
  }
 },
 "nbformat": 4,
 "nbformat_minor": 2
}
