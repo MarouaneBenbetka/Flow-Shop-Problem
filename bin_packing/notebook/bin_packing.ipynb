{
 "cells": [
  {
   "cell_type": "markdown",
   "metadata": {},
   "source": [
    "# HEURISTICS FOR BIN-PACKING"
   ]
  },
  {
   "cell_type": "markdown",
   "metadata": {},
   "source": [
    "## READING DATA"
   ]
  },
  {
   "cell_type": "code",
   "execution_count": 26,
   "metadata": {},
   "outputs": [
    {
     "name": "stdout",
     "output_type": "stream",
     "text": [
      "['Instance 1:', '10', '2 5 9 1 8 6', '', 'Instance 2:', '15', '2 6 12 1 3 7 9 10', '', 'Instance 3:', '20', '1 5.5 12.3 9 7.5 11 16.7 2.4 4.2']\n"
     ]
    },
    {
     "data": {
      "text/plain": [
       "[{'capacity': 10.0, 'objects': [2.0, 5.0, 9.0, 1.0, 8.0, 6.0]},\n",
       " {'capacity': 15.0, 'objects': [2.0, 6.0, 12.0, 1.0, 3.0, 7.0, 9.0, 10.0]},\n",
       " {'capacity': 20.0,\n",
       "  'objects': [1.0, 5.5, 12.3, 9.0, 7.5, 11.0, 16.7, 2.4, 4.2]}]"
      ]
     },
     "execution_count": 26,
     "metadata": {},
     "output_type": "execute_result"
    }
   ],
   "source": [
    "with open('../data/data.txt', 'r') as f:\n",
    "    instances = f.read().splitlines()\n",
    "\n",
    "def readInstance(instances: list, number: int) -> dict:\n",
    "    instance = {}\n",
    "    if number < len(instances) / 4:\n",
    "        instance['capacity'] = float(instances[4*number + 1])\n",
    "        instance['objects'] = [float(obj) for obj in instances[4*number + 2].split(' ')]\n",
    "    return instance\n",
    "\n",
    "def readAllInstances(instances: list) -> list:\n",
    "    problInstances = []\n",
    "    for i in range(int(len(instances)/4) + 1):\n",
    "        instance = {}\n",
    "        instance['capacity'] = float(instances[4*i + 1])\n",
    "        instance['objects'] = [float(obj) for obj in instances[4*i + 2].split(' ')]\n",
    "        problInstances.append(instance)\n",
    "    return problInstances\n",
    "\n",
    "readAllInstances(instances)"
   ]
  },
  {
   "cell_type": "markdown",
   "metadata": {},
   "source": [
    "## 1. NEXT-FIT"
   ]
  },
  {
   "cell_type": "code",
   "execution_count": 30,
   "metadata": {},
   "outputs": [],
   "source": [
    "def next_fit(instance: list) -> list:\n",
    "    capacity = instance['capacity']\n",
    "    objects = instance['objects']\n",
    "    boites = [capacity]\n",
    "    bi = 0\n",
    "    \n",
    "    for obj in objects:\n",
    "        if obj > boites[bi]:\n",
    "            bi += 1\n",
    "            boites.append(capacity - obj)\n",
    "        else:\n",
    "            boites[bi] -= obj\n",
    "    \n",
    "    return boites"
   ]
  },
  {
   "cell_type": "code",
   "execution_count": 50,
   "metadata": {},
   "outputs": [
    {
     "data": {
      "text/plain": [
       "[1.1999999999999993, 3.5, 9.0, 0.9000000000000008, 15.8]"
      ]
     },
     "execution_count": 50,
     "metadata": {},
     "output_type": "execute_result"
    }
   ],
   "source": [
    "next_fit(readInstance(instances, 2))"
   ]
  },
  {
   "cell_type": "markdown",
   "metadata": {},
   "source": [
    "## 2. FIRST-FIT"
   ]
  },
  {
   "cell_type": "code",
   "execution_count": 37,
   "metadata": {},
   "outputs": [],
   "source": [
    "def first_fit(instance: list) -> list:\n",
    "    capacity = instance['capacity']\n",
    "    objects = instance['objects']\n",
    "    boites = [capacity]\n",
    "    for obj in objects:\n",
    "        trouv = False\n",
    "        for bi in range(len(boites)):\n",
    "            if obj <= boites[bi]:\n",
    "                boites[bi] -= obj\n",
    "                trouv = True\n",
    "                break\n",
    "        if not trouv:\n",
    "            boites.append(capacity - obj)\n",
    "\n",
    "    return boites"
   ]
  },
  {
   "cell_type": "code",
   "execution_count": 49,
   "metadata": {},
   "outputs": [
    {
     "data": {
      "text/plain": [
       "[1.1999999999999993, 1.1, 4.8, 3.3000000000000007]"
      ]
     },
     "execution_count": 49,
     "metadata": {},
     "output_type": "execute_result"
    }
   ],
   "source": [
    "first_fit(readInstance(instances, 2))"
   ]
  },
  {
   "cell_type": "markdown",
   "metadata": {},
   "source": [
    "## 3. BEST-FIT"
   ]
  },
  {
   "cell_type": "code",
   "execution_count": 46,
   "metadata": {},
   "outputs": [],
   "source": [
    "def best_fit(instance: list) -> list:\n",
    "    capacity = instance['capacity']\n",
    "    objects = instance['objects']\n",
    "    boites = [capacity]\n",
    "\n",
    "    for obj in objects:\n",
    "        min_residu = min([boite-obj for boite in boites if boite-obj > 0], default=None)\n",
    "        print(\"min residu: \", min_residu)\n",
    "        if min_residu:\n",
    "            boites[boites.index(min_residu+obj)] -= obj\n",
    "        else:\n",
    "            boites.append(capacity - obj)\n",
    "\n",
    "    return boites\n"
   ]
  },
  {
   "cell_type": "code",
   "execution_count": 48,
   "metadata": {},
   "outputs": [
    {
     "name": "stdout",
     "output_type": "stream",
     "text": [
      "min residu:  19.0\n",
      "min residu:  13.5\n",
      "min residu:  1.1999999999999993\n",
      "min residu:  None\n",
      "min residu:  3.5\n",
      "min residu:  None\n",
      "min residu:  None\n",
      "min residu:  0.9000000000000008\n",
      "min residu:  4.8\n"
     ]
    },
    {
     "data": {
      "text/plain": [
       "[1.1999999999999993, 3.5, 4.8, 0.9000000000000008]"
      ]
     },
     "execution_count": 48,
     "metadata": {},
     "output_type": "execute_result"
    }
   ],
   "source": [
    "best_fit(readInstance(instances, 2))"
   ]
  }
 ],
 "metadata": {
  "kernelspec": {
   "display_name": "TP-yMQy8RZS",
   "language": "python",
   "name": "python3"
  },
  "language_info": {
   "codemirror_mode": {
    "name": "ipython",
    "version": 3
   },
   "file_extension": ".py",
   "mimetype": "text/x-python",
   "name": "python",
   "nbconvert_exporter": "python",
   "pygments_lexer": "ipython3",
   "version": "3.11.1"
  }
 },
 "nbformat": 4,
 "nbformat_minor": 2
}
