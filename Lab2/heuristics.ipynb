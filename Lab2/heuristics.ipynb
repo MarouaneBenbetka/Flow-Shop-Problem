{
 "cells": [
  {
   "cell_type": "markdown",
   "metadata": {},
   "source": [
    "# <center>Welcome FSP solved with diverse heuristics</center>"
   ]
  },
  {
   "cell_type": "markdown",
   "metadata": {},
   "source": [
    "## Data Utils"
   ]
  },
  {
   "cell_type": "code",
   "execution_count": 1,
   "metadata": {},
   "outputs": [],
   "source": [
    "import numpy as np\n",
    "import itertools\n",
    "import time\n",
    "import math\n",
    "import pandas as pd\n",
    "import matplotlib.pyplot as plt"
   ]
  },
  {
   "cell_type": "code",
   "execution_count": 2,
   "metadata": {},
   "outputs": [],
   "source": [
    "\n",
    "\n",
    "'''\n",
    "Reading the data from the benchmark file\n",
    "'''\n",
    "\n",
    "def read_flow_shop_data(file_path, machine_count, job_count):\n",
    "    instances = []\n",
    "    with open(file_path) as p:\n",
    "        lines = p.readlines()\n",
    "        line_count = len(lines)\n",
    "\n",
    "        instance_count = line_count // (machine_count + 3)\n",
    "\n",
    "        for i in range(instance_count):\n",
    "            # recover the data of each instance\n",
    "            params_line = lines[i * (machine_count + 3) + 1]\n",
    "            job_count, machine_count, initial_seed, upper_bound, lower_bound = list(\n",
    "                map(lambda x: int(x), params_line.split()))\n",
    "\n",
    "            # processing_times = [list(map(int, lines[i * (machine_count + 3) + 3])) for line in lines]\n",
    "            processing_times = np.array([list(map(lambda x: int(x), line.strip().split())) for\n",
    "                                         line in lines[\n",
    "                                                 i * (machine_count + 3) + 3:  # start\n",
    "                                                 i * (machine_count + 3) + 3 + machine_count  # end\n",
    "                                                 ]\n",
    "                                         ])\n",
    "\n",
    "            record = (machine_count, job_count, processing_times)\n",
    "            instances.append(record)\n",
    "\n",
    "    return instances\n",
    "\n"
   ]
  },
  {
   "cell_type": "markdown",
   "metadata": {},
   "source": [
    "### Path Cost calculation function :\n",
    "used to calculate the cost of current node, which is the correct cost starting for the actual path of executed jobs"
   ]
  },
  {
   "cell_type": "code",
   "execution_count": 3,
   "metadata": {},
   "outputs": [],
   "source": [
    "def incremental_cost(machine_job_matrix, jobs_sequence):\n",
    "    nb_jobs = len(jobs_sequence)\n",
    "    nb_machines = machine_job_matrix.shape[0]\n",
    "\n",
    "    incremental_cost = np.zeros((nb_machines, nb_jobs))\n",
    "\n",
    "    # evaluate the first machines\n",
    "    incremental_cost[0, 0] = machine_job_matrix[0][jobs_sequence[0]]\n",
    "\n",
    "    for i in range(1, nb_jobs):\n",
    "        incremental_cost[0][i] = incremental_cost[0][i - 1] + \\\n",
    "            machine_job_matrix[0][jobs_sequence[i]]\n",
    "\n",
    "    # evaluate the rest of machines\n",
    "    for i in range(1, nb_machines):\n",
    "        incremental_cost[i, 0] = incremental_cost[i - 1, 0] + \\\n",
    "            machine_job_matrix[i, jobs_sequence[0]]\n",
    "        for j in range(1, nb_jobs):\n",
    "            incremental_cost[i, j] = machine_job_matrix[i, jobs_sequence[j]] + \\\n",
    "                max(incremental_cost[i - 1, j], incremental_cost[i, j - 1])\n",
    "    return incremental_cost[-1,-1]"
   ]
  },
  {
   "cell_type": "markdown",
   "metadata": {},
   "source": [
    "### Gantt graph generator"
   ]
  },
  {
   "cell_type": "code",
   "execution_count": 4,
   "metadata": {},
   "outputs": [],
   "source": [
    "def generate_gantt_chart(current_instance, solution):\n",
    "    plt.figure(figsize=(20, 12))\n",
    "    df = pd.DataFrame(columns=['Machine', 'Job', 'Start', 'Finish'])\n",
    "\n",
    "    machines, jobs = current_instance.shape\n",
    "    machine_times = np.zeros((machines, jobs))\n",
    "    start_time_m = np.zeros(machines)\n",
    "    for job in solution:\n",
    "\n",
    "        for machine_index in range(machines):\n",
    "            start_time = start_time_m[machine_index]\n",
    "            if machine_index > 0:\n",
    "                start_time = max(start_time, start_time_m[machine_index-1])\n",
    "            end_time = start_time + \\\n",
    "                current_instance[machine_index, job]\n",
    "            start_time_m[machine_index] = end_time\n",
    "\n",
    "            df = pd.concat([df, pd.DataFrame({'Machine': f'Machine {machine_index + 1}',\n",
    "                                                'Job': f'Job {job + 1}',\n",
    "                                                'Start': start_time,\n",
    "                                                'Finish': end_time}, index=[0])], ignore_index=True)\n",
    "\n",
    "            machine_times[machine_index, job] = end_time\n",
    "\n",
    "    colors = plt.cm.tab10.colors\n",
    "    for i, machine_index in enumerate(range(machines)):\n",
    "        machine_df = df[df['Machine'] == f'Machine {machine_index + 1}']\n",
    "        plt.broken_barh([(start, end - start) for start, end in zip(machine_df['Start'], machine_df['Finish'])],\n",
    "                        (i * 10, 9), facecolors=[colors[j % 10] for j in range(jobs)], edgecolor='black')\n",
    "\n",
    "    plt.xlabel('Time')\n",
    "    plt.yticks([i * 10 + 4.5 for i in range(machines)],\n",
    "                [f'Machine {i + 1}' for i in range(machines)])\n",
    "    plt.show()"
   ]
  },
  {
   "cell_type": "markdown",
   "metadata": {},
   "source": [
    "## Heuristics"
   ]
  },
  {
   "cell_type": "markdown",
   "metadata": {},
   "source": [
    "### Johnson **n** jobs **2** machines"
   ]
  },
  {
   "cell_type": "code",
   "execution_count": 5,
   "metadata": {},
   "outputs": [],
   "source": [
    "def johnson_method(processing_times):\n",
    "    jobs, machines = processing_times.shape\n",
    "    copy_processing_times = processing_times.copy()\n",
    "    maximum = processing_times.max() + 1\n",
    "    m1 = []\n",
    "    m2 = []\n",
    "    \n",
    "    if machines != 2:\n",
    "        raise Exception(\"Johson method only works with two machines\")\n",
    "        \n",
    "    for i in range(jobs):\n",
    "        minimum = copy_processing_times.min()\n",
    "        position = np.where(copy_processing_times == minimum)\n",
    "        \n",
    "        if position[1][0] == 0:\n",
    "            m1.append(position[0][0])\n",
    "        else:\n",
    "            m2.insert(0, position[0][0])\n",
    "        \n",
    "        copy_processing_times[position[0][0]] = maximum\n",
    "        \n",
    "    return m1+m2"
   ]
  },
  {
   "cell_type": "markdown",
   "metadata": {},
   "source": [
    "### Test Johnson"
   ]
  },
  {
   "cell_type": "code",
   "execution_count": 6,
   "metadata": {},
   "outputs": [
    {
     "name": "stdout",
     "output_type": "stream",
     "text": [
      "[[19  9]\n",
      " [21 10]\n",
      " [ 5  8]\n",
      " [10 22]\n",
      " [ 7  5]\n",
      " [16  5]\n",
      " [ 5  9]] \n",
      "\n",
      "Best sequence found by Johnson is [2, 6, 3, 1, 0, 5, 4] with a makespan of 88.0\n",
      "Elapsed time: 0.0 seconds\n"
     ]
    }
   ],
   "source": [
    "# Generate a random example to work with 7 jobs and 2 machines\n",
    "rnd_data = np.random.randint(size=(7,2), low=5, high=23)\n",
    "print(rnd_data, \"\\n\")\n",
    "\n",
    "start_time = time.time()\n",
    "sol = johnson_method(rnd_data)\n",
    "elapsed_time = time.time() - start_time\n",
    "\n",
    "print(f'Best sequence found by Johnson is {sol} with a makespan of {incremental_cost(np.array(rnd_data).T,sol)}')\n",
    "print(\"Elapsed time:\", elapsed_time, \"seconds\")"
   ]
  },
  {
   "cell_type": "markdown",
   "metadata": {},
   "source": [
    "### CDS Heuristic [Campbell,Dudek and Smith ] : **n** jobs **m** machines (1970)"
   ]
  },
  {
   "cell_type": "code",
   "execution_count": 7,
   "metadata": {},
   "outputs": [],
   "source": [
    "# python code for CDS heuristic\n",
    "\n",
    "def cds_heuristic(processing_times):\n",
    "    \n",
    "    \n",
    "    nb_machines, nb_jobs = processing_times.shape\n",
    "\n",
    "\n",
    "    best_cost = math.inf\n",
    "\n",
    "    \n",
    "    machine_1_times = np.zeros((nb_jobs,1))\n",
    "    machine_2_times = np.zeros((nb_jobs,1))\n",
    "    \n",
    "    \n",
    "    # iterate through the nb_machines-1 auxiliary n-job 2-machines problems\n",
    "\n",
    "\n",
    "\n",
    "    for k in range(nb_machines -1):\n",
    "        machine_1_times[:,0] += processing_times[:][k]\n",
    "        machine_2_times[:,0] += processing_times[:][-k-1]\n",
    "        \n",
    "        jn_times = np.concatenate((machine_1_times, machine_2_times), axis=1)\n",
    "        seq = johnson_method(jn_times)\n",
    "        cost = incremental_cost(jn_times.T,seq)\n",
    "        if cost < best_cost:\n",
    "            best_cost = cost\n",
    "            best_seq = seq\n",
    "    \n",
    "    return best_seq, best_cost\n"
   ]
  },
  {
   "cell_type": "markdown",
   "metadata": {},
   "source": [
    "### Test CDS"
   ]
  },
  {
   "cell_type": "code",
   "execution_count": 8,
   "metadata": {},
   "outputs": [
    {
     "name": "stdout",
     "output_type": "stream",
     "text": [
      "[[14 23 31 31 39]\n",
      " [28 44 38 13 42]\n",
      " [20 18 13 22 22]\n",
      " [26 49 12 28 39]\n",
      " [39 12 36 44 15]\n",
      " [25 35 15 27 22]\n",
      " [22 33 40 24 28]\n",
      " [45 29 11 24 19]] \n",
      "\n"
     ]
    },
    {
     "data": {
      "text/plain": [
       "([0, 2, 6, 3, 1, 5, 7, 4], 240.0)"
      ]
     },
     "execution_count": 8,
     "metadata": {},
     "output_type": "execute_result"
    }
   ],
   "source": [
    "rnd_data = np.random.randint(size=(8,5), low=10, high=50)\n",
    "print(rnd_data, \"\\n\")\n",
    "cds_heuristic(rnd_data.T)\n",
    "    \n"
   ]
  },
  {
   "cell_type": "code",
   "execution_count": 9,
   "metadata": {},
   "outputs": [],
   "source": [
    "instances = read_flow_shop_data('../Lab1/data/tai20_5.txt', 5, 20)\n",
    "comman_instance = instances[0][2]"
   ]
  },
  {
   "cell_type": "code",
   "execution_count": 10,
   "metadata": {},
   "outputs": [
    {
     "name": "stdout",
     "output_type": "stream",
     "text": [
      "Results of CDS:\n",
      "Best sequence is [14, 2, 8, 13, 16, 7, 6, 0, 18, 3, 10, 15, 11, 1, 4, 5, 19, 17, 9, 12] with a makespan of 1390.0.\n",
      "Elapsed time of 0.0 seconds.\n"
     ]
    }
   ],
   "source": [
    "start_time = time.time()\n",
    "best_solution,best_cost  = cds_heuristic(comman_instance)\n",
    "\n",
    "\n",
    "best_cost = incremental_cost(comman_instance,best_solution)\n",
    "\n",
    "end_time = time.time()\n",
    "\n",
    "elapsed_time = end_time - start_time\n",
    "\n",
    "print(f'Results of CDS:')\n",
    "print(f'Best sequence is {best_solution} with a makespan of {best_cost}.')\n",
    "print(f'Elapsed time of {elapsed_time} seconds.')\n",
    "\n"
   ]
  },
  {
   "cell_type": "markdown",
   "metadata": {},
   "source": [
    "### NEH Algorithm"
   ]
  },
  {
   "cell_type": "code",
   "execution_count": 11,
   "metadata": {},
   "outputs": [],
   "source": [
    "def order_jobs_in_descending_order_of_total_completion_time(processing_times):\n",
    "    total_completion_time = processing_times.sum(axis=1)\n",
    "    return np.argsort(total_completion_time, axis=0).tolist()"
   ]
  },
  {
   "cell_type": "code",
   "execution_count": 12,
   "metadata": {},
   "outputs": [],
   "source": [
    "def insertion(sequence, position, value):\n",
    "    new_seq = sequence[:]\n",
    "    new_seq.insert(position, value)\n",
    "    return new_seq"
   ]
  },
  {
   "cell_type": "code",
   "execution_count": 13,
   "metadata": {},
   "outputs": [],
   "source": [
    "def neh_algorithm(processing_times):\n",
    "    ordered_sequence = order_jobs_in_descending_order_of_total_completion_time(processing_times)\n",
    "    # Define the initial order\n",
    "    J1, J2 = ordered_sequence[:2]\n",
    "    sequence = [J1, J2] if incremental_cost(processing_times.T,[J1, J2]) < incremental_cost(processing_times.T,[J2, J1]) else [J2, J1]\n",
    "    del ordered_sequence[:2]\n",
    "    # Add remaining jobs\n",
    "    for job in ordered_sequence:\n",
    "        Cmax = float('inf')\n",
    "        best_sequence = []\n",
    "        for i in range(len(sequence)+1):\n",
    "            new_sequence = insertion(sequence, i, job)\n",
    "            Cmax_eval = incremental_cost(processing_times.T,new_sequence)\n",
    "            if Cmax_eval < Cmax:\n",
    "                Cmax = Cmax_eval\n",
    "                best_sequence = new_sequence\n",
    "        sequence = best_sequence\n",
    "    return sequence, Cmax"
   ]
  },
  {
   "cell_type": "code",
   "execution_count": 14,
   "metadata": {},
   "outputs": [
    {
     "name": "stdout",
     "output_type": "stream",
     "text": [
      "Results of CDS:\n",
      "Best sequence is [4, 2, 19, 10, 7, 5, 3, 8, 1, 12, 6, 18, 16, 9, 14, 15, 0, 17, 13, 11] with a makespan of 1284.0.\n",
      "Elapsed time of 0.015420675277709961 seconds.\n"
     ]
    }
   ],
   "source": [
    "start_time = time.time()\n",
    "best_solution,best_cost  = neh_algorithm(instances[6][2].T)\n",
    "\n",
    "end_time = time.time()\n",
    "\n",
    "elapsed_time = end_time - start_time\n",
    "\n",
    "print(f'Results of CDS:')\n",
    "print(f'Best sequence is {best_solution} with a makespan of {best_cost}.')\n",
    "print(f'Elapsed time of {elapsed_time} seconds.')\n"
   ]
  },
  {
   "cell_type": "markdown",
   "metadata": {},
   "source": [
    "### HAM Heuristic"
   ]
  },
  {
   "cell_type": "code",
   "execution_count": 15,
   "metadata": {},
   "outputs": [],
   "source": [
    "from utils.benchmarks import benchmarks"
   ]
  },
  {
   "cell_type": "code",
   "execution_count": 16,
   "metadata": {},
   "outputs": [],
   "source": [
    "def incremental_cost(processing_times, sequence):\n",
    "    _, num_machines = processing_times.shape\n",
    "    num_jobs = len(sequence)\n",
    "    completion_times = np.zeros((num_jobs, num_machines))\n",
    "    \n",
    "    # Calculate the completion times for the first machine\n",
    "    completion_times[0][0] = processing_times[sequence[0]][0]\n",
    "    for i in range(1, num_jobs):\n",
    "        completion_times[i][0] = completion_times[i-1][0] + processing_times[sequence[i]][0]\n",
    "    \n",
    "    # Calculate the completion times for the remaining machines\n",
    "    for j in range(1, num_machines):\n",
    "        completion_times[0][j] = completion_times[0][j-1] + processing_times[sequence[0]][j]\n",
    "        for i in range(1, num_jobs):\n",
    "            completion_times[i][j] = max(completion_times[i-1][j], completion_times[i][j-1]) + processing_times[sequence[i]][j]\n",
    "    \n",
    "    # Return the total completion time, which is the completion time of the last job in the last machine\n",
    "    return completion_times[num_jobs-1][num_machines-1]"
   ]
  },
  {
   "cell_type": "code",
   "execution_count": 34,
   "metadata": {},
   "outputs": [],
   "source": [
    "def ham_sol_1(Pi1: np.ndarray, Pi2: np.ndarray) -> list:\n",
    "    diff = Pi2 - Pi1\n",
    "    sol = np.argsort(diff, axis=0).tolist()\n",
    "    sol.reverse()       # in decreasing order\n",
    "    return sol"
   ]
  },
  {
   "cell_type": "code",
   "execution_count": 40,
   "metadata": {},
   "outputs": [],
   "source": [
    "def ham_sol_2(Pi1: np.ndarray, Pi2: np.ndarray) -> list:\n",
    "    diff = Pi2 - Pi1\n",
    "    Pi1_index = [(x,i) for i,x in enumerate(Pi1) if diff[i]>=0]\n",
    "    Pi2_index = [(x,i) for i,x in enumerate(Pi2) if diff[i]< 0]\n",
    "    \n",
    "    Pi1_sorted = sorted(Pi1_index)\n",
    "    Pi2_sorted = sorted(Pi2_index, reverse=True)\n",
    "\n",
    "    Pi1_list = [x[1] for x in Pi1_sorted]\n",
    "    Pi2_list = [x[1] for x in Pi2_sorted]\n",
    "\n",
    "    return Pi1_list + Pi2_list"
   ]
  },
  {
   "cell_type": "code",
   "execution_count": 41,
   "metadata": {},
   "outputs": [],
   "source": [
    "def ham_heuristic(processing_times: np.ndarray) -> list:\n",
    "    _ , m = processing_times.shape\n",
    "    left = processing_times[:, :int(m/2)]\n",
    "    right = processing_times[:, int(m/2):]\n",
    "\n",
    "    Pi1 = left.sum(axis=1)\n",
    "    Pi2 = right.sum(axis=1)\n",
    "\n",
    "    solution1 = ham_sol_1(Pi1, Pi2)\n",
    "    solution2 = ham_sol_2(Pi1, Pi2)\n",
    "    Cmax1 = incremental_cost(processing_times, solution1)\n",
    "    Cmax2 = incremental_cost(processing_times, solution2)\n",
    "    \n",
    "    if Cmax1 < Cmax2:\n",
    "        return solution1, Cmax1\n",
    "    else:\n",
    "        return solution2, Cmax2"
   ]
  },
  {
   "cell_type": "markdown",
   "metadata": {},
   "source": [
    "### TEST HAM"
   ]
  },
  {
   "cell_type": "code",
   "execution_count": 48,
   "metadata": {},
   "outputs": [
    {
     "name": "stdout",
     "output_type": "stream",
     "text": [
      "Results of HAM:\n",
      "Best sequence is [4, 10, 7, 14, 2, 1, 12, 19, 5, 0, 15, 9, 8, 16, 6, 17, 18, 11, 13, 3] with a makespan of 1334.0 and size 20.\n",
      "Elapsed time of 0.0 seconds.\n",
      "Sa7a ftrouk chakib , macht ? hmdlh, oui oui mchat XD \n",
      "Allah yselmek bro, saha ftorrek ou ya3tik sa7a \n"
     ]
    }
   ],
   "source": [
    "start_time = time.time()\n",
    "best_solution, best_cost  = ham_heuristic(benchmarks[6])\n",
    "\n",
    "end_time = time.time()\n",
    "\n",
    "elapsed_time = end_time - start_time\n",
    "\n",
    "print(f'Results of HAM:')\n",
    "print(f'Best sequence is {best_solution} with a makespan of {best_cost} and size {len(best_solution)}.')\n",
    "print(f'Elapsed time of {elapsed_time} seconds.')\n",
    "print(\"Sa7a ftrouk chakib , macht ? hmdlh, oui oui mchat XD \")\n",
    "print(\"Allah yselmek bro, saha ftorrek ou ya3tik sa7a \")"
   ]
  }
 ],
 "metadata": {
  "kernelspec": {
   "display_name": "base",
   "language": "python",
   "name": "python3"
  },
  "language_info": {
   "codemirror_mode": {
    "name": "ipython",
    "version": 3
   },
   "file_extension": ".py",
   "mimetype": "text/x-python",
   "name": "python",
   "nbconvert_exporter": "python",
   "pygments_lexer": "ipython3",
   "version": "3.11.1"
  }
 },
 "nbformat": 4,
 "nbformat_minor": 2
}
