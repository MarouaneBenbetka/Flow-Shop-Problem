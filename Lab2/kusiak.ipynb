{
 "cells": [
  {
   "cell_type": "code",
   "execution_count": 5,
   "metadata": {},
   "outputs": [
    {
     "name": "stdout",
     "output_type": "stream",
     "text": [
      "Optimal job sequence: [0 1 2]\n"
     ]
    }
   ],
   "source": [
    "import numpy as np\n",
    "\n",
    "def kusiak(flowshop):\n",
    "    \"\"\"\n",
    "    Kusiak algorithm for the flowshop scheduling problem.\n",
    "\n",
    "    Parameters:\n",
    "        flowshop (numpy.ndarray): Flowshop matrix where rows represent jobs and columns represent machines.\n",
    "\n",
    "    Returns:\n",
    "        numpy.ndarray: Sequence of jobs in the optimal order.\n",
    "    \"\"\"\n",
    "    num_jobs, num_machines = flowshop.shape\n",
    "\n",
    "    # Calculate initial completion times for each job on each machine\n",
    "    completion_times = np.zeros((num_jobs, num_machines))\n",
    "    for i in range(num_jobs):\n",
    "        completion_times[i][0] = flowshop[i][0]\n",
    "    for j in range(1, num_machines):\n",
    "        completion_times[0][j] = completion_times[0][j-1] + flowshop[0][j]\n",
    "    for i in range(1, num_jobs):\n",
    "        for j in range(1, num_machines):\n",
    "            completion_times[i][j] = max(completion_times[i-1][j], completion_times[i][j-1]) + flowshop[i][j]\n",
    "\n",
    "    # Create a list of jobs\n",
    "    jobs = list(range(num_jobs))\n",
    "\n",
    "    # Sort jobs based on the total completion time across machines\n",
    "    jobs.sort(key=lambda job: sum(completion_times[job, :]))\n",
    "\n",
    "    # Convert the sorted job list to numpy array for easy indexing\n",
    "    sorted_jobs = np.array(jobs)\n",
    "\n",
    "    return sorted_jobs\n",
    "\n",
    "# Example usage:\n",
    "flowshop = np.array([[3, 5, 7],\n",
    "                     [2, 4, 6],\n",
    "                     [1, 3, 5]])\n",
    "\n",
    "flowshop_transposed = flowshop.T  # Transpose the flowshop matrix\n",
    "optimal_sequence = kusiak(flowshop_transposed)\n",
    "print(\"Optimal job sequence:\", optimal_sequence)\n"
   ]
  },
  {
   "cell_type": "code",
   "execution_count": 7,
   "metadata": {},
   "outputs": [],
   "source": [
    "def calculate_makespan(processing_times, sequence):\n",
    "    n_jobs = len(sequence)\n",
    "    n_machines = len(processing_times[0])\n",
    "    end_time = [[0] * (n_machines + 1) for _ in range(n_jobs + 1)]\n",
    "    \n",
    "    for j in range(1, n_jobs + 1):\n",
    "        for m in range(1, n_machines + 1):\n",
    "            end_time[j][m] = max(end_time[j][m - 1], end_time[j - 1]\n",
    "                                 [m]) + processing_times[sequence[j - 1]][m - 1]\n",
    "\n",
    "    return end_time[n_jobs][n_machines]"
   ]
  },
  {
   "cell_type": "code",
   "execution_count": 8,
   "metadata": {},
   "outputs": [
    {
     "name": "stdout",
     "output_type": "stream",
     "text": [
      "Best sequence: [ 0  1  2  3  4  5  6  7  8  9 10 11 12 13 14 15 16 17 18 19]\n",
      "Best makespan: 1528\n"
     ]
    }
   ],
   "source": [
    "processing_times = np.array([[15, 28, 77,  1, 45],\n",
    "                                   [64,  4, 36, 59, 73],\n",
    "                                   [64, 43, 57, 95, 59],\n",
    "                                   [48, 93, 15, 49, 63],\n",
    "                                   [9,  1, 81, 90, 54],\n",
    "                                   [91, 81, 82, 78, 98],\n",
    "                                   [27, 77, 98,  3, 39],\n",
    "                                   [34, 69, 97, 69, 75],\n",
    "                                   [42, 52, 12, 99, 33],\n",
    "                                   [3, 28, 35, 41,  8],\n",
    "                                   [11, 28, 84, 73, 86],\n",
    "                                   [54, 77, 70, 28, 41],\n",
    "                                   [27, 42, 27, 99, 41],\n",
    "                                   [30, 53, 37, 13, 22],\n",
    "                                   [9, 46, 59, 59, 43],\n",
    "                                   [15, 49, 42, 47, 34],\n",
    "                                   [88, 15, 57,  8, 80],\n",
    "                                   [55, 43, 16, 92, 16],\n",
    "                                   [50, 65, 11, 87, 37],\n",
    "                                   [57, 41, 34, 62, 94]])\n",
    "\n",
    "best_sequence = kusiak(processing_times)\n",
    "print(\"Best sequence:\", best_sequence)\n",
    "print(\"Best makespan:\", calculate_makespan(processing_times, best_sequence))"
   ]
  }
 ],
 "metadata": {
  "kernelspec": {
   "display_name": "Python 3",
   "language": "python",
   "name": "python3"
  },
  "language_info": {
   "codemirror_mode": {
    "name": "ipython",
    "version": 3
   },
   "file_extension": ".py",
   "mimetype": "text/x-python",
   "name": "python",
   "nbconvert_exporter": "python",
   "pygments_lexer": "ipython3",
   "version": "3.8.8"
  }
 },
 "nbformat": 4,
 "nbformat_minor": 2
}
