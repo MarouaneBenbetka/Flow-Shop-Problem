{
 "cells": [
  {
   "cell_type": "code",
   "execution_count": 1,
   "metadata": {},
   "outputs": [
    {
     "name": "stdout",
     "output_type": "stream",
     "text": [
      "Optimal job sequence: [0 1 2]\n"
     ]
    }
   ],
   "source": [
    "import numpy as np\n",
    "\n",
    "def kusiak(flowshop):\n",
    "    \"\"\"\n",
    "    Kusiak algorithm for the flowshop scheduling problem.\n",
    "\n",
    "    Parameters:\n",
    "        flowshop (numpy.ndarray): Flowshop matrix where rows represent machines and columns represent jobs.\n",
    "\n",
    "    Returns:\n",
    "        numpy.ndarray: Sequence of jobs in the optimal order.\n",
    "    \"\"\"\n",
    "    num_machines, num_jobs = flowshop.shape\n",
    "\n",
    "    # Calculate initial completion times for each job on each machine\n",
    "    completion_times = np.zeros((num_machines, num_jobs))\n",
    "    for j in range(num_jobs):\n",
    "        completion_times[0][j] = flowshop[0][j]\n",
    "    for i in range(1, num_machines):\n",
    "        completion_times[i][0] = completion_times[i-1][0] + flowshop[i][0]\n",
    "    for i in range(1, num_machines):\n",
    "        for j in range(1, num_jobs):\n",
    "            completion_times[i][j] = max(completion_times[i][j-1], completion_times[i-1][j]) + flowshop[i][j]\n",
    "\n",
    "    # Create a list of jobs\n",
    "    jobs = list(range(num_jobs))\n",
    "\n",
    "    # Sort jobs based on the total completion time across machines\n",
    "    jobs.sort(key=lambda job: sum(completion_times[:, job]))\n",
    "\n",
    "    # Convert the sorted job list to numpy array for easy indexing\n",
    "    sorted_jobs = np.array(jobs)\n",
    "\n",
    "    return sorted_jobs\n",
    "\n",
    "# Example usage:\n",
    "flowshop = np.array([[3, 5, 7],\n",
    "                     [2, 4, 6],\n",
    "                     [1, 3, 5]])\n",
    "\n",
    "optimal_sequence = kusiak(flowshop)\n",
    "print(\"Optimal job sequence:\", optimal_sequence)\n"
   ]
  },
  {
   "cell_type": "code",
   "execution_count": null,
   "metadata": {},
   "outputs": [],
   "source": []
  }
 ],
 "metadata": {
  "kernelspec": {
   "display_name": "Python 3",
   "language": "python",
   "name": "python3"
  },
  "language_info": {
   "codemirror_mode": {
    "name": "ipython",
    "version": 3
   },
   "file_extension": ".py",
   "mimetype": "text/x-python",
   "name": "python",
   "nbconvert_exporter": "python",
   "pygments_lexer": "ipython3",
   "version": "3.8.8"
  }
 },
 "nbformat": 4,
 "nbformat_minor": 2
}
