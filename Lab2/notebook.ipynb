{
 "cells": [
  {
   "cell_type": "markdown",
   "metadata": {},
   "source": [
    "# Heuristics\n",
    "___"
   ]
  },
  {
   "cell_type": "code",
   "execution_count": 20,
   "metadata": {},
   "outputs": [],
   "source": [
    "import numpy as np"
   ]
  },
  {
   "cell_type": "markdown",
   "metadata": {},
   "source": [
    "## Marouane Heuristic "
   ]
  },
  {
   "cell_type": "code",
   "execution_count": 21,
   "metadata": {},
   "outputs": [],
   "source": [
    "def johnsons_rule(machine1, machine2):\n",
    "    # Sort jobs based on min(AM1_i, AM2_i)\n",
    "    artificial_jobs = list(zip(machine1, machine2))\n",
    "\n",
    "    jobs_sorted = sorted(enumerate(artificial_jobs), key=lambda x: min(x[1]))\n",
    "    U = [job for job in jobs_sorted if job[1][0] < job[1][1]]\n",
    "    V = [job for job in jobs_sorted if job[1][0] >= job[1][1]]\n",
    "    # Concatenate U in order and V in reverse order, extracting only job indices\n",
    "    sequence = [job[0] for job in U] + [job[0] for job in reversed(V)]\n",
    "    return sequence"
   ]
  },
  {
   "cell_type": "code",
   "execution_count": 22,
   "metadata": {},
   "outputs": [],
   "source": [
    "def calculate_makespan(processing_times, sequence):\n",
    "    n_jobs = len(sequence)\n",
    "    n_machines = len(processing_times[0])\n",
    "    end_time = [[0] * (n_machines + 1) for _ in range(n_jobs + 1)]\n",
    "    \n",
    "    for j in range(1, n_jobs + 1):\n",
    "        for m in range(1, n_machines + 1):\n",
    "            end_time[j][m] = max(end_time[j][m - 1], end_time[j - 1]\n",
    "                                 [m]) + processing_times[sequence[j - 1]][m - 1]\n",
    "\n",
    "    return end_time[n_jobs][n_machines]"
   ]
  },
  {
   "cell_type": "code",
   "execution_count": 23,
   "metadata": {},
   "outputs": [],
   "source": [
    "def marouane_heuristique(processing_times):\n",
    "    n_jobs,n_machines = processing_times.shape\n",
    "    best_sequence = None\n",
    "    best_makespan = float('inf')\n",
    "\n",
    "    for k in range(1,n_machines - 1):  # Generate all artificial 2-machine problems\n",
    "        weights_front = np.array( [n_machines - i for i in range(k) ])\n",
    "        weights_back = np.array([i + 1 for i in range(k,n_machines)])\n",
    "        AM1 = processing_times[:, :k].dot(weights_front)\n",
    "        AM2 = processing_times[:, k:].dot(weights_back)\n",
    "\n",
    "        # artificial_jobs = list(zip(AM1, AM2))\n",
    "        sequence = johnsons_rule(AM1 , AM2)\n",
    "        makespan = calculate_makespan(processing_times, sequence)\n",
    "        if makespan < best_makespan:\n",
    "            best_makespan = makespan\n",
    "            best_sequence = sequence\n",
    "\n",
    "    return best_sequence"
   ]
  }
 ],
 "metadata": {
  "kernelspec": {
   "display_name": "Python 3",
   "language": "python",
   "name": "python3"
  },
  "language_info": {
   "codemirror_mode": {
    "name": "ipython",
    "version": 3
   },
   "file_extension": ".py",
   "mimetype": "text/x-python",
   "name": "python",
   "nbconvert_exporter": "python",
   "pygments_lexer": "ipython3",
   "version": "3.11.5"
  }
 },
 "nbformat": 4,
 "nbformat_minor": 2
}
