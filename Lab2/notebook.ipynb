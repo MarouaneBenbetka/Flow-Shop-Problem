{
 "cells": [
  {
   "cell_type": "markdown",
   "metadata": {},
   "source": [
    "# Heuristics\n",
    "___"
   ]
  },
  {
   "cell_type": "code",
   "execution_count": 20,
   "metadata": {},
   "outputs": [],
   "source": [
    "import numpy as np"
   ]
  },
  {
   "cell_type": "markdown",
   "metadata": {},
   "source": [
    "## Marouane Heuristic "
   ]
  },
  {
   "cell_type": "code",
   "execution_count": 21,
   "metadata": {},
   "outputs": [],
   "source": [
    "def johnsons_rule(machine1, machine2):\n",
    "    # Sort jobs based on min(AM1_i, AM2_i)\n",
    "    artificial_jobs = list(zip(machine1, machine2))\n",
    "\n",
    "    jobs_sorted = sorted(enumerate(artificial_jobs), key=lambda x: min(x[1]))\n",
    "    U = [job for job in jobs_sorted if job[1][0] < job[1][1]]\n",
    "    V = [job for job in jobs_sorted if job[1][0] >= job[1][1]]\n",
    "    # Concatenate U in order and V in reverse order, extracting only job indices\n",
    "    sequence = [job[0] for job in U] + [job[0] for job in reversed(V)]\n",
    "    return sequence"
   ]
  },
  {
   "cell_type": "code",
   "execution_count": 22,
   "metadata": {},
   "outputs": [],
   "source": [
    "def calculate_makespan(processing_times, sequence):\n",
    "    n_jobs = len(sequence)\n",
    "    n_machines = len(processing_times[0])\n",
    "    end_time = [[0] * (n_machines + 1) for _ in range(n_jobs + 1)]\n",
    "    \n",
    "    for j in range(1, n_jobs + 1):\n",
    "        for m in range(1, n_machines + 1):\n",
    "            end_time[j][m] = max(end_time[j][m - 1], end_time[j - 1]\n",
    "                                 [m]) + processing_times[sequence[j - 1]][m - 1]\n",
    "\n",
    "    return end_time[n_jobs][n_machines]"
   ]
  },
  {
   "cell_type": "code",
   "execution_count": 23,
   "metadata": {},
   "outputs": [],
   "source": [
    "def marouane_heuristique(processing_times):\n",
    "    n_jobs,n_machines = processing_times.shape\n",
    "    best_sequence = None\n",
    "    best_makespan = float('inf')\n",
    "\n",
    "    for k in range(1,n_machines - 1):  # Generate all artificial 2-machine problems\n",
    "        weights_front = np.array( [n_machines - i for i in range(k) ])\n",
    "        weights_back = np.array([i + 1 for i in range(k,n_machines)])\n",
    "        AM1 = processing_times[:, :k].dot(weights_front)\n",
    "        AM2 = processing_times[:, k:].dot(weights_back)\n",
    "\n",
    "        # artificial_jobs = list(zip(AM1, AM2))\n",
    "        sequence = johnsons_rule(AM1 , AM2)\n",
    "        makespan = calculate_makespan(processing_times, sequence)\n",
    "        if makespan < best_makespan:\n",
    "            best_makespan = makespan\n",
    "            best_sequence = sequence\n",
    "\n",
    "    return best_sequence"
   ]
  },
  {
   "cell_type": "markdown",
   "metadata": {},
   "source": [
    "## GUPTA's Method"
   ]
  },
  {
   "cell_type": "code",
   "execution_count": 24,
   "metadata": {},
   "outputs": [],
   "source": [
    "def min_sum_processing(job_index, processing_times):\n",
    "    min_sum = np.inf\n",
    "    for i in range(processing_times.shape[1] - 1):\n",
    "        sum_for_pair = processing_times[job_index,\n",
    "                                        i] + processing_times[job_index, i + 1]\n",
    "        if sum_for_pair < min_sum:\n",
    "            min_sum = sum_for_pair\n",
    "    return min_sum\n",
    "\n"
   ]
  },
  {
   "cell_type": "code",
   "execution_count": 25,
   "metadata": {},
   "outputs": [],
   "source": [
    "\n",
    "def calculate_priority(job_index, processing_times):\n",
    "    diff = float(processing_times[job_index, 0] -\n",
    "                 processing_times[job_index, -1])\n",
    "    sign = (diff > 0) - (diff < 0)\n",
    "    return sign / min_sum_processing(job_index, processing_times)"
   ]
  },
  {
   "cell_type": "code",
   "execution_count": 26,
   "metadata": {},
   "outputs": [],
   "source": [
    "\n",
    "\n",
    "def gupta_heuristic(processing_times):\n",
    "    priorities = [calculate_priority(i, processing_times)\n",
    "                  for i in range(processing_times.shape[0])]\n",
    "    total_times = [np.sum(processing_times[i])\n",
    "                   for i in range(processing_times.shape[0])]\n",
    "    return sorted(range(len(priorities)), key=lambda k: (priorities[k], total_times[k]))"
   ]
  },
  {
   "cell_type": "code",
   "execution_count": 27,
   "metadata": {},
   "outputs": [
    {
     "name": "stdout",
     "output_type": "stream",
     "text": [
      "Best sequence: [4, 12, 14, 10, 1, 8, 19, 2, 5, 7, 18, 3, 17, 16, 15, 11, 0, 6, 9, 13]\n",
      "Best makespan: 1387\n"
     ]
    }
   ],
   "source": [
    "processing_times = np.array([[15, 28, 77,  1, 45],\n",
    "                                   [64,  4, 36, 59, 73],\n",
    "                                   [64, 43, 57, 95, 59],\n",
    "                                   [48, 93, 15, 49, 63],\n",
    "                                   [9,  1, 81, 90, 54],\n",
    "                                   [91, 81, 82, 78, 98],\n",
    "                                   [27, 77, 98,  3, 39],\n",
    "                                   [34, 69, 97, 69, 75],\n",
    "                                   [42, 52, 12, 99, 33],\n",
    "                                   [3, 28, 35, 41,  8],\n",
    "                                   [11, 28, 84, 73, 86],\n",
    "                                   [54, 77, 70, 28, 41],\n",
    "                                   [27, 42, 27, 99, 41],\n",
    "                                   [30, 53, 37, 13, 22],\n",
    "                                   [9, 46, 59, 59, 43],\n",
    "                                   [15, 49, 42, 47, 34],\n",
    "                                   [88, 15, 57,  8, 80],\n",
    "                                   [55, 43, 16, 92, 16],\n",
    "                                   [50, 65, 11, 87, 37],\n",
    "                                   [57, 41, 34, 62, 94]])\n",
    "\n",
    "best_sequence = marouane_heuristique(processing_times)\n",
    "print(\"Best sequence:\", best_sequence)\n",
    "print(\"Best makespan:\", calculate_makespan(processing_times, best_sequence))"
   ]
  }
 ],
 "metadata": {
  "kernelspec": {
   "display_name": "Python 3",
   "language": "python",
   "name": "python3"
  },
  "language_info": {
   "codemirror_mode": {
    "name": "ipython",
    "version": 3
   },
   "file_extension": ".py",
   "mimetype": "text/x-python",
   "name": "python",
   "nbconvert_exporter": "python",
   "pygments_lexer": "ipython3",
   "version": "3.11.5"
  }
 },
 "nbformat": 4,
 "nbformat_minor": 2
}
