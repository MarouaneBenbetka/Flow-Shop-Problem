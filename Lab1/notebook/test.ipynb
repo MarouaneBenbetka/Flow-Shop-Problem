{
 "cells": [
  {
   "cell_type": "code",
   "execution_count": 6,
   "metadata": {},
   "outputs": [
    {
     "data": {
      "image/png": "[encoded data removed]",
      "text/plain": [
       "<Figure size 720x360 with 1 Axes>"
      ]
     },
     "metadata": {
      "needs_background": "light"
     },
     "output_type": "display_data"
    }
   ],
   "source": [
    "import matplotlib.pyplot as plt\n",
    "\n",
    "def plot_gantt(tasks):\n",
    "    fig, ax = plt.subplots(figsize=(10, 5))\n",
    "\n",
    "    for task in tasks:\n",
    "        start_date = task['start_date']\n",
    "        end_date = task['end_date']\n",
    "        duration = end_date - start_date\n",
    "        ax.barh(task['task'], duration, left=start_date, height=0.5, align='center', edgecolor='black', color='skyblue')\n",
    "    \n",
    "    ax.set_xlabel('Time')\n",
    "    ax.set_ylabel('Tasks')\n",
    "    ax.set_title('Gantt Chart')\n",
    "\n",
    "    plt.show()\n",
    "\n",
    "# Example tasks data\n",
    "tasks = [\n",
    "    {'task': 'Task 1', 'start_date': 0, 'end_date': 10},\n",
    "    {'task': 'Task 2', 'start_date': 5, 'end_date': 15},\n",
    "    {'task': 'Task 3', 'start_date': 10, 'end_date': 20}\n",
    "]\n",
    "\n",
    "plot_gantt(tasks)\n"
   ]
  }
 ],
 "metadata": {
  "kernelspec": {
   "display_name": "base",
   "language": "python",
   "name": "python3"
  },
  "language_info": {
   "codemirror_mode": {
    "name": "ipython",
    "version": 3
   },
   "file_extension": ".py",
   "mimetype": "text/x-python",
   "name": "python",
   "nbconvert_exporter": "python",
   "pygments_lexer": "ipython3",
   "version": "3.8.8"
  }
 },
 "nbformat": 4,
 "nbformat_minor": 2
}
