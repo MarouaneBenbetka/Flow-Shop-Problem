{
 "cells": [
  {
   "cell_type": "markdown",
   "metadata": {},
   "source": [
    "\n",
    "\n",
    "# <center>Welcome in Branch and Bound Applied to FSP</center>"
   ]
  },
  {
   "cell_type": "markdown",
   "metadata": {},
   "source": [
    "### Packages importing & data loading"
   ]
  },
  {
   "cell_type": "code",
   "execution_count": 1,
   "metadata": {
    "ExecuteTime": {
     "end_time": "2024-02-28T02:38:22.691875500Z",
     "start_time": "2024-02-28T02:38:21.805832100Z"
    }
   },
   "outputs": [
    {
     "name": "stderr",
     "output_type": "stream",
     "text": [
      "C:\\Users\\DSI\\AppData\\Local\\Temp\\ipykernel_27760\\2151744951.py:1: DeprecationWarning: \n",
      "Pyarrow will become a required dependency of pandas in the next major release of pandas (pandas 3.0),\n",
      "(to allow more performant data types, such as the Arrow string type, and better interoperability with other libraries)\n",
      "but was not found to be installed on your system.\n",
      "If this would cause problems for you,\n",
      "please provide us feedback at https://github.com/pandas-dev/pandas/issues/54466\n",
      "        \n",
      "  import pandas as pd\n"
     ]
    }
   ],
   "source": [
    "import pandas as pd\n",
    "import numpy as np\n",
    "import matplotlib.pyplot as plt"
   ]
  },
  {
   "cell_type": "code",
   "execution_count": 2,
   "metadata": {
    "ExecuteTime": {
     "end_time": "2024-02-28T02:38:22.868783600Z",
     "start_time": "2024-02-28T02:38:22.694874200Z"
    }
   },
   "outputs": [],
   "source": [
    "from utils_branch_bound import read_flow_shop_data"
   ]
  },
  {
   "cell_type": "code",
   "execution_count": 3,
   "metadata": {
    "ExecuteTime": {
     "end_time": "2024-02-28T02:38:22.881766200Z",
     "start_time": "2024-02-28T02:38:22.870773200Z"
    }
   },
   "outputs": [],
   "source": [
    "instances = read_flow_shop_data('./../data/tai20_5.txt', 5, 20)"
   ]
  },
  {
   "cell_type": "code",
   "execution_count": 4,
   "metadata": {
    "ExecuteTime": {
     "end_time": "2024-02-28T02:38:22.932590200Z",
     "start_time": "2024-02-28T02:38:22.883765200Z"
    }
   },
   "outputs": [
    {
     "data": {
      "text/plain": [
       "[(5,\n",
       "  20,\n",
       "  array([[54, 83, 15, 71, 77, 36, 53, 38, 27, 87, 76, 91, 14, 29, 12, 77,\n",
       "          32, 87, 68, 94],\n",
       "         [79,  3, 11, 99, 56, 70, 99, 60,  5, 56,  3, 61, 73, 75, 47, 14,\n",
       "          21, 86,  5, 77],\n",
       "         [16, 89, 49, 15, 89, 45, 60, 23, 57, 64,  7,  1, 63, 41, 63, 47,\n",
       "          26, 75, 77, 40],\n",
       "         [66, 58, 31, 68, 78, 91, 13, 59, 49, 85, 85,  9, 39, 41, 56, 40,\n",
       "          54, 77, 51, 31],\n",
       "         [58, 56, 20, 85, 53, 35, 53, 41, 69, 13, 86, 72,  8, 49, 47, 87,\n",
       "          58, 18, 68, 28]])),\n",
       " (5,\n",
       "  20,\n",
       "  array([[26, 38, 27, 88, 95, 55, 54, 63, 23, 45, 86, 43, 43, 40, 37, 54,\n",
       "          35, 59, 43, 50],\n",
       "         [59, 62, 44, 10, 23, 64, 47, 68, 54,  9, 30, 31, 92,  7, 14, 95,\n",
       "          76, 82, 91, 37],\n",
       "         [78, 90, 64, 49, 47, 20, 61, 93, 36, 47, 70, 54, 87, 13, 40, 34,\n",
       "          55, 13, 11,  5],\n",
       "         [88, 54, 47, 83, 84,  9, 30, 11, 92, 63, 62, 75, 48, 23, 85, 23,\n",
       "           4, 31, 13, 98],\n",
       "         [69, 30, 61, 35, 53, 98, 94, 33, 77, 31, 54, 71, 78,  9, 79, 51,\n",
       "          76, 56, 80, 72]])),\n",
       " (5,\n",
       "  20,\n",
       "  array([[77, 94,  9, 57, 29, 79, 55, 73, 65, 86, 25, 39, 76, 24, 38,  5,\n",
       "          91, 29, 22, 27],\n",
       "         [39, 31, 46, 18, 93, 58, 85, 58, 97, 10, 79, 93,  2, 87, 17, 18,\n",
       "          10, 50,  8, 26],\n",
       "         [14, 21, 15, 10, 85, 46, 42, 18, 36,  2, 44, 89,  6,  3,  1, 43,\n",
       "          81, 57, 76, 59],\n",
       "         [11,  2, 36, 30, 89, 10, 88, 22, 31,  9, 43, 91, 26,  3, 75, 99,\n",
       "          63, 83, 70, 84],\n",
       "         [83, 13, 84, 46, 20, 33, 74, 42, 33, 71, 32, 48, 42, 99,  7, 54,\n",
       "           8, 73, 30, 75]])),\n",
       " (5,\n",
       "  20,\n",
       "  array([[53, 19, 99, 62, 88, 93, 34, 72, 42, 65, 39, 79,  9, 26, 72, 29,\n",
       "          36, 48, 57, 95],\n",
       "         [93, 79, 88, 77, 94, 39, 74, 46, 17, 30, 62, 77, 43, 98, 48, 14,\n",
       "          45, 25, 98, 30],\n",
       "         [90, 92, 35, 13, 75, 55, 80, 67,  3, 93, 54, 67, 25, 77, 38, 98,\n",
       "          96, 20, 15, 36],\n",
       "         [65, 97, 27, 25, 61, 24, 97, 61, 75, 92, 73, 21, 29,  3, 96, 51,\n",
       "          26, 44, 56, 31],\n",
       "         [64, 38, 44, 46, 66, 31, 48, 27, 82, 51, 90, 63, 85, 36, 69, 67,\n",
       "          81, 18, 81, 72]])),\n",
       " (5,\n",
       "  20,\n",
       "  array([[61, 86, 16, 42, 14, 92, 67, 77, 46, 41, 78,  3, 72, 95, 53, 59,\n",
       "          34, 66, 42, 63],\n",
       "         [27, 92,  8, 65, 34,  6, 42, 39,  2,  7, 85, 32, 14, 74, 59, 95,\n",
       "          48, 37, 59,  4],\n",
       "         [42, 93, 32, 30, 16, 95, 58, 12, 95, 21, 74, 38,  4, 31, 62, 39,\n",
       "          97, 57,  9, 54],\n",
       "         [13, 47,  6, 70, 19, 97, 41,  1, 57, 60, 62, 14, 90, 76, 12, 89,\n",
       "          37, 35, 91, 69],\n",
       "         [55, 48, 56, 84, 22, 51, 43, 50, 62, 61, 10, 87, 99, 40, 91, 64,\n",
       "          62, 53, 33, 16]])),\n",
       " (5,\n",
       "  20,\n",
       "  array([[71, 27, 55, 90, 11, 18, 42, 64, 73, 95, 22, 53, 32,  5, 94, 12,\n",
       "          41, 85, 75, 38],\n",
       "         [13, 11, 73, 43, 27, 33, 57, 42, 71,  3, 11, 49,  8,  3, 47, 58,\n",
       "          23, 79, 99, 23],\n",
       "         [61, 25, 52, 72, 89, 75, 60, 28, 94, 95, 18, 73, 40, 61, 68, 75,\n",
       "          37, 13, 65,  7],\n",
       "         [21,  8,  5,  8, 58, 59, 85, 35, 84, 97, 93, 60, 99, 29, 94, 41,\n",
       "          51, 87, 97, 11],\n",
       "         [91, 13,  7, 95, 20, 69, 45, 44, 29, 32, 94, 84, 60, 49, 49, 65,\n",
       "          85, 52,  8, 58]])),\n",
       " (5,\n",
       "  20,\n",
       "  array([[15, 64, 64, 48,  9, 91, 27, 34, 42,  3, 11, 54, 27, 30,  9, 15,\n",
       "          88, 55, 50, 57],\n",
       "         [28,  4, 43, 93,  1, 81, 77, 69, 52, 28, 28, 77, 42, 53, 46, 49,\n",
       "          15, 43, 65, 41],\n",
       "         [77, 36, 57, 15, 81, 82, 98, 97, 12, 35, 84, 70, 27, 37, 59, 42,\n",
       "          57, 16, 11, 34],\n",
       "         [ 1, 59, 95, 49, 90, 78,  3, 69, 99, 41, 73, 28, 99, 13, 59, 47,\n",
       "           8, 92, 87, 62],\n",
       "         [45, 73, 59, 63, 54, 98, 39, 75, 33,  8, 86, 41, 41, 22, 43, 34,\n",
       "          80, 16, 37, 94]])),\n",
       " (5,\n",
       "  20,\n",
       "  array([[34, 20, 57, 47, 62, 40, 74, 94,  9, 62, 86, 13, 78, 46, 83, 52,\n",
       "          13, 70, 40, 60],\n",
       "         [ 5, 48, 80, 43, 34,  2, 87, 68, 28, 84, 30, 35, 42, 39, 85, 34,\n",
       "          36,  9, 96, 84],\n",
       "         [86, 35,  5, 93, 74, 12, 40, 95, 80,  6, 92, 14, 83, 49, 36, 38,\n",
       "          43, 89, 94, 33],\n",
       "         [28, 39, 55, 21, 25, 88, 59, 40, 90, 18, 33, 10, 59, 92, 15, 77,\n",
       "          31, 85, 85, 99],\n",
       "         [ 8, 91, 45, 55, 75, 18, 59, 86, 45, 89, 11, 54, 38, 41, 64, 98,\n",
       "          83, 36, 61, 19]])),\n",
       " (5,\n",
       "  20,\n",
       "  array([[37, 36,  1,  4, 64, 74, 32, 67, 73,  7, 78, 64, 98, 60, 89, 49,\n",
       "           2, 79, 79, 53],\n",
       "         [59, 16, 90,  3, 76, 74, 22, 30, 89, 61, 39, 15, 69, 57,  9, 13,\n",
       "          71,  2, 34, 49],\n",
       "         [65, 94, 96, 47, 35, 34, 84,  3, 60, 34, 70, 57,  8, 74, 13, 37,\n",
       "          87, 71, 89, 57],\n",
       "         [70,  3, 43, 14, 26, 83, 26, 65, 47, 94, 75, 30,  1, 71, 46, 87,\n",
       "          78, 76, 75, 55],\n",
       "         [94, 98, 63, 83, 19, 79, 54, 78, 29,  8, 38, 97, 61, 10, 37, 16,\n",
       "          78, 96,  9, 91]])),\n",
       " (5,\n",
       "  20,\n",
       "  array([[27, 92, 75, 94, 18, 41, 37, 58, 56, 20,  2, 39, 91, 81, 33, 14,\n",
       "          88, 22, 36, 65],\n",
       "         [79, 23, 66,  5, 15, 51,  2, 81, 12, 40, 59, 32, 16, 87, 78, 41,\n",
       "          43, 94,  1, 93],\n",
       "         [22, 93, 62, 53, 30, 34, 27, 30, 54, 77, 24, 47, 39, 66, 41, 46,\n",
       "          24, 23, 68, 50],\n",
       "         [93, 22, 64, 81, 94, 97, 54, 82, 11, 91, 23, 32, 26, 22, 12, 23,\n",
       "          34, 87, 59,  2],\n",
       "         [38, 84, 62, 10, 11, 93, 57, 81, 10, 40, 62, 49, 90, 34, 11, 81,\n",
       "          51, 21, 39, 27]]))]"
      ]
     },
     "execution_count": 4,
     "metadata": {},
     "output_type": "execute_result"
    }
   ],
   "source": [
    "instances"
   ]
  },
  {
   "cell_type": "markdown",
   "metadata": {},
   "source": [
    "### Test with a simple instance"
   ]
  },
  {
   "cell_type": "code",
   "execution_count": 5,
   "metadata": {
    "ExecuteTime": {
     "end_time": "2024-02-28T02:38:23.004145500Z",
     "start_time": "2024-02-28T02:38:22.931592700Z"
    },
    "collapsed": false
   },
   "outputs": [],
   "source": [
    "from utils_branch_bound import FlowShopBranchBoundSolver\n",
    "# from utils_branch_bound import johnson_method\n",
    "# from utils_branch_bound import all_permutations"
   ]
  },
  {
   "cell_type": "code",
   "execution_count": 6,
   "metadata": {
    "ExecuteTime": {
     "end_time": "2024-02-28T02:38:23.013143300Z",
     "start_time": "2024-02-28T02:38:22.977524100Z"
    }
   },
   "outputs": [
    {
     "data": {
      "text/plain": [
       "array([[54, 83, 15, 71, 77],\n",
       "       [79,  3, 11, 99, 56],\n",
       "       [16, 89, 49, 15, 89]])"
      ]
     },
     "execution_count": 6,
     "metadata": {},
     "output_type": "execute_result"
    }
   ],
   "source": [
    "instance_test =  '''\\\n",
    "5 3 873654221 1278 1232\n",
    "54 83 15 71 77\n",
    "79  3 11 99 56\n",
    "16 89 49 15 89\n",
    "'''\n",
    "instance_array = np.array([\n",
    "    [54, 83, 15, 71, 77],\n",
    "    [79, 3, 11, 99, 56],\n",
    "    [16, 89, 49, 15, 89]\n",
    "])\n",
    "\n",
    "np.array(instance_array)"
   ]
  },
  {
   "cell_type": "code",
   "execution_count": 7,
   "metadata": {
    "ExecuteTime": {
     "end_time": "2024-02-28T02:38:23.080644Z",
     "start_time": "2024-02-28T02:38:22.993189400Z"
    }
   },
   "outputs": [
    {
     "name": "stdout",
     "output_type": "stream",
     "text": [
      "Optimal Solution: [2, 4, 3, 1, 0]\n",
      "Optimal Cost: 395.0\n",
      "makspan : 395.0\n",
      "Solution : [2, 4, 3, 1, 0]\n"
     ]
    }
   ],
   "source": [
    "solver = FlowShopBranchBoundSolver()\n",
    "\n",
    "solver.consider_instance(instance_array)\n",
    "\n",
    "solver.solve(list(range(5)))\n",
    "\n",
    "bound = \\\n",
    "    solver.compute_lower_bound(list(range(5)))\n",
    "\n",
    "\n",
    "print(\"makspan :\",solver.bound)\n",
    "print(\"Solution :\", solver.intial_solution)"
   ]
  },
  {
   "cell_type": "code",
   "execution_count": 8,
   "metadata": {
    "ExecuteTime": {
     "end_time": "2024-02-28T02:38:23.147178500Z",
     "start_time": "2024-02-28T02:38:23.074648Z"
    }
   },
   "outputs": [
    {
     "name": "stdout",
     "output_type": "stream",
     "text": [
      "[[0, 1, 2, 3, 4], [0, 1, 2, 4, 3], [0, 1, 3, 2, 4], [0, 1, 3, 4, 2], [0, 1, 4, 2, 3], [0, 1, 4, 3, 2], [0, 2, 1, 3, 4], [0, 2, 1, 4, 3], [0, 2, 3, 1, 4], [0, 2, 3, 4, 1], [0, 2, 4, 1, 3], [0, 2, 4, 3, 1], [0, 3, 1, 2, 4], [0, 3, 1, 4, 2], [0, 3, 2, 1, 4], [0, 3, 2, 4, 1], [0, 3, 4, 1, 2], [0, 3, 4, 2, 1], [0, 4, 1, 2, 3], [0, 4, 1, 3, 2], [0, 4, 2, 1, 3], [0, 4, 2, 3, 1], [0, 4, 3, 1, 2], [0, 4, 3, 2, 1], [1, 0, 2, 3, 4], [1, 0, 2, 4, 3], [1, 0, 3, 2, 4], [1, 0, 3, 4, 2], [1, 0, 4, 2, 3], [1, 0, 4, 3, 2], [1, 2, 0, 3, 4], [1, 2, 0, 4, 3], [1, 2, 3, 0, 4], [1, 2, 3, 4, 0], [1, 2, 4, 0, 3], [1, 2, 4, 3, 0], [1, 3, 0, 2, 4], [1, 3, 0, 4, 2], [1, 3, 2, 0, 4], [1, 3, 2, 4, 0], [1, 3, 4, 0, 2], [1, 3, 4, 2, 0], [1, 4, 0, 2, 3], [1, 4, 0, 3, 2], [1, 4, 2, 0, 3], [1, 4, 2, 3, 0], [1, 4, 3, 0, 2], [1, 4, 3, 2, 0], [2, 0, 1, 3, 4], [2, 0, 1, 4, 3], [2, 0, 3, 1, 4], [2, 0, 3, 4, 1], [2, 0, 4, 1, 3], [2, 0, 4, 3, 1], [2, 1, 0, 3, 4], [2, 1, 0, 4, 3], [2, 1, 3, 0, 4], [2, 1, 3, 4, 0], [2, 1, 4, 0, 3], [2, 1, 4, 3, 0], [2, 3, 0, 1, 4], [2, 3, 0, 4, 1], [2, 3, 1, 0, 4], [2, 3, 1, 4, 0], [2, 3, 4, 0, 1], [2, 3, 4, 1, 0], [2, 4, 0, 1, 3], [2, 4, 0, 3, 1], [2, 4, 1, 0, 3], [2, 4, 1, 3, 0], [2, 4, 3, 0, 1], [2, 4, 3, 1, 0], [3, 0, 1, 2, 4], [3, 0, 1, 4, 2], [3, 0, 2, 1, 4], [3, 0, 2, 4, 1], [3, 0, 4, 1, 2], [3, 0, 4, 2, 1], [3, 1, 0, 2, 4], [3, 1, 0, 4, 2], [3, 1, 2, 0, 4], [3, 1, 2, 4, 0], [3, 1, 4, 0, 2], [3, 1, 4, 2, 0], [3, 2, 0, 1, 4], [3, 2, 0, 4, 1], [3, 2, 1, 0, 4], [3, 2, 1, 4, 0], [3, 2, 4, 0, 1], [3, 2, 4, 1, 0], [3, 4, 0, 1, 2], [3, 4, 0, 2, 1], [3, 4, 1, 0, 2], [3, 4, 1, 2, 0], [3, 4, 2, 0, 1], [3, 4, 2, 1, 0], [4, 0, 1, 2, 3], [4, 0, 1, 3, 2], [4, 0, 2, 1, 3], [4, 0, 2, 3, 1], [4, 0, 3, 1, 2], [4, 0, 3, 2, 1], [4, 1, 0, 2, 3], [4, 1, 0, 3, 2], [4, 1, 2, 0, 3], [4, 1, 2, 3, 0], [4, 1, 3, 0, 2], [4, 1, 3, 2, 0], [4, 2, 0, 1, 3], [4, 2, 0, 3, 1], [4, 2, 1, 0, 3], [4, 2, 1, 3, 0], [4, 2, 3, 0, 1], [4, 2, 3, 1, 0], [4, 3, 0, 1, 2], [4, 3, 0, 2, 1], [4, 3, 1, 0, 2], [4, 3, 1, 2, 0], [4, 3, 2, 0, 1], [4, 3, 2, 1, 0]]\n"
     ]
    }
   ],
   "source": [
    "all_p = solver.all_permutations(list(range(5)))\n",
    "print(all_p)"
   ]
  },
  {
   "cell_type": "code",
   "execution_count": 9,
   "metadata": {
    "ExecuteTime": {
     "end_time": "2024-02-28T02:38:23.227134200Z",
     "start_time": "2024-02-28T02:38:23.109607200Z"
    }
   },
   "outputs": [
    {
     "name": "stdout",
     "output_type": "stream",
     "text": [
      "makspan : 395.0\n",
      "Solution : [2, 4, 3, 1, 0]\n"
     ]
    }
   ],
   "source": [
    "import math\n",
    "bound = math.inf\n",
    "solution = None\n",
    "for i in all_p:\n",
    "    gg = solver.compute_lower_bound(i)\n",
    "    if gg < bound:\n",
    "        bound = gg\n",
    "        solution = i\n",
    "        \n",
    "print(\"makspan :\",bound)\n",
    "print(\"Solution :\", solution)"
   ]
  },
  {
   "cell_type": "markdown",
   "metadata": {},
   "source": [
    "### Test B&B with First solution using Johnson and NEH"
   ]
  },
  {
   "cell_type": "code",
   "execution_count": 10,
   "metadata": {
    "ExecuteTime": {
     "end_time": "2024-02-28T02:38:23.239143800Z",
     "start_time": "2024-02-28T02:38:23.188173500Z"
    }
   },
   "outputs": [
    {
     "name": "stdout",
     "output_type": "stream",
     "text": [
      "makspan : 513.0\n",
      "Solution : [5, 7, 6, 0, 3, 4, 2, 1]\n"
     ]
    }
   ],
   "source": [
    "from utils_branch_bound import johnson_method\n",
    "solver.consider_instance(instances[0][2][:2, :8])\n",
    "solution = johnson_method(instances[0][2][:2, :8].T)\n",
    "\n",
    "makspan = solver.compute_lower_bound(solution)\n",
    "\n",
    "print(\"makspan :\",makspan)\n",
    "print(\"Solution :\", solution)"
   ]
  },
  {
   "cell_type": "code",
   "execution_count": 11,
   "metadata": {
    "ExecuteTime": {
     "end_time": "2024-02-28T02:38:26.432290600Z",
     "start_time": "2024-02-28T02:38:23.220139500Z"
    }
   },
   "outputs": [
    {
     "name": "stdout",
     "output_type": "stream",
     "text": [
      "Optimal Solution: [5, 0, 2, 3, 1, 7, 6, 4]\n",
      "Optimal Cost: 513.0\n",
      "makspan : 513.0\n",
      "Solution : [5, 7, 6, 0, 3, 4, 2, 1]\n"
     ]
    }
   ],
   "source": [
    "''' this is only to confirm that our branch and bound is working correctly comparing to\n",
    "the solution of the johnson method for 2 machine flowshop problem\n",
    "\n",
    "'''\n",
    "solver = FlowShopBranchBoundSolver()\n",
    "\n",
    "\n",
    "solver.consider_instance(instances[0][2][:2,:8])\n",
    "\n",
    "\n",
    "solver.solve(list(range(8)))\n",
    "\n",
    "makspan = solver.compute_lower_bound(solver.intial_solution)\n",
    "\n",
    "print(\"makspan :\",makspan)\n",
    "print(\"Solution :\", solution)\n",
    "\n",
    "# print(solver.intial_solution)"
   ]
  },
  {
   "cell_type": "code",
   "execution_count": 12,
   "metadata": {
    "ExecuteTime": {
     "end_time": "2024-02-28T02:38:32.282079900Z",
     "start_time": "2024-02-28T02:38:26.509245500Z"
    }
   },
   "outputs": [
    {
     "name": "stdout",
     "output_type": "stream",
     "text": [
      "Optimal Solution: [2, 5, 0, 3, 1, 7, 4, 6]\n",
      "Optimal Cost: 704.0\n",
      "makspan : 704.0\n",
      "Solution : [5, 7, 6, 0, 3, 4, 2, 1]\n"
     ]
    }
   ],
   "source": [
    "\n",
    "solver = FlowShopBranchBoundSolver()\n",
    "\n",
    "\n",
    "solver.consider_instance(instances[0][2][:,:8])\n",
    "\n",
    "\n",
    "solver.solve(list(range(8)))\n",
    "\n",
    "makspan = solver.compute_lower_bound(solver.intial_solution)\n",
    "\n",
    "print(\"makspan :\",makspan)\n",
    "print(\"Solution :\", solution)\n",
    "\n",
    "# print(solver.intial_solution)"
   ]
  },
  {
   "cell_type": "markdown",
   "metadata": {},
   "source": [
    "### Test with benchmark tai **20**_**5**"
   ]
  },
  {
   "cell_type": "code",
   "execution_count": 13,
   "metadata": {
    "ExecuteTime": {
     "end_time": "2024-02-28T02:38:32.341305100Z",
     "start_time": "2024-02-28T02:38:32.287078Z"
    }
   },
   "outputs": [
    {
     "name": "stdout",
     "output_type": "stream",
     "text": [
      "makspan : 1623.0\n",
      "Solution : [14, 12, 13, 5, 7, 6, 0, 3, 17, 19, 11, 9, 4, 16, 15, 2, 18, 8, 10, 1]\n"
     ]
    }
   ],
   "source": [
    "johnson_solution = johnson_method(instances[0][2][:2, :].T)\n",
    "solver.consider_instance(instances[0][2])\n",
    "makspan = solver.compute_lower_bound(johnson_solution)\n",
    "\n",
    "print(\"makspan :\",makspan)\n",
    "print(\"Solution :\", johnson_solution)"
   ]
  },
  {
   "cell_type": "code",
   "execution_count": 16,
   "metadata": {},
   "outputs": [
    {
     "name": "stdout",
     "output_type": "stream",
     "text": [
      "new seq job: 12, iteration 0: [12, 16, 2]\n",
      "LB job12, iteration 0: 321.0\n",
      "new seq job: 12, iteration 1: [16, 12, 2]\n",
      "LB job12, iteration 1: 289.0\n",
      "new seq job: 12, iteration 2: [16, 2, 12]\n",
      "LB job12, iteration 2: 247.0\n",
      "new seq job: 8, iteration 0: [8, 16, 2, 12]\n",
      "LB job8, iteration 0: 293.0\n",
      "new seq job: 8, iteration 1: [16, 8, 2, 12]\n",
      "LB job8, iteration 1: 295.0\n",
      "new seq job: 8, iteration 2: [16, 2, 8, 12]\n",
      "LB job8, iteration 2: 311.0\n",
      "new seq job: 8, iteration 3: [16, 2, 12, 8]\n",
      "LB job8, iteration 3: 375.0\n",
      "new seq job: 7, iteration 0: [7, 8, 16, 2, 12]\n",
      "LB job7, iteration 0: 384.0\n",
      "new seq job: 7, iteration 1: [8, 7, 16, 2, 12]\n",
      "LB job7, iteration 1: 347.0\n",
      "new seq job: 7, iteration 2: [8, 16, 7, 2, 12]\n",
      "LB job7, iteration 2: 351.0\n",
      "new seq job: 7, iteration 3: [8, 16, 2, 7, 12]\n",
      "LB job7, iteration 3: 355.0\n",
      "new seq job: 7, iteration 4: [8, 16, 2, 12, 7]\n",
      "LB job7, iteration 4: 366.0\n",
      "new seq job: 14, iteration 0: [14, 8, 7, 16, 2, 12]\n",
      "LB job14, iteration 0: 427.0\n",
      "new seq job: 14, iteration 1: [8, 14, 7, 16, 2, 12]\n",
      "LB job14, iteration 1: 407.0\n",
      "new seq job: 14, iteration 2: [8, 7, 14, 16, 2, 12]\n",
      "LB job14, iteration 2: 431.0\n",
      "new seq job: 14, iteration 3: [8, 7, 16, 14, 2, 12]\n",
      "LB job14, iteration 3: 415.0\n",
      "new seq job: 14, iteration 4: [8, 7, 16, 2, 14, 12]\n",
      "LB job14, iteration 4: 403.0\n",
      "new seq job: 14, iteration 5: [8, 7, 16, 2, 12, 14]\n",
      "LB job14, iteration 5: 459.0\n",
      "new seq job: 11, iteration 0: [11, 8, 7, 16, 2, 14, 12]\n",
      "LB job11, iteration 0: 518.0\n",
      "new seq job: 11, iteration 1: [8, 11, 7, 16, 2, 14, 12]\n",
      "LB job11, iteration 1: 517.0\n",
      "new seq job: 11, iteration 2: [8, 7, 11, 16, 2, 14, 12]\n",
      "LB job11, iteration 2: 487.0\n",
      "new seq job: 11, iteration 3: [8, 7, 16, 11, 2, 14, 12]\n",
      "LB job11, iteration 3: 490.0\n",
      "new seq job: 11, iteration 4: [8, 7, 16, 2, 11, 14, 12]\n",
      "LB job11, iteration 4: 494.0\n",
      "new seq job: 11, iteration 5: [8, 7, 16, 2, 14, 11, 12]\n",
      "LB job11, iteration 5: 475.0\n",
      "new seq job: 11, iteration 6: [8, 7, 16, 2, 14, 12, 11]\n",
      "LB job11, iteration 6: 475.0\n",
      "new seq job: 13, iteration 0: [13, 8, 7, 16, 2, 14, 11, 12]\n",
      "LB job13, iteration 0: 578.0\n",
      "new seq job: 13, iteration 1: [8, 13, 7, 16, 2, 14, 11, 12]\n",
      "LB job13, iteration 1: 541.0\n",
      "new seq job: 13, iteration 2: [8, 7, 13, 16, 2, 14, 11, 12]\n",
      "LB job13, iteration 2: 562.0\n",
      "new seq job: 13, iteration 3: [8, 7, 16, 13, 2, 14, 11, 12]\n",
      "LB job13, iteration 3: 557.0\n",
      "new seq job: 13, iteration 4: [8, 7, 16, 2, 13, 14, 11, 12]\n",
      "LB job13, iteration 4: 525.0\n",
      "new seq job: 13, iteration 5: [8, 7, 16, 2, 14, 13, 11, 12]\n",
      "LB job13, iteration 5: 524.0\n",
      "new seq job: 13, iteration 6: [8, 7, 16, 2, 14, 11, 13, 12]\n",
      "LB job13, iteration 6: 534.0\n",
      "new seq job: 13, iteration 7: [8, 7, 16, 2, 14, 11, 12, 13]\n",
      "LB job13, iteration 7: 555.0\n",
      "new seq job: 10, iteration 0: [10, 8, 7, 16, 2, 14, 13, 11, 12]\n",
      "LB job10, iteration 0: 621.0\n",
      "new seq job: 10, iteration 1: [8, 10, 7, 16, 2, 14, 13, 11, 12]\n",
      "LB job10, iteration 1: 604.0\n",
      "new seq job: 10, iteration 2: [8, 7, 10, 16, 2, 14, 13, 11, 12]\n",
      "LB job10, iteration 2: 632.0\n",
      "new seq job: 10, iteration 3: [8, 7, 16, 10, 2, 14, 13, 11, 12]\n",
      "LB job10, iteration 3: 628.0\n",
      "new seq job: 10, iteration 4: [8, 7, 16, 2, 10, 14, 13, 11, 12]\n",
      "LB job10, iteration 4: 639.0\n",
      "new seq job: 10, iteration 5: [8, 7, 16, 2, 14, 10, 13, 11, 12]\n",
      "LB job10, iteration 5: 648.0\n",
      "new seq job: 10, iteration 6: [8, 7, 16, 2, 14, 13, 10, 11, 12]\n",
      "LB job10, iteration 6: 640.0\n",
      "new seq job: 10, iteration 7: [8, 7, 16, 2, 14, 13, 11, 10, 12]\n",
      "LB job10, iteration 7: 610.0\n",
      "new seq job: 10, iteration 8: [8, 7, 16, 2, 14, 13, 11, 12, 10]\n",
      "LB job10, iteration 8: 686.0\n",
      "new seq job: 15, iteration 0: [15, 8, 10, 7, 16, 2, 14, 13, 11, 12]\n",
      "LB job15, iteration 0: 715.0\n",
      "new seq job: 15, iteration 1: [8, 15, 10, 7, 16, 2, 14, 13, 11, 12]\n",
      "LB job15, iteration 1: 677.0\n",
      "new seq job: 15, iteration 2: [8, 10, 15, 7, 16, 2, 14, 13, 11, 12]\n",
      "LB job15, iteration 2: 691.0\n",
      "new seq job: 15, iteration 3: [8, 10, 7, 15, 16, 2, 14, 13, 11, 12]\n",
      "LB job15, iteration 3: 691.0\n",
      "new seq job: 15, iteration 4: [8, 10, 7, 16, 15, 2, 14, 13, 11, 12]\n",
      "LB job15, iteration 4: 691.0\n",
      "new seq job: 15, iteration 5: [8, 10, 7, 16, 2, 15, 14, 13, 11, 12]\n",
      "LB job15, iteration 5: 691.0\n",
      "new seq job: 15, iteration 6: [8, 10, 7, 16, 2, 14, 15, 13, 11, 12]\n",
      "LB job15, iteration 6: 691.0\n",
      "new seq job: 15, iteration 7: [8, 10, 7, 16, 2, 14, 13, 15, 11, 12]\n",
      "LB job15, iteration 7: 691.0\n",
      "new seq job: 15, iteration 8: [8, 10, 7, 16, 2, 14, 13, 11, 15, 12]\n",
      "LB job15, iteration 8: 691.0\n",
      "new seq job: 15, iteration 9: [8, 10, 7, 16, 2, 14, 13, 11, 12, 15]\n",
      "LB job15, iteration 9: 726.0\n",
      "new seq job: 18, iteration 0: [18, 8, 15, 10, 7, 16, 2, 14, 13, 11, 12]\n",
      "LB job18, iteration 0: 806.0\n",
      "new seq job: 18, iteration 1: [8, 18, 15, 10, 7, 16, 2, 14, 13, 11, 12]\n",
      "LB job18, iteration 1: 764.0\n",
      "new seq job: 18, iteration 2: [8, 15, 18, 10, 7, 16, 2, 14, 13, 11, 12]\n",
      "LB job18, iteration 2: 771.0\n",
      "new seq job: 18, iteration 3: [8, 15, 10, 18, 7, 16, 2, 14, 13, 11, 12]\n",
      "LB job18, iteration 3: 757.0\n",
      "new seq job: 18, iteration 4: [8, 15, 10, 7, 18, 16, 2, 14, 13, 11, 12]\n",
      "LB job18, iteration 4: 751.0\n",
      "new seq job: 18, iteration 5: [8, 15, 10, 7, 16, 18, 2, 14, 13, 11, 12]\n",
      "LB job18, iteration 5: 748.0\n",
      "new seq job: 18, iteration 6: [8, 15, 10, 7, 16, 2, 18, 14, 13, 11, 12]\n",
      "LB job18, iteration 6: 748.0\n",
      "new seq job: 18, iteration 7: [8, 15, 10, 7, 16, 2, 14, 18, 13, 11, 12]\n",
      "LB job18, iteration 7: 764.0\n",
      "new seq job: 18, iteration 8: [8, 15, 10, 7, 16, 2, 14, 13, 18, 11, 12]\n",
      "LB job18, iteration 8: 756.0\n",
      "new seq job: 18, iteration 9: [8, 15, 10, 7, 16, 2, 14, 13, 11, 18, 12]\n",
      "LB job18, iteration 9: 745.0\n",
      "new seq job: 18, iteration 10: [8, 15, 10, 7, 16, 2, 14, 13, 11, 12, 18]\n",
      "LB job18, iteration 10: 825.0\n",
      "new seq job: 19, iteration 0: [19, 8, 15, 10, 7, 16, 2, 14, 13, 11, 18, 12]\n",
      "LB job19, iteration 0: 922.0\n",
      "new seq job: 19, iteration 1: [8, 19, 15, 10, 7, 16, 2, 14, 13, 11, 18, 12]\n",
      "LB job19, iteration 1: 861.0\n",
      "new seq job: 19, iteration 2: [8, 15, 19, 10, 7, 16, 2, 14, 13, 11, 18, 12]\n",
      "LB job19, iteration 2: 880.0\n",
      "new seq job: 19, iteration 3: [8, 15, 10, 19, 7, 16, 2, 14, 13, 11, 18, 12]\n",
      "LB job19, iteration 3: 878.0\n",
      "new seq job: 19, iteration 4: [8, 15, 10, 7, 19, 16, 2, 14, 13, 11, 18, 12]\n",
      "LB job19, iteration 4: 867.0\n",
      "new seq job: 19, iteration 5: [8, 15, 10, 7, 16, 19, 2, 14, 13, 11, 18, 12]\n",
      "LB job19, iteration 5: 873.0\n",
      "new seq job: 19, iteration 6: [8, 15, 10, 7, 16, 2, 19, 14, 13, 11, 18, 12]\n",
      "LB job19, iteration 6: 846.0\n",
      "new seq job: 19, iteration 7: [8, 15, 10, 7, 16, 2, 14, 19, 13, 11, 18, 12]\n",
      "LB job19, iteration 7: 802.0\n",
      "new seq job: 19, iteration 8: [8, 15, 10, 7, 16, 2, 14, 13, 19, 11, 18, 12]\n",
      "LB job19, iteration 8: 779.0\n",
      "new seq job: 19, iteration 9: [8, 15, 10, 7, 16, 2, 14, 13, 11, 19, 18, 12]\n",
      "LB job19, iteration 9: 814.0\n",
      "new seq job: 19, iteration 10: [8, 15, 10, 7, 16, 2, 14, 13, 11, 18, 19, 12]\n",
      "LB job19, iteration 10: 819.0\n",
      "new seq job: 19, iteration 11: [8, 15, 10, 7, 16, 2, 14, 13, 11, 18, 12, 19]\n",
      "LB job19, iteration 11: 773.0\n",
      "new seq job: 0, iteration 0: [0, 8, 15, 10, 7, 16, 2, 14, 13, 11, 18, 12, 19]\n",
      "LB job0, iteration 0: 906.0\n",
      "new seq job: 0, iteration 1: [8, 0, 15, 10, 7, 16, 2, 14, 13, 11, 18, 12, 19]\n",
      "LB job0, iteration 1: 864.0\n",
      "new seq job: 0, iteration 2: [8, 15, 0, 10, 7, 16, 2, 14, 13, 11, 18, 12, 19]\n",
      "LB job0, iteration 2: 881.0\n",
      "new seq job: 0, iteration 3: [8, 15, 10, 0, 7, 16, 2, 14, 13, 11, 18, 12, 19]\n",
      "LB job0, iteration 3: 868.0\n",
      "new seq job: 0, iteration 4: [8, 15, 10, 7, 0, 16, 2, 14, 13, 11, 18, 12, 19]\n",
      "LB job0, iteration 4: 852.0\n",
      "new seq job: 0, iteration 5: [8, 15, 10, 7, 16, 0, 2, 14, 13, 11, 18, 12, 19]\n",
      "LB job0, iteration 5: 839.0\n",
      "new seq job: 0, iteration 6: [8, 15, 10, 7, 16, 2, 0, 14, 13, 11, 18, 12, 19]\n",
      "LB job0, iteration 6: 841.0\n",
      "new seq job: 0, iteration 7: [8, 15, 10, 7, 16, 2, 14, 0, 13, 11, 18, 12, 19]\n",
      "LB job0, iteration 7: 850.0\n",
      "new seq job: 0, iteration 8: [8, 15, 10, 7, 16, 2, 14, 13, 0, 11, 18, 12, 19]\n",
      "LB job0, iteration 8: 842.0\n",
      "new seq job: 0, iteration 9: [8, 15, 10, 7, 16, 2, 14, 13, 11, 0, 18, 12, 19]\n",
      "LB job0, iteration 9: 831.0\n",
      "new seq job: 0, iteration 10: [8, 15, 10, 7, 16, 2, 14, 13, 11, 18, 0, 12, 19]\n",
      "LB job0, iteration 10: 847.0\n",
      "new seq job: 0, iteration 11: [8, 15, 10, 7, 16, 2, 14, 13, 11, 18, 12, 0, 19]\n",
      "LB job0, iteration 11: 831.0\n",
      "new seq job: 0, iteration 12: [8, 15, 10, 7, 16, 2, 14, 13, 11, 18, 12, 19, 0]\n",
      "LB job0, iteration 12: 869.0\n",
      "new seq job: 5, iteration 0: [5, 8, 15, 10, 7, 16, 2, 14, 13, 11, 0, 18, 12, 19]\n",
      "LB job5, iteration 0: 982.0\n",
      "new seq job: 5, iteration 1: [8, 5, 15, 10, 7, 16, 2, 14, 13, 11, 0, 18, 12, 19]\n",
      "LB job5, iteration 1: 931.0\n",
      "new seq job: 5, iteration 2: [8, 15, 5, 10, 7, 16, 2, 14, 13, 11, 0, 18, 12, 19]\n",
      "LB job5, iteration 2: 966.0\n",
      "new seq job: 5, iteration 3: [8, 15, 10, 5, 7, 16, 2, 14, 13, 11, 0, 18, 12, 19]\n",
      "LB job5, iteration 3: 952.0\n",
      "new seq job: 5, iteration 4: [8, 15, 10, 7, 5, 16, 2, 14, 13, 11, 0, 18, 12, 19]\n",
      "LB job5, iteration 4: 955.0\n",
      "new seq job: 5, iteration 5: [8, 15, 10, 7, 16, 5, 2, 14, 13, 11, 0, 18, 12, 19]\n",
      "LB job5, iteration 5: 922.0\n",
      "new seq job: 5, iteration 6: [8, 15, 10, 7, 16, 2, 5, 14, 13, 11, 0, 18, 12, 19]\n",
      "LB job5, iteration 6: 922.0\n",
      "new seq job: 5, iteration 7: [8, 15, 10, 7, 16, 2, 14, 5, 13, 11, 0, 18, 12, 19]\n",
      "LB job5, iteration 7: 916.0\n",
      "new seq job: 5, iteration 8: [8, 15, 10, 7, 16, 2, 14, 13, 5, 11, 0, 18, 12, 19]\n",
      "LB job5, iteration 8: 907.0\n",
      "new seq job: 5, iteration 9: [8, 15, 10, 7, 16, 2, 14, 13, 11, 5, 0, 18, 12, 19]\n",
      "LB job5, iteration 9: 927.0\n",
      "new seq job: 5, iteration 10: [8, 15, 10, 7, 16, 2, 14, 13, 11, 0, 5, 18, 12, 19]\n",
      "LB job5, iteration 10: 933.0\n",
      "new seq job: 5, iteration 11: [8, 15, 10, 7, 16, 2, 14, 13, 11, 0, 18, 5, 12, 19]\n",
      "LB job5, iteration 11: 905.0\n",
      "new seq job: 5, iteration 12: [8, 15, 10, 7, 16, 2, 14, 13, 11, 0, 18, 12, 5, 19]\n",
      "LB job5, iteration 12: 927.0\n",
      "new seq job: 5, iteration 13: [8, 15, 10, 7, 16, 2, 14, 13, 11, 0, 18, 12, 19, 5]\n",
      "LB job5, iteration 13: 968.0\n",
      "new seq job: 6, iteration 0: [6, 8, 15, 10, 7, 16, 2, 14, 13, 11, 0, 18, 5, 12, 19]\n",
      "LB job6, iteration 0: 1044.0\n",
      "new seq job: 6, iteration 1: [8, 6, 15, 10, 7, 16, 2, 14, 13, 11, 0, 18, 5, 12, 19]\n",
      "LB job6, iteration 1: 983.0\n",
      "new seq job: 6, iteration 2: [8, 15, 6, 10, 7, 16, 2, 14, 13, 11, 0, 18, 5, 12, 19]\n",
      "LB job6, iteration 2: 984.0\n",
      "new seq job: 6, iteration 3: [8, 15, 10, 6, 7, 16, 2, 14, 13, 11, 0, 18, 5, 12, 19]\n",
      "LB job6, iteration 3: 1019.0\n",
      "new seq job: 6, iteration 4: [8, 15, 10, 7, 6, 16, 2, 14, 13, 11, 0, 18, 5, 12, 19]\n",
      "LB job6, iteration 4: 1004.0\n",
      "new seq job: 6, iteration 5: [8, 15, 10, 7, 16, 6, 2, 14, 13, 11, 0, 18, 5, 12, 19]\n",
      "LB job6, iteration 5: 1008.0\n",
      "new seq job: 6, iteration 6: [8, 15, 10, 7, 16, 2, 6, 14, 13, 11, 0, 18, 5, 12, 19]\n",
      "LB job6, iteration 6: 1012.0\n",
      "new seq job: 6, iteration 7: [8, 15, 10, 7, 16, 2, 14, 6, 13, 11, 0, 18, 5, 12, 19]\n",
      "LB job6, iteration 7: 1004.0\n",
      "new seq job: 6, iteration 8: [8, 15, 10, 7, 16, 2, 14, 13, 6, 11, 0, 18, 5, 12, 19]\n",
      "LB job6, iteration 8: 1004.0\n",
      "new seq job: 6, iteration 9: [8, 15, 10, 7, 16, 2, 14, 13, 11, 6, 0, 18, 5, 12, 19]\n",
      "LB job6, iteration 9: 1004.0\n",
      "new seq job: 6, iteration 10: [8, 15, 10, 7, 16, 2, 14, 13, 11, 0, 6, 18, 5, 12, 19]\n",
      "LB job6, iteration 10: 1048.0\n",
      "new seq job: 6, iteration 11: [8, 15, 10, 7, 16, 2, 14, 13, 11, 0, 18, 6, 5, 12, 19]\n",
      "LB job6, iteration 11: 995.0\n",
      "new seq job: 6, iteration 12: [8, 15, 10, 7, 16, 2, 14, 13, 11, 0, 18, 5, 6, 12, 19]\n",
      "LB job6, iteration 12: 995.0\n",
      "new seq job: 6, iteration 13: [8, 15, 10, 7, 16, 2, 14, 13, 11, 0, 18, 5, 12, 6, 19]\n",
      "LB job6, iteration 13: 995.0\n",
      "new seq job: 6, iteration 14: [8, 15, 10, 7, 16, 2, 14, 13, 11, 0, 18, 5, 12, 19, 6]\n",
      "LB job6, iteration 14: 1022.0\n",
      "new seq job: 1, iteration 0: [1, 8, 6, 15, 10, 7, 16, 2, 14, 13, 11, 0, 18, 5, 12, 19]\n",
      "LB job1, iteration 0: 1068.0\n",
      "new seq job: 1, iteration 1: [8, 1, 6, 15, 10, 7, 16, 2, 14, 13, 11, 0, 18, 5, 12, 19]\n",
      "LB job1, iteration 1: 1066.0\n",
      "new seq job: 1, iteration 2: [8, 6, 1, 15, 10, 7, 16, 2, 14, 13, 11, 0, 18, 5, 12, 19]\n",
      "LB job1, iteration 2: 1099.0\n",
      "new seq job: 1, iteration 3: [8, 6, 15, 1, 10, 7, 16, 2, 14, 13, 11, 0, 18, 5, 12, 19]\n",
      "LB job1, iteration 3: 1088.0\n",
      "new seq job: 1, iteration 4: [8, 6, 15, 10, 1, 7, 16, 2, 14, 13, 11, 0, 18, 5, 12, 19]\n",
      "LB job1, iteration 4: 1041.0\n",
      "new seq job: 1, iteration 5: [8, 6, 15, 10, 7, 1, 16, 2, 14, 13, 11, 0, 18, 5, 12, 19]\n",
      "LB job1, iteration 5: 1039.0\n",
      "new seq job: 1, iteration 6: [8, 6, 15, 10, 7, 16, 1, 2, 14, 13, 11, 0, 18, 5, 12, 19]\n",
      "LB job1, iteration 6: 1039.0\n",
      "new seq job: 1, iteration 7: [8, 6, 15, 10, 7, 16, 2, 1, 14, 13, 11, 0, 18, 5, 12, 19]\n",
      "LB job1, iteration 7: 1039.0\n",
      "new seq job: 1, iteration 8: [8, 6, 15, 10, 7, 16, 2, 14, 1, 13, 11, 0, 18, 5, 12, 19]\n",
      "LB job1, iteration 8: 1043.0\n",
      "new seq job: 1, iteration 9: [8, 6, 15, 10, 7, 16, 2, 14, 13, 1, 11, 0, 18, 5, 12, 19]\n",
      "LB job1, iteration 9: 1039.0\n",
      "new seq job: 1, iteration 10: [8, 6, 15, 10, 7, 16, 2, 14, 13, 11, 1, 0, 18, 5, 12, 19]\n",
      "LB job1, iteration 10: 1039.0\n",
      "new seq job: 1, iteration 11: [8, 6, 15, 10, 7, 16, 2, 14, 13, 11, 0, 1, 18, 5, 12, 19]\n",
      "LB job1, iteration 11: 1047.0\n",
      "new seq job: 1, iteration 12: [8, 6, 15, 10, 7, 16, 2, 14, 13, 11, 0, 18, 1, 5, 12, 19]\n",
      "LB job1, iteration 12: 1054.0\n",
      "new seq job: 1, iteration 13: [8, 6, 15, 10, 7, 16, 2, 14, 13, 11, 0, 18, 5, 1, 12, 19]\n",
      "LB job1, iteration 13: 1039.0\n",
      "new seq job: 1, iteration 14: [8, 6, 15, 10, 7, 16, 2, 14, 13, 11, 0, 18, 5, 12, 1, 19]\n",
      "LB job1, iteration 14: 1067.0\n",
      "new seq job: 1, iteration 15: [8, 6, 15, 10, 7, 16, 2, 14, 13, 11, 0, 18, 5, 12, 19, 1]\n",
      "LB job1, iteration 15: 1093.0\n",
      "new seq job: 9, iteration 0: [9, 8, 6, 15, 10, 7, 1, 16, 2, 14, 13, 11, 0, 18, 5, 12, 19]\n",
      "LB job9, iteration 0: 1176.0\n",
      "new seq job: 9, iteration 1: [8, 9, 6, 15, 10, 7, 1, 16, 2, 14, 13, 11, 0, 18, 5, 12, 19]\n",
      "LB job9, iteration 1: 1129.0\n",
      "new seq job: 9, iteration 2: [8, 6, 9, 15, 10, 7, 1, 16, 2, 14, 13, 11, 0, 18, 5, 12, 19]\n",
      "LB job9, iteration 2: 1141.0\n",
      "new seq job: 9, iteration 3: [8, 6, 15, 9, 10, 7, 1, 16, 2, 14, 13, 11, 0, 18, 5, 12, 19]\n",
      "LB job9, iteration 3: 1160.0\n",
      "new seq job: 9, iteration 4: [8, 6, 15, 10, 9, 7, 1, 16, 2, 14, 13, 11, 0, 18, 5, 12, 19]\n",
      "LB job9, iteration 4: 1148.0\n",
      "new seq job: 9, iteration 5: [8, 6, 15, 10, 7, 9, 1, 16, 2, 14, 13, 11, 0, 18, 5, 12, 19]\n",
      "LB job9, iteration 5: 1131.0\n",
      "new seq job: 9, iteration 6: [8, 6, 15, 10, 7, 1, 9, 16, 2, 14, 13, 11, 0, 18, 5, 12, 19]\n",
      "LB job9, iteration 6: 1152.0\n",
      "new seq job: 9, iteration 7: [8, 6, 15, 10, 7, 1, 16, 9, 2, 14, 13, 11, 0, 18, 5, 12, 19]\n",
      "LB job9, iteration 7: 1135.0\n",
      "new seq job: 9, iteration 8: [8, 6, 15, 10, 7, 1, 16, 2, 9, 14, 13, 11, 0, 18, 5, 12, 19]\n",
      "LB job9, iteration 8: 1139.0\n",
      "new seq job: 9, iteration 9: [8, 6, 15, 10, 7, 1, 16, 2, 14, 9, 13, 11, 0, 18, 5, 12, 19]\n",
      "LB job9, iteration 9: 1113.0\n",
      "new seq job: 9, iteration 10: [8, 6, 15, 10, 7, 1, 16, 2, 14, 13, 9, 11, 0, 18, 5, 12, 19]\n",
      "LB job9, iteration 10: 1110.0\n",
      "new seq job: 9, iteration 11: [8, 6, 15, 10, 7, 1, 16, 2, 14, 13, 11, 9, 0, 18, 5, 12, 19]\n",
      "LB job9, iteration 11: 1131.0\n",
      "new seq job: 9, iteration 12: [8, 6, 15, 10, 7, 1, 16, 2, 14, 13, 11, 0, 9, 18, 5, 12, 19]\n",
      "LB job9, iteration 12: 1125.0\n",
      "new seq job: 9, iteration 13: [8, 6, 15, 10, 7, 1, 16, 2, 14, 13, 11, 0, 18, 9, 5, 12, 19]\n",
      "LB job9, iteration 13: 1136.0\n",
      "new seq job: 9, iteration 14: [8, 6, 15, 10, 7, 1, 16, 2, 14, 13, 11, 0, 18, 5, 9, 12, 19]\n",
      "LB job9, iteration 14: 1110.0\n",
      "new seq job: 9, iteration 15: [8, 6, 15, 10, 7, 1, 16, 2, 14, 13, 11, 0, 18, 5, 12, 9, 19]\n",
      "LB job9, iteration 15: 1110.0\n",
      "new seq job: 9, iteration 16: [8, 6, 15, 10, 7, 1, 16, 2, 14, 13, 11, 0, 18, 5, 12, 19, 9]\n",
      "LB job9, iteration 16: 1129.0\n",
      "new seq job: 3, iteration 0: [3, 8, 6, 15, 10, 7, 1, 16, 2, 14, 13, 9, 11, 0, 18, 5, 12, 19]\n",
      "LB job3, iteration 0: 1205.0\n",
      "new seq job: 3, iteration 1: [8, 3, 6, 15, 10, 7, 1, 16, 2, 14, 13, 9, 11, 0, 18, 5, 12, 19]\n",
      "LB job3, iteration 1: 1227.0\n",
      "new seq job: 3, iteration 2: [8, 6, 3, 15, 10, 7, 1, 16, 2, 14, 13, 9, 11, 0, 18, 5, 12, 19]\n",
      "LB job3, iteration 2: 1185.0\n",
      "new seq job: 3, iteration 3: [8, 6, 15, 3, 10, 7, 1, 16, 2, 14, 13, 9, 11, 0, 18, 5, 12, 19]\n",
      "LB job3, iteration 3: 1194.0\n",
      "new seq job: 3, iteration 4: [8, 6, 15, 10, 3, 7, 1, 16, 2, 14, 13, 9, 11, 0, 18, 5, 12, 19]\n",
      "LB job3, iteration 4: 1218.0\n",
      "new seq job: 3, iteration 5: [8, 6, 15, 10, 7, 3, 1, 16, 2, 14, 13, 9, 11, 0, 18, 5, 12, 19]\n",
      "LB job3, iteration 5: 1188.0\n",
      "new seq job: 3, iteration 6: [8, 6, 15, 10, 7, 1, 3, 16, 2, 14, 13, 9, 11, 0, 18, 5, 12, 19]\n",
      "LB job3, iteration 6: 1207.0\n",
      "new seq job: 3, iteration 7: [8, 6, 15, 10, 7, 1, 16, 3, 2, 14, 13, 9, 11, 0, 18, 5, 12, 19]\n",
      "LB job3, iteration 7: 1218.0\n",
      "new seq job: 3, iteration 8: [8, 6, 15, 10, 7, 1, 16, 2, 3, 14, 13, 9, 11, 0, 18, 5, 12, 19]\n",
      "LB job3, iteration 8: 1222.0\n",
      "new seq job: 3, iteration 9: [8, 6, 15, 10, 7, 1, 16, 2, 14, 3, 13, 9, 11, 0, 18, 5, 12, 19]\n",
      "LB job3, iteration 9: 1187.0\n",
      "new seq job: 3, iteration 10: [8, 6, 15, 10, 7, 1, 16, 2, 14, 13, 3, 9, 11, 0, 18, 5, 12, 19]\n",
      "LB job3, iteration 10: 1178.0\n",
      "new seq job: 3, iteration 11: [8, 6, 15, 10, 7, 1, 16, 2, 14, 13, 9, 3, 11, 0, 18, 5, 12, 19]\n",
      "LB job3, iteration 11: 1217.0\n",
      "new seq job: 3, iteration 12: [8, 6, 15, 10, 7, 1, 16, 2, 14, 13, 9, 11, 3, 0, 18, 5, 12, 19]\n",
      "LB job3, iteration 12: 1202.0\n",
      "new seq job: 3, iteration 13: [8, 6, 15, 10, 7, 1, 16, 2, 14, 13, 9, 11, 0, 3, 18, 5, 12, 19]\n",
      "LB job3, iteration 13: 1191.0\n",
      "new seq job: 3, iteration 14: [8, 6, 15, 10, 7, 1, 16, 2, 14, 13, 9, 11, 0, 18, 3, 5, 12, 19]\n",
      "LB job3, iteration 14: 1231.0\n",
      "new seq job: 3, iteration 15: [8, 6, 15, 10, 7, 1, 16, 2, 14, 13, 9, 11, 0, 18, 5, 3, 12, 19]\n",
      "LB job3, iteration 15: 1201.0\n",
      "new seq job: 3, iteration 16: [8, 6, 15, 10, 7, 1, 16, 2, 14, 13, 9, 11, 0, 18, 5, 12, 3, 19]\n",
      "LB job3, iteration 16: 1232.0\n",
      "new seq job: 3, iteration 17: [8, 6, 15, 10, 7, 1, 16, 2, 14, 13, 9, 11, 0, 18, 5, 12, 19, 3]\n",
      "LB job3, iteration 17: 1265.0\n",
      "new seq job: 17, iteration 0: [17, 8, 6, 15, 10, 7, 1, 16, 2, 14, 13, 3, 9, 11, 0, 18, 5, 12, 19]\n",
      "LB job17, iteration 0: 1307.0\n",
      "new seq job: 17, iteration 1: [8, 17, 6, 15, 10, 7, 1, 16, 2, 14, 13, 3, 9, 11, 0, 18, 5, 12, 19]\n",
      "LB job17, iteration 1: 1298.0\n",
      "new seq job: 17, iteration 2: [8, 6, 17, 15, 10, 7, 1, 16, 2, 14, 13, 3, 9, 11, 0, 18, 5, 12, 19]\n",
      "LB job17, iteration 2: 1309.0\n",
      "new seq job: 17, iteration 3: [8, 6, 15, 17, 10, 7, 1, 16, 2, 14, 13, 3, 9, 11, 0, 18, 5, 12, 19]\n",
      "LB job17, iteration 3: 1334.0\n",
      "new seq job: 17, iteration 4: [8, 6, 15, 10, 17, 7, 1, 16, 2, 14, 13, 3, 9, 11, 0, 18, 5, 12, 19]\n",
      "LB job17, iteration 4: 1325.0\n",
      "new seq job: 17, iteration 5: [8, 6, 15, 10, 7, 17, 1, 16, 2, 14, 13, 3, 9, 11, 0, 18, 5, 12, 19]\n",
      "LB job17, iteration 5: 1316.0\n",
      "new seq job: 17, iteration 6: [8, 6, 15, 10, 7, 1, 17, 16, 2, 14, 13, 3, 9, 11, 0, 18, 5, 12, 19]\n",
      "LB job17, iteration 6: 1329.0\n",
      "new seq job: 17, iteration 7: [8, 6, 15, 10, 7, 1, 16, 17, 2, 14, 13, 3, 9, 11, 0, 18, 5, 12, 19]\n",
      "LB job17, iteration 7: 1320.0\n",
      "new seq job: 17, iteration 8: [8, 6, 15, 10, 7, 1, 16, 2, 17, 14, 13, 3, 9, 11, 0, 18, 5, 12, 19]\n",
      "LB job17, iteration 8: 1324.0\n",
      "new seq job: 17, iteration 9: [8, 6, 15, 10, 7, 1, 16, 2, 14, 17, 13, 3, 9, 11, 0, 18, 5, 12, 19]\n",
      "LB job17, iteration 9: 1289.0\n",
      "new seq job: 17, iteration 10: [8, 6, 15, 10, 7, 1, 16, 2, 14, 13, 17, 3, 9, 11, 0, 18, 5, 12, 19]\n",
      "LB job17, iteration 10: 1255.0\n",
      "new seq job: 17, iteration 11: [8, 6, 15, 10, 7, 1, 16, 2, 14, 13, 3, 17, 9, 11, 0, 18, 5, 12, 19]\n",
      "LB job17, iteration 11: 1277.0\n",
      "new seq job: 17, iteration 12: [8, 6, 15, 10, 7, 1, 16, 2, 14, 13, 3, 9, 17, 11, 0, 18, 5, 12, 19]\n",
      "LB job17, iteration 12: 1255.0\n",
      "new seq job: 17, iteration 13: [8, 6, 15, 10, 7, 1, 16, 2, 14, 13, 3, 9, 11, 17, 0, 18, 5, 12, 19]\n",
      "LB job17, iteration 13: 1322.0\n",
      "new seq job: 17, iteration 14: [8, 6, 15, 10, 7, 1, 16, 2, 14, 13, 3, 9, 11, 0, 17, 18, 5, 12, 19]\n",
      "LB job17, iteration 14: 1313.0\n",
      "new seq job: 17, iteration 15: [8, 6, 15, 10, 7, 1, 16, 2, 14, 13, 3, 9, 11, 0, 18, 17, 5, 12, 19]\n",
      "LB job17, iteration 15: 1327.0\n",
      "new seq job: 17, iteration 16: [8, 6, 15, 10, 7, 1, 16, 2, 14, 13, 3, 9, 11, 0, 18, 5, 17, 12, 19]\n",
      "LB job17, iteration 16: 1272.0\n",
      "new seq job: 17, iteration 17: [8, 6, 15, 10, 7, 1, 16, 2, 14, 13, 3, 9, 11, 0, 18, 5, 12, 17, 19]\n",
      "LB job17, iteration 17: 1289.0\n",
      "new seq job: 17, iteration 18: [8, 6, 15, 10, 7, 1, 16, 2, 14, 13, 3, 9, 11, 0, 18, 5, 12, 19, 17]\n",
      "LB job17, iteration 18: 1325.0\n",
      "new seq job: 4, iteration 0: [4, 8, 6, 15, 10, 7, 1, 16, 2, 14, 13, 17, 3, 9, 11, 0, 18, 5, 12, 19]\n",
      "LB job4, iteration 0: 1355.0\n",
      "new seq job: 4, iteration 1: [8, 4, 6, 15, 10, 7, 1, 16, 2, 14, 13, 17, 3, 9, 11, 0, 18, 5, 12, 19]\n",
      "LB job4, iteration 1: 1335.0\n",
      "new seq job: 4, iteration 2: [8, 6, 4, 15, 10, 7, 1, 16, 2, 14, 13, 17, 3, 9, 11, 0, 18, 5, 12, 19]\n",
      "LB job4, iteration 2: 1375.0\n",
      "new seq job: 4, iteration 3: [8, 6, 15, 4, 10, 7, 1, 16, 2, 14, 13, 17, 3, 9, 11, 0, 18, 5, 12, 19]\n",
      "LB job4, iteration 3: 1386.0\n",
      "new seq job: 4, iteration 4: [8, 6, 15, 10, 4, 7, 1, 16, 2, 14, 13, 17, 3, 9, 11, 0, 18, 5, 12, 19]\n",
      "LB job4, iteration 4: 1377.0\n",
      "new seq job: 4, iteration 5: [8, 6, 15, 10, 7, 4, 1, 16, 2, 14, 13, 17, 3, 9, 11, 0, 18, 5, 12, 19]\n",
      "LB job4, iteration 5: 1381.0\n",
      "new seq job: 4, iteration 6: [8, 6, 15, 10, 7, 1, 4, 16, 2, 14, 13, 17, 3, 9, 11, 0, 18, 5, 12, 19]\n",
      "LB job4, iteration 6: 1381.0\n",
      "new seq job: 4, iteration 7: [8, 6, 15, 10, 7, 1, 16, 4, 2, 14, 13, 17, 3, 9, 11, 0, 18, 5, 12, 19]\n",
      "LB job4, iteration 7: 1381.0\n",
      "new seq job: 4, iteration 8: [8, 6, 15, 10, 7, 1, 16, 2, 4, 14, 13, 17, 3, 9, 11, 0, 18, 5, 12, 19]\n",
      "LB job4, iteration 8: 1370.0\n",
      "new seq job: 4, iteration 9: [8, 6, 15, 10, 7, 1, 16, 2, 14, 4, 13, 17, 3, 9, 11, 0, 18, 5, 12, 19]\n",
      "LB job4, iteration 9: 1337.0\n",
      "new seq job: 4, iteration 10: [8, 6, 15, 10, 7, 1, 16, 2, 14, 13, 4, 17, 3, 9, 11, 0, 18, 5, 12, 19]\n",
      "LB job4, iteration 10: 1337.0\n",
      "new seq job: 4, iteration 11: [8, 6, 15, 10, 7, 1, 16, 2, 14, 13, 17, 4, 3, 9, 11, 0, 18, 5, 12, 19]\n",
      "LB job4, iteration 11: 1336.0\n",
      "new seq job: 4, iteration 12: [8, 6, 15, 10, 7, 1, 16, 2, 14, 13, 17, 3, 4, 9, 11, 0, 18, 5, 12, 19]\n",
      "LB job4, iteration 12: 1348.0\n",
      "new seq job: 4, iteration 13: [8, 6, 15, 10, 7, 1, 16, 2, 14, 13, 17, 3, 9, 4, 11, 0, 18, 5, 12, 19]\n",
      "LB job4, iteration 13: 1340.0\n",
      "new seq job: 4, iteration 14: [8, 6, 15, 10, 7, 1, 16, 2, 14, 13, 17, 3, 9, 11, 4, 0, 18, 5, 12, 19]\n",
      "LB job4, iteration 14: 1384.0\n",
      "new seq job: 4, iteration 15: [8, 6, 15, 10, 7, 1, 16, 2, 14, 13, 17, 3, 9, 11, 0, 4, 18, 5, 12, 19]\n",
      "LB job4, iteration 15: 1384.0\n",
      "new seq job: 4, iteration 16: [8, 6, 15, 10, 7, 1, 16, 2, 14, 13, 17, 3, 9, 11, 0, 18, 4, 5, 12, 19]\n",
      "LB job4, iteration 16: 1389.0\n",
      "new seq job: 4, iteration 17: [8, 6, 15, 10, 7, 1, 16, 2, 14, 13, 17, 3, 9, 11, 0, 18, 5, 4, 12, 19]\n",
      "LB job4, iteration 17: 1334.0\n",
      "new seq job: 4, iteration 18: [8, 6, 15, 10, 7, 1, 16, 2, 14, 13, 17, 3, 9, 11, 0, 18, 5, 12, 4, 19]\n",
      "LB job4, iteration 18: 1390.0\n",
      "new seq job: 4, iteration 19: [8, 6, 15, 10, 7, 1, 16, 2, 14, 13, 17, 3, 9, 11, 0, 18, 5, 12, 19, 4]\n",
      "LB job4, iteration 19: 1432.0\n"
     ]
    }
   ],
   "source": [
    "from utils_2 import NEH\n",
    "\n",
    "solution_neh, _ = NEH(instances[0][2])"
   ]
  },
  {
   "cell_type": "code",
   "execution_count": 17,
   "metadata": {
    "ExecuteTime": {
     "end_time": "2024-02-28T02:38:32.354297100Z",
     "start_time": "2024-02-28T02:38:32.301068900Z"
    }
   },
   "outputs": [],
   "source": [
    "solver = FlowShopBranchBoundSolver()\n",
    "solver.consider_instance(instances[0][2])\n",
    "solver.solve(solution_neh)\n",
    "makspan = solver.compute_lower_bound(solver.intial_solution)\n",
    "\n",
    "print(\"makspan :\",makspan)\n",
    "print(\"Solution :\", solution)"
   ]
  },
  {
   "cell_type": "markdown",
   "metadata": {},
   "source": [
    "### Ploting of gantt of the results"
   ]
  },
  {
   "cell_type": "code",
   "execution_count": null,
   "metadata": {
    "ExecuteTime": {
     "end_time": "2024-02-28T02:38:32.722086Z",
     "start_time": "2024-02-28T02:38:32.314321300Z"
    }
   },
   "outputs": [],
   "source": [
    "solver.generate_gantt_chart(solution)"
   ]
  },
  {
   "cell_type": "code",
   "execution_count": null,
   "metadata": {
    "ExecuteTime": {
     "end_time": "2024-02-28T02:38:32.877133300Z",
     "start_time": "2024-02-28T02:38:32.724084400Z"
    }
   },
   "outputs": [],
   "source": []
  },
  {
   "cell_type": "code",
   "execution_count": null,
   "metadata": {
    "ExecuteTime": {
     "end_time": "2024-02-28T02:38:32.878131500Z",
     "start_time": "2024-02-28T02:38:32.740554400Z"
    }
   },
   "outputs": [],
   "source": []
  },
  {
   "cell_type": "code",
   "execution_count": null,
   "metadata": {
    "ExecuteTime": {
     "end_time": "2024-02-28T02:38:32.878131500Z",
     "start_time": "2024-02-28T02:38:32.756541400Z"
    }
   },
   "outputs": [],
   "source": []
  }
 ],
 "metadata": {
  "kernelspec": {
   "display_name": "base",
   "language": "python",
   "name": "python3"
  },
  "language_info": {
   "codemirror_mode": {
    "name": "ipython",
    "version": 3
   },
   "file_extension": ".py",
   "mimetype": "text/x-python",
   "name": "python",
   "nbconvert_exporter": "python",
   "pygments_lexer": "ipython3",
   "version": "3.11.5"
  }
 },
 "nbformat": 4,
 "nbformat_minor": 2
}
