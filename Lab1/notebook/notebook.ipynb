{
 "cells": [
  {
   "cell_type": "code",
   "execution_count": 21,
   "metadata": {},
   "outputs": [],
   "source": [
    "import pandas as pd\n",
    "import numpy as np"
   ]
  },
  {
   "cell_type": "code",
   "execution_count": 22,
   "metadata": {},
   "outputs": [],
   "source": [
    "from utils_branch_bound import read_flow_shop_data"
   ]
  },
  {
   "cell_type": "code",
   "execution_count": 23,
   "metadata": {},
   "outputs": [],
   "source": [
    "instances = read_flow_shop_data('./../data/tai20_5.txt', 5, 20)"
   ]
  },
  {
   "cell_type": "code",
   "execution_count": 24,
   "metadata": {},
   "outputs": [
    {
     "data": {
      "text/plain": [
       "[(5,\n",
       "  20,\n",
       "  array([[54, 83, 15, 71, 77, 36, 53, 38, 27, 87, 76, 91, 14, 29, 12, 77,\n",
       "          32, 87, 68, 94],\n",
       "         [79,  3, 11, 99, 56, 70, 99, 60,  5, 56,  3, 61, 73, 75, 47, 14,\n",
       "          21, 86,  5, 77],\n",
       "         [16, 89, 49, 15, 89, 45, 60, 23, 57, 64,  7,  1, 63, 41, 63, 47,\n",
       "          26, 75, 77, 40],\n",
       "         [66, 58, 31, 68, 78, 91, 13, 59, 49, 85, 85,  9, 39, 41, 56, 40,\n",
       "          54, 77, 51, 31],\n",
       "         [58, 56, 20, 85, 53, 35, 53, 41, 69, 13, 86, 72,  8, 49, 47, 87,\n",
       "          58, 18, 68, 28]])),\n",
       " (5,\n",
       "  20,\n",
       "  array([[26, 38, 27, 88, 95, 55, 54, 63, 23, 45, 86, 43, 43, 40, 37, 54,\n",
       "          35, 59, 43, 50],\n",
       "         [59, 62, 44, 10, 23, 64, 47, 68, 54,  9, 30, 31, 92,  7, 14, 95,\n",
       "          76, 82, 91, 37],\n",
       "         [78, 90, 64, 49, 47, 20, 61, 93, 36, 47, 70, 54, 87, 13, 40, 34,\n",
       "          55, 13, 11,  5],\n",
       "         [88, 54, 47, 83, 84,  9, 30, 11, 92, 63, 62, 75, 48, 23, 85, 23,\n",
       "           4, 31, 13, 98],\n",
       "         [69, 30, 61, 35, 53, 98, 94, 33, 77, 31, 54, 71, 78,  9, 79, 51,\n",
       "          76, 56, 80, 72]])),\n",
       " (5,\n",
       "  20,\n",
       "  array([[77, 94,  9, 57, 29, 79, 55, 73, 65, 86, 25, 39, 76, 24, 38,  5,\n",
       "          91, 29, 22, 27],\n",
       "         [39, 31, 46, 18, 93, 58, 85, 58, 97, 10, 79, 93,  2, 87, 17, 18,\n",
       "          10, 50,  8, 26],\n",
       "         [14, 21, 15, 10, 85, 46, 42, 18, 36,  2, 44, 89,  6,  3,  1, 43,\n",
       "          81, 57, 76, 59],\n",
       "         [11,  2, 36, 30, 89, 10, 88, 22, 31,  9, 43, 91, 26,  3, 75, 99,\n",
       "          63, 83, 70, 84],\n",
       "         [83, 13, 84, 46, 20, 33, 74, 42, 33, 71, 32, 48, 42, 99,  7, 54,\n",
       "           8, 73, 30, 75]])),\n",
       " (5,\n",
       "  20,\n",
       "  array([[53, 19, 99, 62, 88, 93, 34, 72, 42, 65, 39, 79,  9, 26, 72, 29,\n",
       "          36, 48, 57, 95],\n",
       "         [93, 79, 88, 77, 94, 39, 74, 46, 17, 30, 62, 77, 43, 98, 48, 14,\n",
       "          45, 25, 98, 30],\n",
       "         [90, 92, 35, 13, 75, 55, 80, 67,  3, 93, 54, 67, 25, 77, 38, 98,\n",
       "          96, 20, 15, 36],\n",
       "         [65, 97, 27, 25, 61, 24, 97, 61, 75, 92, 73, 21, 29,  3, 96, 51,\n",
       "          26, 44, 56, 31],\n",
       "         [64, 38, 44, 46, 66, 31, 48, 27, 82, 51, 90, 63, 85, 36, 69, 67,\n",
       "          81, 18, 81, 72]])),\n",
       " (5,\n",
       "  20,\n",
       "  array([[61, 86, 16, 42, 14, 92, 67, 77, 46, 41, 78,  3, 72, 95, 53, 59,\n",
       "          34, 66, 42, 63],\n",
       "         [27, 92,  8, 65, 34,  6, 42, 39,  2,  7, 85, 32, 14, 74, 59, 95,\n",
       "          48, 37, 59,  4],\n",
       "         [42, 93, 32, 30, 16, 95, 58, 12, 95, 21, 74, 38,  4, 31, 62, 39,\n",
       "          97, 57,  9, 54],\n",
       "         [13, 47,  6, 70, 19, 97, 41,  1, 57, 60, 62, 14, 90, 76, 12, 89,\n",
       "          37, 35, 91, 69],\n",
       "         [55, 48, 56, 84, 22, 51, 43, 50, 62, 61, 10, 87, 99, 40, 91, 64,\n",
       "          62, 53, 33, 16]])),\n",
       " (5,\n",
       "  20,\n",
       "  array([[71, 27, 55, 90, 11, 18, 42, 64, 73, 95, 22, 53, 32,  5, 94, 12,\n",
       "          41, 85, 75, 38],\n",
       "         [13, 11, 73, 43, 27, 33, 57, 42, 71,  3, 11, 49,  8,  3, 47, 58,\n",
       "          23, 79, 99, 23],\n",
       "         [61, 25, 52, 72, 89, 75, 60, 28, 94, 95, 18, 73, 40, 61, 68, 75,\n",
       "          37, 13, 65,  7],\n",
       "         [21,  8,  5,  8, 58, 59, 85, 35, 84, 97, 93, 60, 99, 29, 94, 41,\n",
       "          51, 87, 97, 11],\n",
       "         [91, 13,  7, 95, 20, 69, 45, 44, 29, 32, 94, 84, 60, 49, 49, 65,\n",
       "          85, 52,  8, 58]])),\n",
       " (5,\n",
       "  20,\n",
       "  array([[15, 64, 64, 48,  9, 91, 27, 34, 42,  3, 11, 54, 27, 30,  9, 15,\n",
       "          88, 55, 50, 57],\n",
       "         [28,  4, 43, 93,  1, 81, 77, 69, 52, 28, 28, 77, 42, 53, 46, 49,\n",
       "          15, 43, 65, 41],\n",
       "         [77, 36, 57, 15, 81, 82, 98, 97, 12, 35, 84, 70, 27, 37, 59, 42,\n",
       "          57, 16, 11, 34],\n",
       "         [ 1, 59, 95, 49, 90, 78,  3, 69, 99, 41, 73, 28, 99, 13, 59, 47,\n",
       "           8, 92, 87, 62],\n",
       "         [45, 73, 59, 63, 54, 98, 39, 75, 33,  8, 86, 41, 41, 22, 43, 34,\n",
       "          80, 16, 37, 94]])),\n",
       " (5,\n",
       "  20,\n",
       "  array([[34, 20, 57, 47, 62, 40, 74, 94,  9, 62, 86, 13, 78, 46, 83, 52,\n",
       "          13, 70, 40, 60],\n",
       "         [ 5, 48, 80, 43, 34,  2, 87, 68, 28, 84, 30, 35, 42, 39, 85, 34,\n",
       "          36,  9, 96, 84],\n",
       "         [86, 35,  5, 93, 74, 12, 40, 95, 80,  6, 92, 14, 83, 49, 36, 38,\n",
       "          43, 89, 94, 33],\n",
       "         [28, 39, 55, 21, 25, 88, 59, 40, 90, 18, 33, 10, 59, 92, 15, 77,\n",
       "          31, 85, 85, 99],\n",
       "         [ 8, 91, 45, 55, 75, 18, 59, 86, 45, 89, 11, 54, 38, 41, 64, 98,\n",
       "          83, 36, 61, 19]])),\n",
       " (5,\n",
       "  20,\n",
       "  array([[37, 36,  1,  4, 64, 74, 32, 67, 73,  7, 78, 64, 98, 60, 89, 49,\n",
       "           2, 79, 79, 53],\n",
       "         [59, 16, 90,  3, 76, 74, 22, 30, 89, 61, 39, 15, 69, 57,  9, 13,\n",
       "          71,  2, 34, 49],\n",
       "         [65, 94, 96, 47, 35, 34, 84,  3, 60, 34, 70, 57,  8, 74, 13, 37,\n",
       "          87, 71, 89, 57],\n",
       "         [70,  3, 43, 14, 26, 83, 26, 65, 47, 94, 75, 30,  1, 71, 46, 87,\n",
       "          78, 76, 75, 55],\n",
       "         [94, 98, 63, 83, 19, 79, 54, 78, 29,  8, 38, 97, 61, 10, 37, 16,\n",
       "          78, 96,  9, 91]])),\n",
       " (5,\n",
       "  20,\n",
       "  array([[27, 92, 75, 94, 18, 41, 37, 58, 56, 20,  2, 39, 91, 81, 33, 14,\n",
       "          88, 22, 36, 65],\n",
       "         [79, 23, 66,  5, 15, 51,  2, 81, 12, 40, 59, 32, 16, 87, 78, 41,\n",
       "          43, 94,  1, 93],\n",
       "         [22, 93, 62, 53, 30, 34, 27, 30, 54, 77, 24, 47, 39, 66, 41, 46,\n",
       "          24, 23, 68, 50],\n",
       "         [93, 22, 64, 81, 94, 97, 54, 82, 11, 91, 23, 32, 26, 22, 12, 23,\n",
       "          34, 87, 59,  2],\n",
       "         [38, 84, 62, 10, 11, 93, 57, 81, 10, 40, 62, 49, 90, 34, 11, 81,\n",
       "          51, 21, 39, 27]]))]"
      ]
     },
     "execution_count": 24,
     "metadata": {},
     "output_type": "execute_result"
    }
   ],
   "source": [
    "instances"
   ]
  },
  {
   "cell_type": "code",
   "execution_count": 25,
   "metadata": {},
   "outputs": [],
   "source": [
    "instance_test =  '''\\\n",
    "20 5 873654221 1278 1232\n",
    "54 83 15 71 77\n",
    "79  3 11 99 56\n",
    "16 89 49 15 89\n",
    "'''\n",
    "import numpy as np\n",
    "instance_array = np.array([\n",
    "    [54, 83, 15, 71, 77],\n",
    "    [79, 3, 11, 99, 56],\n",
    "    [16, 89, 49, 15, 89]\n",
    "])"
   ]
  },
  {
   "cell_type": "code",
   "execution_count": 26,
   "metadata": {
    "ExecuteTime": {
     "end_time": "2024-02-27T14:37:19.595041400Z",
     "start_time": "2024-02-27T14:37:19.566059200Z"
    },
    "collapsed": false
   },
   "outputs": [],
   "source": [
    "from utils_branch_bound import FlowShopBranchBoundSolver"
   ]
  },
  {
   "cell_type": "code",
   "execution_count": 27,
   "metadata": {},
   "outputs": [],
   "source": [
    "# solver = FlowShopBranchBoundSolver()\n",
    "\n",
    "# solver.consider_instance(instance_array)\n",
    "\n",
    "# solver.solve(list(range(5)))\n",
    "# solver.compute_lower_bound(list(range(5)))"
   ]
  },
  {
   "cell_type": "code",
   "execution_count": 28,
   "metadata": {},
   "outputs": [],
   "source": [
    "solver = FlowShopBranchBoundSolver()\n",
    "\n",
    "\n",
    "# solver.consider_instance(instances[0][2][:2,:8])\n",
    "\n",
    "\n",
    "# solver.solve(list(range(8)))\n",
    "\n",
    "# # print(solver.intial_solution)"
   ]
  },
  {
   "cell_type": "code",
   "execution_count": 29,
   "metadata": {},
   "outputs": [],
   "source": [
    "# print(solver.intial_solution)\n",
    "# solver.bound"
   ]
  },
  {
   "cell_type": "code",
   "execution_count": 30,
   "metadata": {},
   "outputs": [],
   "source": [
    "\n",
    "import itertools\n",
    "def all_permutations(iterable):\n",
    "    permutations = list(itertools.permutations(iterable))\n",
    "    permutations_as_lists = [list(p) for p in permutations]\n",
    "    return permutations_as_lists\n"
   ]
  },
  {
   "cell_type": "code",
   "execution_count": 31,
   "metadata": {},
   "outputs": [
    {
     "name": "stdout",
     "output_type": "stream",
     "text": [
      "[[0, 1, 2, 3, 4], [0, 1, 2, 4, 3], [0, 1, 3, 2, 4], [0, 1, 3, 4, 2], [0, 1, 4, 2, 3], [0, 1, 4, 3, 2], [0, 2, 1, 3, 4], [0, 2, 1, 4, 3], [0, 2, 3, 1, 4], [0, 2, 3, 4, 1], [0, 2, 4, 1, 3], [0, 2, 4, 3, 1], [0, 3, 1, 2, 4], [0, 3, 1, 4, 2], [0, 3, 2, 1, 4], [0, 3, 2, 4, 1], [0, 3, 4, 1, 2], [0, 3, 4, 2, 1], [0, 4, 1, 2, 3], [0, 4, 1, 3, 2], [0, 4, 2, 1, 3], [0, 4, 2, 3, 1], [0, 4, 3, 1, 2], [0, 4, 3, 2, 1], [1, 0, 2, 3, 4], [1, 0, 2, 4, 3], [1, 0, 3, 2, 4], [1, 0, 3, 4, 2], [1, 0, 4, 2, 3], [1, 0, 4, 3, 2], [1, 2, 0, 3, 4], [1, 2, 0, 4, 3], [1, 2, 3, 0, 4], [1, 2, 3, 4, 0], [1, 2, 4, 0, 3], [1, 2, 4, 3, 0], [1, 3, 0, 2, 4], [1, 3, 0, 4, 2], [1, 3, 2, 0, 4], [1, 3, 2, 4, 0], [1, 3, 4, 0, 2], [1, 3, 4, 2, 0], [1, 4, 0, 2, 3], [1, 4, 0, 3, 2], [1, 4, 2, 0, 3], [1, 4, 2, 3, 0], [1, 4, 3, 0, 2], [1, 4, 3, 2, 0], [2, 0, 1, 3, 4], [2, 0, 1, 4, 3], [2, 0, 3, 1, 4], [2, 0, 3, 4, 1], [2, 0, 4, 1, 3], [2, 0, 4, 3, 1], [2, 1, 0, 3, 4], [2, 1, 0, 4, 3], [2, 1, 3, 0, 4], [2, 1, 3, 4, 0], [2, 1, 4, 0, 3], [2, 1, 4, 3, 0], [2, 3, 0, 1, 4], [2, 3, 0, 4, 1], [2, 3, 1, 0, 4], [2, 3, 1, 4, 0], [2, 3, 4, 0, 1], [2, 3, 4, 1, 0], [2, 4, 0, 1, 3], [2, 4, 0, 3, 1], [2, 4, 1, 0, 3], [2, 4, 1, 3, 0], [2, 4, 3, 0, 1], [2, 4, 3, 1, 0], [3, 0, 1, 2, 4], [3, 0, 1, 4, 2], [3, 0, 2, 1, 4], [3, 0, 2, 4, 1], [3, 0, 4, 1, 2], [3, 0, 4, 2, 1], [3, 1, 0, 2, 4], [3, 1, 0, 4, 2], [3, 1, 2, 0, 4], [3, 1, 2, 4, 0], [3, 1, 4, 0, 2], [3, 1, 4, 2, 0], [3, 2, 0, 1, 4], [3, 2, 0, 4, 1], [3, 2, 1, 0, 4], [3, 2, 1, 4, 0], [3, 2, 4, 0, 1], [3, 2, 4, 1, 0], [3, 4, 0, 1, 2], [3, 4, 0, 2, 1], [3, 4, 1, 0, 2], [3, 4, 1, 2, 0], [3, 4, 2, 0, 1], [3, 4, 2, 1, 0], [4, 0, 1, 2, 3], [4, 0, 1, 3, 2], [4, 0, 2, 1, 3], [4, 0, 2, 3, 1], [4, 0, 3, 1, 2], [4, 0, 3, 2, 1], [4, 1, 0, 2, 3], [4, 1, 0, 3, 2], [4, 1, 2, 0, 3], [4, 1, 2, 3, 0], [4, 1, 3, 0, 2], [4, 1, 3, 2, 0], [4, 2, 0, 1, 3], [4, 2, 0, 3, 1], [4, 2, 1, 0, 3], [4, 2, 1, 3, 0], [4, 2, 3, 0, 1], [4, 2, 3, 1, 0], [4, 3, 0, 1, 2], [4, 3, 0, 2, 1], [4, 3, 1, 0, 2], [4, 3, 1, 2, 0], [4, 3, 2, 0, 1], [4, 3, 2, 1, 0]]\n"
     ]
    }
   ],
   "source": [
    "all_p = all_permutations(list(range(5)))\n",
    "print(all_p)"
   ]
  },
  {
   "cell_type": "code",
   "execution_count": 33,
   "metadata": {},
   "outputs": [
    {
     "ename": "AttributeError",
     "evalue": "'NoneType' object has no attribute 'shape'",
     "output_type": "error",
     "traceback": [
      "\u001b[1;31m---------------------------------------------------------------------------\u001b[0m",
      "\u001b[1;31mAttributeError\u001b[0m                            Traceback (most recent call last)",
      "Cell \u001b[1;32mIn[33], line 4\u001b[0m\n\u001b[0;32m      2\u001b[0m mini \u001b[38;5;241m=\u001b[39m math\u001b[38;5;241m.\u001b[39minf\n\u001b[0;32m      3\u001b[0m \u001b[38;5;28;01mfor\u001b[39;00m i \u001b[38;5;129;01min\u001b[39;00m all_p:\n\u001b[1;32m----> 4\u001b[0m     gg \u001b[38;5;241m=\u001b[39m \u001b[43msolver\u001b[49m\u001b[38;5;241;43m.\u001b[39;49m\u001b[43mcompute_lower_bound\u001b[49m\u001b[43m(\u001b[49m\u001b[43mi\u001b[49m\u001b[43m)\u001b[49m\n\u001b[0;32m      5\u001b[0m     \u001b[38;5;28;01mif\u001b[39;00m gg \u001b[38;5;241m<\u001b[39m mini:\n\u001b[0;32m      6\u001b[0m         mini \u001b[38;5;241m=\u001b[39m gg\n",
      "File \u001b[1;32mc:\\Users\\INES\\Documents\\2CS_SID\\S2\\TOIA\\FSP propre\\toia\\Lab1\\notebook\\utils_branch_bound.py:91\u001b[0m, in \u001b[0;36mFlowShopBranchBoundSolver.compute_lower_bound\u001b[1;34m(self, partial_path)\u001b[0m\n\u001b[0;32m     84\u001b[0m \u001b[38;5;28;01mdef\u001b[39;00m \u001b[38;5;21mcompute_lower_bound\u001b[39m(\u001b[38;5;28mself\u001b[39m, partial_path):\n\u001b[0;32m     85\u001b[0m     \n\u001b[0;32m     86\u001b[0m     \u001b[38;5;66;03m# print(\"called function with partial path : \", partial_path)\u001b[39;00m\n\u001b[0;32m     87\u001b[0m     \u001b[38;5;66;03m# compute the value of the lower bound from the instance matrix\u001b[39;00m\n\u001b[0;32m     88\u001b[0m     \u001b[38;5;66;03m# there is a ready formula that we can use directly\u001b[39;00m\n\u001b[0;32m     90\u001b[0m     nb_jobs \u001b[38;5;241m=\u001b[39m \u001b[38;5;28mlen\u001b[39m(partial_path)\n\u001b[1;32m---> 91\u001b[0m     nb_machines \u001b[38;5;241m=\u001b[39m \u001b[38;5;28;43mself\u001b[39;49m\u001b[38;5;241;43m.\u001b[39;49m\u001b[43mcurrent_instance\u001b[49m\u001b[38;5;241;43m.\u001b[39;49m\u001b[43mshape\u001b[49m[\u001b[38;5;241m0\u001b[39m]        \n\u001b[0;32m     93\u001b[0m     incremental_cost \u001b[38;5;241m=\u001b[39m np\u001b[38;5;241m.\u001b[39mzeros((nb_machines, nb_jobs))\n\u001b[0;32m     98\u001b[0m     \u001b[38;5;66;03m# evaluate the first machines\u001b[39;00m\n",
      "\u001b[1;31mAttributeError\u001b[0m: 'NoneType' object has no attribute 'shape'"
     ]
    }
   ],
   "source": [
    "import math\n",
    "mini = math.inf\n",
    "for i in all_p:\n",
    "    gg = solver.compute_lower_bound(i)\n",
    "    if gg < mini:\n",
    "        mini = gg"
   ]
  },
  {
   "cell_type": "code",
   "execution_count": null,
   "metadata": {},
   "outputs": [
    {
     "name": "stdout",
     "output_type": "stream",
     "text": [
      "306.0\n"
     ]
    }
   ],
   "source": [
    "print(mini)\n"
   ]
  },
  {
   "cell_type": "code",
   "execution_count": null,
   "metadata": {},
   "outputs": [],
   "source": [
    "\n",
    "def johnson_method(processing_times):\n",
    "    jobs, machines = processing_times.shape\n",
    "    copy_processing_times = processing_times.copy()\n",
    "    maximum = processing_times.max() + 1\n",
    "    m1 = []\n",
    "    m2 = []\n",
    "    \n",
    "    if machines != 2:\n",
    "        raise Exception(\"Johson method only works with two machines\")\n",
    "        \n",
    "    for i in range(jobs):\n",
    "        minimum = copy_processing_times.min()\n",
    "        position = np.where(copy_processing_times == minimum)\n",
    "        \n",
    "        if position[1][0] == 0:\n",
    "            m1.append(position[0][0])\n",
    "        else:\n",
    "            m2.insert(0, position[0][0])\n",
    "        \n",
    "        copy_processing_times[position[0][0]] = maximum\n",
    "        \n",
    "    return m1+m2"
   ]
  },
  {
   "cell_type": "code",
   "execution_count": null,
   "metadata": {},
   "outputs": [
    {
     "ename": "NameError",
     "evalue": "name 'johnson_method' is not defined",
     "output_type": "error",
     "traceback": [
      "\u001b[1;31m---------------------------------------------------------------------------\u001b[0m",
      "\u001b[1;31mNameError\u001b[0m                                 Traceback (most recent call last)",
      "Cell \u001b[1;32mIn[17], line 1\u001b[0m\n\u001b[1;32m----> 1\u001b[0m solution \u001b[38;5;241m=\u001b[39m \u001b[43mjohnson_method\u001b[49m(instances[\u001b[38;5;241m0\u001b[39m][\u001b[38;5;241m2\u001b[39m][:\u001b[38;5;241m2\u001b[39m, :\u001b[38;5;241m8\u001b[39m]\u001b[38;5;241m.\u001b[39mT)\n\u001b[0;32m      2\u001b[0m solver\u001b[38;5;241m.\u001b[39mcompute_lower_bound(solution)\n",
      "\u001b[1;31mNameError\u001b[0m: name 'johnson_method' is not defined"
     ]
    }
   ],
   "source": [
    "# solution = johnson_method(instances[0][2][:2, :8].T)\n",
    "# solver.compute_lower_bound(solution)"
   ]
  },
  {
   "cell_type": "code",
   "execution_count": null,
   "metadata": {},
   "outputs": [
    {
     "data": {
      "text/plain": [
       "[5, 7, 6, 0, 3, 4, 2, 1]"
      ]
     },
     "execution_count": 8,
     "metadata": {},
     "output_type": "execute_result"
    }
   ],
   "source": [
    "solver = FlowShopBranchBoundSolver()\n",
    "solver.consider_instance(instances[0][2][:2,:8])\n",
    "solver.johnson_method()"
   ]
  },
  {
   "cell_type": "code",
   "execution_count": 34,
   "metadata": {},
   "outputs": [
    {
     "name": "stdout",
     "output_type": "stream",
     "text": [
      "Optimal Solution: [5, 0, 2, 3, 4, 6, 1, 7]\n",
      "Optimal Cost: 526.0\n"
     ]
    },
    {
     "name": "stderr",
     "output_type": "stream",
     "text": [
      "c:\\Users\\INES\\Documents\\2CS_SID\\S2\\TOIA\\FSP propre\\toia\\Lab1\\notebook\\utils_branch_bound.py:197: FutureWarning: The behavior of DataFrame concatenation with empty or all-NA entries is deprecated. In a future version, this will no longer exclude empty or all-NA columns when determining the result dtypes. To retain the old behavior, exclude the relevant entries before the concat operation.\n",
      "  df = pd.concat([df, pd.DataFrame({'Machine': f'Machine {machine_index + 1}',\n"
     ]
    },
    {
     "data": {
      "image/png": "[encoded data removed]",
      "text/plain": [
       "<Figure size 640x480 with 1 Axes>"
      ]
     },
     "metadata": {},
     "output_type": "display_data"
    }
   ],
   "source": [
    "solver = FlowShopBranchBoundSolver()\n",
    "solver.consider_instance(instances[0][2][:2,:8])\n",
    "solver.solve()"
   ]
  },
  {
   "cell_type": "code",
   "execution_count": null,
   "metadata": {},
   "outputs": [],
   "source": []
  }
 ],
 "metadata": {
  "kernelspec": {
   "display_name": "base",
   "language": "python",
   "name": "python3"
  },
  "language_info": {
   "codemirror_mode": {
    "name": "ipython",
    "version": 3
   },
   "file_extension": ".py",
   "mimetype": "text/x-python",
   "name": "python",
   "nbconvert_exporter": "python",
   "pygments_lexer": "ipython3",
   "version": "3.12.0"
  }
 },
 "nbformat": 4,
 "nbformat_minor": 2
}
