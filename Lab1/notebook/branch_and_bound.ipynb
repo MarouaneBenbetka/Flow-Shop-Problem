{
 "cells": [
  {
   "cell_type": "markdown",
   "id": "23a51b08",
   "metadata": {},
   "source": [
    "# <center>Welcome in Branch and Bound Applied to FSP</center>"
   ]
  },
  {
   "cell_type": "code",
   "execution_count": 85,
   "id": "a14487ae",
   "metadata": {},
   "outputs": [],
   "source": [
    "import numpy as np\n",
    "import itertools\n",
    "import time\n",
    "import math\n",
    "import pandas as pd\n",
    "import matplotlib.pyplot as plt"
   ]
  },
  {
   "cell_type": "markdown",
   "id": "1971ea12",
   "metadata": {},
   "source": [
    "## Packages importing & data loading"
   ]
  },
  {
   "cell_type": "code",
   "execution_count": 86,
   "id": "1b76ae19",
   "metadata": {},
   "outputs": [],
   "source": [
    "'''\n",
    "Reading the data from the benchmark file\n",
    "'''\n",
    "\n",
    "def read_flow_shop_data(file_path, machine_count, job_count):\n",
    "    instances = []\n",
    "    with open(file_path) as p:\n",
    "        lines = p.readlines()\n",
    "        line_count = len(lines)\n",
    "\n",
    "        instance_count = line_count // (machine_count + 3)\n",
    "\n",
    "        for i in range(instance_count):\n",
    "            # recover the data of each instance\n",
    "            params_line = lines[i * (machine_count + 3) + 1]\n",
    "            job_count, machine_count, initial_seed, upper_bound, lower_bound = list(\n",
    "                map(lambda x: int(x), params_line.split()))\n",
    "\n",
    "            # processing_times = [list(map(int, lines[i * (machine_count + 3) + 3])) for line in lines]\n",
    "            processing_times = np.array([list(map(lambda x: int(x), line.strip().split())) for\n",
    "                                         line in lines[\n",
    "                                                 i * (machine_count + 3) + 3:  # start\n",
    "                                                 i * (machine_count + 3) + 3 + machine_count  # end\n",
    "                                                 ]\n",
    "                                         ])\n",
    "\n",
    "            record = (machine_count, job_count, processing_times)\n",
    "            instances.append(record)\n",
    "\n",
    "    return instances\n",
    "\n"
   ]
  },
  {
   "cell_type": "markdown",
   "id": "553e3a0d",
   "metadata": {},
   "source": [
    "## Gantt graph generator"
   ]
  },
  {
   "cell_type": "code",
   "execution_count": 87,
   "id": "e273ab6d",
   "metadata": {},
   "outputs": [],
   "source": [
    "def generate_gantt_chart(current_instance, solution):\n",
    "    plt.figure(figsize=(20, 12))\n",
    "    df = pd.DataFrame(columns=['Machine', 'Job', 'Start', 'Finish'])\n",
    "\n",
    "    machines, jobs = current_instance.shape\n",
    "    machine_times = np.zeros((machines, jobs))\n",
    "    start_time_m = np.zeros(machines)\n",
    "    for job in solution:\n",
    "\n",
    "        for machine_index in range(machines):\n",
    "            start_time = start_time_m[machine_index]\n",
    "            if machine_index > 0:\n",
    "                start_time = max(start_time, start_time_m[machine_index-1])\n",
    "            end_time = start_time + \\\n",
    "                current_instance[machine_index, job]\n",
    "            start_time_m[machine_index] = end_time\n",
    "\n",
    "            df = pd.concat([df, pd.DataFrame({'Machine': f'Machine {machine_index + 1}',\n",
    "                                                'Job': f'Job {job + 1}',\n",
    "                                                'Start': start_time,\n",
    "                                                'Finish': end_time}, index=[0])], ignore_index=True)\n",
    "\n",
    "            machine_times[machine_index, job] = end_time\n",
    "\n",
    "    colors = plt.cm.tab10.colors\n",
    "    for i, machine_index in enumerate(range(machines)):\n",
    "        machine_df = df[df['Machine'] == f'Machine {machine_index + 1}']\n",
    "        plt.broken_barh([(start, end - start) for start, end in zip(machine_df['Start'], machine_df['Finish'])],\n",
    "                        (i * 10, 9), facecolors=[colors[j % 10] for j in range(jobs)], edgecolor='black')\n",
    "\n",
    "    plt.xlabel('Time')\n",
    "    plt.yticks([i * 10 + 4.5 for i in range(machines)],\n",
    "                [f'Machine {i + 1}' for i in range(machines)])\n",
    "    plt.show()"
   ]
  },
  {
   "cell_type": "markdown",
   "id": "05ae7c5a",
   "metadata": {},
   "source": [
    "## Branch and Bound Implementation\n"
   ]
  },
  {
   "cell_type": "markdown",
   "id": "c2934c51",
   "metadata": {},
   "source": [
    "### Path Cost calculation function :\n",
    "used to calculate the cost of current node, which is the correct cost starting for the actual path of executed jobs"
   ]
  },
  {
   "cell_type": "code",
   "execution_count": 88,
   "id": "b5df5bbf",
   "metadata": {},
   "outputs": [],
   "source": [
    "def incremental_cost(machine_job_matrix, jobs_sequence):\n",
    "    nb_jobs = len(jobs_sequence)\n",
    "    nb_machines = machine_job_matrix.shape[0]\n",
    "\n",
    "    incremental_cost = np.zeros((nb_machines, nb_jobs))\n",
    "\n",
    "    # evaluate the first machines\n",
    "    incremental_cost[0, 0] = machine_job_matrix[0][jobs_sequence[0]]\n",
    "\n",
    "    for i in range(1, nb_jobs):\n",
    "        incremental_cost[0][i] = incremental_cost[0][i - 1] + \\\n",
    "            machine_job_matrix[0][jobs_sequence[i]]\n",
    "\n",
    "    # evaluate the rest of machines\n",
    "    for i in range(1, nb_machines):\n",
    "        incremental_cost[i, 0] = incremental_cost[i - 1, 0] + \\\n",
    "            machine_job_matrix[i, jobs_sequence[0]]\n",
    "        for j in range(1, nb_jobs):\n",
    "            incremental_cost[i, j] = machine_job_matrix[i, jobs_sequence[j]] + \\\n",
    "                max(incremental_cost[i - 1, j], incremental_cost[i, j - 1])\n",
    "    return incremental_cost.T"
   ]
  },
  {
   "cell_type": "markdown",
   "id": "d963e1a5",
   "metadata": {},
   "source": [
    "### Remaining jobs evaluation \n",
    "Used in order to evaluate the predicted cost of the current path's remaining jobs, when combined with the correct cost of the actual path, we will have a value with which we can impure a explore another branch"
   ]
  },
  {
   "cell_type": "code",
   "execution_count": 89,
   "id": "bf4ec211",
   "metadata": {},
   "outputs": [],
   "source": [
    "def evaluate_sequence(sequence, processing_times):\n",
    "\n",
    "    machine_job_matrix = processing_times\n",
    "    jobs_squence = sequence\n",
    "\n",
    "    num_jobs, num_machines = machine_job_matrix.shape\n",
    "    unhandeled_job = [  job for job  in range(num_jobs) if job not in jobs_squence]\n",
    "    if not unhandeled_job : \n",
    "        return incremental_cost(machine_job_matrix.T, jobs_squence)[-1,-1]\n",
    "\n",
    "    LBt = max(np.sum(machine_job_matrix, axis=0))\n",
    "    LB1 = np.sum(machine_job_matrix[:, 0]) + min(np.sum(machine_job_matrix[unhandeled_job][:,1:] , axis=1) )\n",
    "    lower_bounds = [0] * (num_machines - 1)\n",
    "    \n",
    "    if jobs_squence :\n",
    "        CT = incremental_cost(machine_job_matrix.T, jobs_squence)\n",
    "        \n",
    "        \n",
    "        \n",
    "        for machine in range(1, num_machines):\n",
    "            ct = CT[ -1 , machine]\n",
    "            cost_unhandeled_job = np.sum(machine_job_matrix[unhandeled_job][:,machine])\n",
    "            cost_last_job_las_machine = min(np.sum(\n",
    "                machine_job_matrix[unhandeled_job][:, machine+1:], axis=1))if machine != num_machines - 1 else 0\n",
    "\n",
    "            lower_bounds[machine - 1] = ct + cost_unhandeled_job + cost_last_job_las_machine\n",
    "    else :\n",
    "        for machine in range(1,num_machines):\n",
    "            ct = 0\n",
    "            cost_unhandeled_job = np.sum(\n",
    "                machine_job_matrix[unhandeled_job][:, machine])\n",
    "            cost_last_job_las_machine = min(np.sum(\n",
    "                machine_job_matrix[unhandeled_job][:, machine+1:],axis=1)) if machine != num_machines - 1 else 0\n",
    "            lower_bounds[machine - 1] = ct + cost_unhandeled_job + cost_last_job_las_machine\n",
    "\n",
    "    return  max([LBt, LB1] + lower_bounds)"
   ]
  },
  {
   "cell_type": "markdown",
   "id": "0bdab97e",
   "metadata": {
    "tags": []
   },
   "source": [
    "# Heuristics"
   ]
  },
  {
   "cell_type": "markdown",
   "id": "eb839016-95af-4c9b-b23c-3d8398ee5ccb",
   "metadata": {},
   "source": [
    "## NEH Algorithm"
   ]
  },
  {
   "cell_type": "code",
   "execution_count": 90,
   "id": "07f43b4e",
   "metadata": {},
   "outputs": [],
   "source": [
    "def order_jobs_in_descending_order_of_total_completion_time(processing_times):\n",
    "    total_completion_time = processing_times.sum(axis=1)\n",
    "    return np.argsort(total_completion_time, axis=0).tolist()"
   ]
  },
  {
   "cell_type": "code",
   "execution_count": 91,
   "id": "2dff1614",
   "metadata": {},
   "outputs": [],
   "source": [
    "def insertion(sequence, position, value):\n",
    "    new_seq = sequence[:]\n",
    "    new_seq.insert(position, value)\n",
    "    return new_seq"
   ]
  },
  {
   "cell_type": "code",
   "execution_count": 92,
   "id": "72c7b39a",
   "metadata": {},
   "outputs": [],
   "source": [
    "def neh_algorithm(processing_times):\n",
    "    ordered_sequence = order_jobs_in_descending_order_of_total_completion_time(processing_times)\n",
    "    # Define the initial order\n",
    "    J1, J2 = ordered_sequence[:2]\n",
    "    sequence = [J1, J2] if evaluate_sequence([J1, J2], processing_times) < evaluate_sequence([J2, J1], processing_times) else [J2, J1]\n",
    "    del ordered_sequence[:2]\n",
    "    # Add remaining jobs\n",
    "    for job in ordered_sequence:\n",
    "        Cmax = float('inf')\n",
    "        best_sequence = []\n",
    "        for i in range(len(sequence)+1):\n",
    "            new_sequence = insertion(sequence, i, job)\n",
    "            Cmax_eval = evaluate_sequence(new_sequence, processing_times)\n",
    "            if Cmax_eval < Cmax:\n",
    "                Cmax = Cmax_eval\n",
    "                best_sequence = new_sequence\n",
    "        sequence = best_sequence\n",
    "    return sequence, Cmax"
   ]
  },
  {
   "cell_type": "markdown",
   "id": "1d09c8ba",
   "metadata": {},
   "source": [
    "## Johnson Algorithm"
   ]
  },
  {
   "cell_type": "code",
   "execution_count": 93,
   "id": "8e7518ba",
   "metadata": {},
   "outputs": [],
   "source": [
    "def johnson_method(processing_times):\n",
    "    jobs, machines = processing_times.shape\n",
    "    copy_processing_times = processing_times.copy()\n",
    "    maximum = processing_times.max() + 1\n",
    "    m1 = []\n",
    "    m2 = []\n",
    "    \n",
    "    if machines != 2:\n",
    "        raise Exception(\"Johson method only works with two machines\")\n",
    "        \n",
    "    for i in range(jobs):\n",
    "        minimum = copy_processing_times.min()\n",
    "        position = np.where(copy_processing_times == minimum)\n",
    "        \n",
    "        if position[1][0] == 0:\n",
    "            m1.append(position[0][0])\n",
    "        else:\n",
    "            m2.insert(0, position[0][0])\n",
    "        \n",
    "        copy_processing_times[position[0][0]] = maximum\n",
    "        \n",
    "    return m1+m2"
   ]
  },
  {
   "cell_type": "code",
   "execution_count": 94,
   "id": "eea7148c",
   "metadata": {},
   "outputs": [
    {
     "name": "stdout",
     "output_type": "stream",
     "text": [
      "[[ 8 17]\n",
      " [14  6]\n",
      " [13  7]\n",
      " [14 17]\n",
      " [22 19]\n",
      " [18  5]\n",
      " [ 8 13]] \n",
      "\n",
      "Best sequence found by Johnson is [0, 6, 3, 4, 2, 1, 5] with a makespan of 102.0\n",
      "Elapsed time: 0.0 seconds\n"
     ]
    }
   ],
   "source": [
    "# Generate a random example to work with 7 jobs and 2 machines\n",
    "rnd_data = np.random.randint(size=(7,2), low=5, high=23)\n",
    "print(rnd_data, \"\\n\")\n",
    "\n",
    "start_time = time.time()\n",
    "sol = johnson_method(rnd_data)\n",
    "elapsed_time = time.time() - start_time\n",
    "\n",
    "print(f'Best sequence found by Johnson is {sol} with a makespan of {evaluate_sequence(sol, rnd_data)}')\n",
    "print(\"Elapsed time:\", elapsed_time, \"seconds\")"
   ]
  },
  {
   "cell_type": "markdown",
   "id": "5305d103",
   "metadata": {},
   "source": [
    "## Tests utils"
   ]
  },
  {
   "cell_type": "markdown",
   "id": "44f15289",
   "metadata": {},
   "source": [
    "## Branch & Bound\n",
    "\n",
    "here we have the definition of a node class, and the branch and bound algorithm, where we will use the incremental_cost calculation and the evaluation functions"
   ]
  },
  {
   "cell_type": "code",
   "execution_count": 95,
   "id": "f5b344ec",
   "metadata": {},
   "outputs": [],
   "source": [
    "class Node:\n",
    "    def __init__(self, jobs, remaining_jobs, parent=None, lower_bound=0):\n",
    "        self.jobs = jobs\n",
    "        self.remaining_jobs = remaining_jobs\n",
    "        self.parent = parent\n",
    "        self.lower_bound = lower_bound"
   ]
  },
  {
   "cell_type": "code",
   "execution_count": 96,
   "id": "3e7ce5b3-7bcf-4698-a3e2-3c60c99b741c",
   "metadata": {},
   "outputs": [],
   "source": [
    "from queue import PriorityQueue\n",
    "\n",
    "\n",
    "class PriorityQueueNode:\n",
    "    def __init__(self, jobs, remaining_jobs, lower_bound):\n",
    "        self.jobs = jobs\n",
    "        self.remaining_jobs = remaining_jobs\n",
    "        self.lower_bound = lower_bound\n",
    "\n",
    "    def __lt__(self, other):\n",
    "        return self.lower_bound < other.lower_bound\n",
    "\n",
    "\n",
    "def branch_and_bound(processing_times, initial_cost):\n",
    "    jobs, machines = processing_times.shape\n",
    "    root_node = PriorityQueueNode([], set(range(jobs)), lower_bound=0)\n",
    "    best_solution = None\n",
    "    best_solution_cost = initial_cost\n",
    "    nodes = PriorityQueue()\n",
    "    nodes.put(root_node)\n",
    "    i = 0\n",
    "\n",
    "    while not nodes.empty():\n",
    "        node = nodes.get()\n",
    "        for job in sorted(node.remaining_jobs):\n",
    "            child_jobs = node.jobs + [job]\n",
    "            child_remaining_jobs = node.remaining_jobs - {job}\n",
    "            child_lower_bound = evaluate_sequence(child_jobs, processing_times)\n",
    "\n",
    "            if child_lower_bound >= best_solution_cost:\n",
    "                continue\n",
    "\n",
    "            if not child_remaining_jobs and child_lower_bound < best_solution_cost:\n",
    "                best_solution = child_jobs\n",
    "                best_solution_cost = child_lower_bound\n",
    "            elif child_lower_bound < best_solution_cost:\n",
    "                child_node = PriorityQueueNode(\n",
    "                    child_jobs, child_remaining_jobs, lower_bound=child_lower_bound)\n",
    "                nodes.put(child_node)\n",
    "        i += 1\n",
    "\n",
    "    return best_solution, best_solution_cost, i"
   ]
  },
  {
   "cell_type": "markdown",
   "id": "869e95b5",
   "metadata": {
    "tags": []
   },
   "source": [
    "## Tests Branch and bound"
   ]
  },
  {
   "cell_type": "markdown",
   "id": "9b112eca-7cbd-4572-b75c-9e090eb7ea4c",
   "metadata": {},
   "source": [
    "## Random instance"
   ]
  },
  {
   "cell_type": "code",
   "execution_count": 97,
   "id": "933a24ac",
   "metadata": {},
   "outputs": [
    {
     "name": "stdout",
     "output_type": "stream",
     "text": [
      "[[48 18 36 29 41]\n",
      " [25 44 16 17 36]\n",
      " [34 44 15 30 15]\n",
      " [13 13 43 27 18]\n",
      " [21 37 13 11 21]\n",
      " [26 26 30 36 27]\n",
      " [48 22 39 42 26]\n",
      " [31 36 13 29 49]] \n",
      "\n"
     ]
    }
   ],
   "source": [
    "rnd_data = np.random.randint(size=(8,5), low=10, high=50)\n",
    "print(rnd_data, \"\\n\")"
   ]
  },
  {
   "cell_type": "markdown",
   "id": "e5d670cf",
   "metadata": {},
   "source": [
    "### Test with branch and bound"
   ]
  },
  {
   "cell_type": "code",
   "execution_count": 98,
   "id": "193f0331-0489-4a2c-9c81-97d600f33f86",
   "metadata": {},
   "outputs": [
    {
     "name": "stdout",
     "output_type": "stream",
     "text": [
      "Results of Branch & Bound:\n",
      "Best sequence is [3, 5, 1, 7, 6, 4, 0, 2] with a makespan of 351.0.\n",
      "No. Nodes visited is 874.\n",
      "Elapsed time of 0.34921693801879883 seconds.\n"
     ]
    }
   ],
   "source": [
    "initial_solution = [i for i in range(8)]\n",
    "initial_cost = evaluate_sequence(initial_solution, rnd_data)\n",
    "\n",
    "start_time = time.time()\n",
    "best_solution, best_cost, i = branch_and_bound(rnd_data, initial_cost)\n",
    "elapsed_time = time.time() - start_time\n",
    "\n",
    "print(f'Results of Branch & Bound:')\n",
    "print(f'Best sequence is {best_solution} with a makespan of {best_cost}.')\n",
    "print(f'No. Nodes visited is {i}.')\n",
    "print(f'Elapsed time of {elapsed_time} seconds.')"
   ]
  },
  {
   "cell_type": "markdown",
   "id": "23bb1dae",
   "metadata": {},
   "source": [
    "### Test with NEH"
   ]
  },
  {
   "cell_type": "code",
   "execution_count": 99,
   "id": "5870bc3e-2204-44e8-8b60-f9212b433e47",
   "metadata": {},
   "outputs": [
    {
     "name": "stdout",
     "output_type": "stream",
     "text": [
      "Results of Branch & Bound (with NEH Initialization):\n",
      "Best sequence is [3, 5, 1, 7, 6, 4, 0, 2] with a makespan of 351.0.\n",
      "No. Nodes visited is 565.\n",
      "Elapsed time of 0.2569124698638916 seconds.\n"
     ]
    }
   ],
   "source": [
    "initial_solution, initial_cost = neh_algorithm(rnd_data)\n",
    "\n",
    "start_time = time.time()\n",
    "best_solution, best_cost, i = branch_and_bound(rnd_data, initial_cost)\n",
    "elapsed_time = time.time() - start_time\n",
    "\n",
    "print(f'Results of Branch & Bound (with NEH Initialization):')\n",
    "print(f'Best sequence is {best_solution} with a makespan of {best_cost}.')\n",
    "print(f'No. Nodes visited is {i}.')\n",
    "print(f'Elapsed time of {elapsed_time} seconds.')"
   ]
  },
  {
   "cell_type": "markdown",
   "id": "1c80064d",
   "metadata": {},
   "source": [
    "### Test with BruteForce"
   ]
  },
  {
   "cell_type": "code",
   "execution_count": 100,
   "id": "9aca0f2c",
   "metadata": {},
   "outputs": [],
   "source": [
    "def all_permutations(iterable):\n",
    "    permutations = list(itertools.permutations(iterable))\n",
    "    permutations_as_lists = [list(p) for p in permutations]\n",
    "    return permutations_as_lists"
   ]
  },
  {
   "cell_type": "code",
   "execution_count": 101,
   "id": "e3e71789",
   "metadata": {},
   "outputs": [
    {
     "name": "stdout",
     "output_type": "stream",
     "text": [
      "Results of Branch & Bound (with BruteFroce):\n",
      "Best sequence is [3, 5, 1, 7, 6, 4, 0, 2] with a makespan of 351.0.\n",
      "Elapsed time of 1.8338830471038818 seconds.\n"
     ]
    }
   ],
   "source": [
    "start_time = time.time()\n",
    "\n",
    "best_cost = math.inf\n",
    "best_solution = None\n",
    "for i in all_permutations(range(8)):\n",
    "    gg = evaluate_sequence(i,rnd_data)\n",
    "    if gg < best_cost:\n",
    "        best_cost = gg\n",
    "        best_solution = i\n",
    "\n",
    "\n",
    "elapsed_time = time.time() - start_time\n",
    "\n",
    "print(f'Results of Branch & Bound (with BruteFroce):')\n",
    "print(f'Best sequence is {best_solution} with a makespan of {best_cost}.')\n",
    "print(f'Elapsed time of {elapsed_time} seconds.')\n",
    "\n"
   ]
  },
  {
   "cell_type": "markdown",
   "id": "b930a42d",
   "metadata": {},
   "source": [
    "## Common Instance"
   ]
  },
  {
   "cell_type": "code",
   "execution_count": 102,
   "id": "4bd1ac1c",
   "metadata": {},
   "outputs": [],
   "source": [
    "instance_common = np.array([\n",
    "    [71, 79, 85, 82, 83], \n",
    "    [84, 71, 66, 68, 81],\n",
    "    [78, 81, 75, 72, 87],\n",
    "    [78, 75, 66, 72, 88],\n",
    "    [72, 88, 83, 85, 88],\n",
    "    [86, 88, 79, 82, 78],\n",
    "    [75, 66, 86, 78, 78],\n",
    "    [80, 79, 66, 83, 78],\n",
    "    [73, 73, 67, 77, 71],\n",
    "    [80, 77, 83, 78, 67],\n",
    "])"
   ]
  },
  {
   "cell_type": "code",
   "execution_count": 103,
   "id": "a321fa13-0ada-4f1f-9c29-61bcac1075e3",
   "metadata": {},
   "outputs": [
    {
     "data": {
      "text/plain": [
       "(10, 5)"
      ]
     },
     "execution_count": 103,
     "metadata": {},
     "output_type": "execute_result"
    }
   ],
   "source": [
    "instance_common.shape"
   ]
  },
  {
   "cell_type": "code",
   "execution_count": 104,
   "id": "8b49a261-4d5e-4fa4-8644-481177b4122c",
   "metadata": {},
   "outputs": [
    {
     "name": "stdout",
     "output_type": "stream",
     "text": [
      "Results of Branch & Bound:\n",
      "Best sequence is [3, 2, 7, 6, 8, 0, 1, 4, 5, 9] with a makespan of 1102.0.\n",
      "No. Nodes visited is 1140.\n",
      "Elapsed time of 0.684481143951416 seconds.\n"
     ]
    }
   ],
   "source": [
    "initial_solution = [i for i in range(10)]\n",
    "initial_cost = evaluate_sequence(initial_solution, instance_common)\n",
    "\n",
    "start_time = time.time()\n",
    "best_solution, best_cost, i = branch_and_bound(instance_common, initial_cost)\n",
    "elapsed_time = time.time() - start_time\n",
    "\n",
    "print(f'Results of Branch & Bound:')\n",
    "print(f'Best sequence is {best_solution} with a makespan of {best_cost}.')\n",
    "print(f'No. Nodes visited is {i}.')\n",
    "print(f'Elapsed time of {elapsed_time} seconds.')"
   ]
  },
  {
   "cell_type": "markdown",
   "id": "31f93783",
   "metadata": {},
   "source": [
    "## TESTS TAI Benchmark\n",
    "We have taken two instances form the benchmark, tested them using i7 11nth generation with 16 ram"
   ]
  },
  {
   "cell_type": "code",
   "execution_count": 105,
   "id": "c175af20",
   "metadata": {},
   "outputs": [],
   "source": [
    "instances = read_flow_shop_data('./../data/tai20_5.txt', 5, 20)"
   ]
  },
  {
   "cell_type": "markdown",
   "id": "71b8c35d",
   "metadata": {},
   "source": [
    "## TEST instance 7"
   ]
  },
  {
   "cell_type": "code",
   "execution_count": 106,
   "id": "6920d4cf",
   "metadata": {},
   "outputs": [],
   "source": [
    "\n",
    "comman_instances = instances[6][2].T"
   ]
  },
  {
   "cell_type": "code",
   "execution_count": 107,
   "id": "24f8e816",
   "metadata": {},
   "outputs": [
    {
     "data": {
      "text/plain": [
       "(20, 5)"
      ]
     },
     "execution_count": 107,
     "metadata": {},
     "output_type": "execute_result"
    }
   ],
   "source": [
    "comman_instances.shape"
   ]
  },
  {
   "cell_type": "code",
   "execution_count": 108,
   "id": "6e39f411",
   "metadata": {},
   "outputs": [
    {
     "name": "stdout",
     "output_type": "stream",
     "text": [
      "Results of Branch & Bound:\n",
      "Best sequence is [9, 1, 12, 0, 18, 16, 15, 19, 14, 2, 10, 3, 4, 13, 5, 7, 8, 11, 6, 17] with a makespan of 1234.0.\n",
      "No. Nodes visited is 1531.\n",
      "Elapsed time of 2.5758421421051025 seconds.\n"
     ]
    }
   ],
   "source": [
    "initial_solution = [i for i in range(20)]\n",
    "initial_cost = evaluate_sequence(initial_solution,  comman_instances)\n",
    "\n",
    "start_time = time.time()\n",
    "best_solution, best_cost, i = branch_and_bound(comman_instances, initial_cost)\n",
    "elapsed_time = time.time() - start_time\n",
    "\n",
    "print(f'Results of Branch & Bound:')\n",
    "print(f'Best sequence is {best_solution} with a makespan of {best_cost}.')\n",
    "print(f'No. Nodes visited is {i}.')\n",
    "print(f'Elapsed time of {elapsed_time} seconds.')\n"
   ]
  },
  {
   "cell_type": "code",
   "execution_count": 109,
   "id": "67d3cb86",
   "metadata": {},
   "outputs": [
    {
     "name": "stderr",
     "output_type": "stream",
     "text": [
      "C:\\Users\\DSI\\AppData\\Local\\Temp\\ipykernel_22476\\266832772.py:18: FutureWarning: The behavior of DataFrame concatenation with empty or all-NA entries is deprecated. In a future version, this will no longer exclude empty or all-NA columns when determining the result dtypes. To retain the old behavior, exclude the relevant entries before the concat operation.\n",
      "  df = pd.concat([df, pd.DataFrame({'Machine': f'Machine {machine_index + 1}',\n"
     ]
    },
    {
     "data": {
      "image/png": "[encoded data removed]",
      "text/plain": [
       "<Figure size 2000x1200 with 1 Axes>"
      ]
     },
     "metadata": {},
     "output_type": "display_data"
    }
   ],
   "source": [
    "generate_gantt_chart(comman_instances.T, best_solution)"
   ]
  },
  {
   "cell_type": "code",
   "execution_count": 110,
   "id": "87b14559",
   "metadata": {},
   "outputs": [],
   "source": [
    "\n",
    "comman_instances = instances[1][2].T"
   ]
  },
  {
   "cell_type": "code",
   "execution_count": 111,
   "id": "e0f393ff",
   "metadata": {},
   "outputs": [
    {
     "name": "stdout",
     "output_type": "stream",
     "text": [
      "Results of Branch & Bound:\n",
      "Best sequence is [5, 9, 16, 6, 18, 13, 8, 11, 17, 14, 12, 4, 15, 0, 2, 10, 19, 7, 3, 1] with a makespan of 1359.0.\n",
      "No. Nodes visited is 2134.\n",
      "Elapsed time of 3.9788737297058105 seconds.\n"
     ]
    }
   ],
   "source": [
    "initial_solution = [i for i in range(20)]\n",
    "initial_cost = evaluate_sequence(initial_solution,  comman_instances)\n",
    "\n",
    "start_time = time.time()\n",
    "best_solution, best_cost, i = branch_and_bound(comman_instances, initial_cost)\n",
    "elapsed_time = time.time() - start_time\n",
    "\n",
    "print(f'Results of Branch & Bound:')\n",
    "print(f'Best sequence is {best_solution} with a makespan of {best_cost}.')\n",
    "print(f'No. Nodes visited is {i}.')\n",
    "print(f'Elapsed time of {elapsed_time} seconds.')"
   ]
  },
  {
   "cell_type": "code",
   "execution_count": 112,
   "id": "ccbdb688",
   "metadata": {},
   "outputs": [
    {
     "name": "stderr",
     "output_type": "stream",
     "text": [
      "C:\\Users\\DSI\\AppData\\Local\\Temp\\ipykernel_22476\\266832772.py:18: FutureWarning: The behavior of DataFrame concatenation with empty or all-NA entries is deprecated. In a future version, this will no longer exclude empty or all-NA columns when determining the result dtypes. To retain the old behavior, exclude the relevant entries before the concat operation.\n",
      "  df = pd.concat([df, pd.DataFrame({'Machine': f'Machine {machine_index + 1}',\n"
     ]
    },
    {
     "data": {
      "image/png": "[encoded data removed]",
      "text/plain": [
       "<Figure size 2000x1200 with 1 Axes>"
      ]
     },
     "metadata": {},
     "output_type": "display_data"
    }
   ],
   "source": [
    "generate_gantt_chart(comman_instances.T, best_solution)"
   ]
  }
 ],
 "metadata": {
  "kernelspec": {
   "display_name": "Python 3 (ipykernel)",
   "language": "python",
   "name": "python3"
  },
  "language_info": {
   "codemirror_mode": {
    "name": "ipython",
    "version": 3
   },
   "file_extension": ".py",
   "mimetype": "text/x-python",
   "name": "python",
   "nbconvert_exporter": "python",
   "pygments_lexer": "ipython3",
   "version": "3.11.5"
  }
 },
 "nbformat": 4,
 "nbformat_minor": 5
}
